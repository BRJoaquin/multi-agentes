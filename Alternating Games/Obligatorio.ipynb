{
 "cells": [
  {
   "cell_type": "markdown",
   "metadata": {},
   "source": [
    "# Obligatorio Muliti-agentes: CFR y MCTS\n",
    "\n",
    "---\n",
    "## Índice\n",
    "\n",
    "1. [Introducción](##Introducción)\n",
    "2. [Objetivos del Trabajo](##Objetivos-del-Trabajo)\n",
    "3. [Setup](##Setup)\n",
    "   1. [Entorno de Ejecución](###Entorno-de-Ejecución)\n",
    "   2. [Manejo de Dependencias](###Manejo-de-Dependencias)\n",
    "   2. [Instalación de Dependencias](###Instalación-de-Dependencias)\n",
    "4. [Counterfactual Regret Minimization](##Counterfactual-Regret-Minimization)\n",
    "   1. [Introducción a CFR](###Introducción-a-CFR)\n",
    "   2. [Implementación de CFR](###Implementación-de-CFR)\n",
    "   3. [Experimentación con Kuhn Poker](###Experimentación-con-Kuhn-Poker)\n",
    "5. [Estimación de Valor de Estados](##Estimación-de-Valor-de-Estados)\n",
    "   1. [CFR con Estimación de Valor](###CFR-con-Estimación-de-Valor)\n",
    "   2. [Funciones de Evaluación](###Funciones-de-Evaluación)\n",
    "   3. [Monte Carlo Tree Search](###Monte-Carlo-Tree-Search)\n",
    "6. [Parte C - Investigación](##Parte-C---Investigación)\n",
    "   1. [Tarea de Investigación](###Tarea-de-Investigación)\n",
    "7. [Conclusiones](##Conclusiones)\n",
    "8. [Referencias](##Referencias)\n",
    "9. [Descargo de Responsabilidad](##Descargo-de-Responsabilidad)\n",
    "\n",
    "\n",
    "## Introducción\n",
    "\n",
    "En este trabajo, exploramos la implementación y experimentación de algoritmos de aprendizaje avanzados en el contexto de juegos alternados de múltiples jugadores. Nos enfocamos específicamente en dos algoritmos clave: CFR (Counterfactual Regret Minimization) y MCTS (Monte Carlo Tree Search), aplicados a variantes de póker. Nuestro objetivo es no solo implementar estos algoritmos sino también investigar su rendimiento y efectividad en diferentes escenarios de juego.\n",
    "\n",
    "\n",
    "## Objetivos del Trabajo\n",
    "\n",
    "El principal objetivo de este trabajo es profundizar en el entendimiento y aplicación práctica de los algoritmos CFR y MCTS en entornos de juego competitivos, así como explorar posibles extensiones y mejoras a estos métodos.\n",
    "\n"
   ]
  },
  {
   "cell_type": "markdown",
   "metadata": {},
   "source": [
    "## Setup"
   ]
  },
  {
   "cell_type": "markdown",
   "metadata": {},
   "source": [
    "### Entorno de Ejecución\n",
    "\n",
    "[PettingZoo](https://pettingzoo.farama.org/index.html) es una biblioteca de juegos multiagentes que proporciona una amplia variedad de entornos diseñados específicamente para la investigación en aprendizaje por refuerzo. Este entorno será la base de nuestros experimentos, permitiéndonos simular y analizar de manera efectiva las interacciones y estrategias de los agentes en diferentes juegos.\n",
    "\n",
    "#### Características Clave de PettingZoo\n",
    "\n",
    "- **Variedad de Juegos**: Ofrece una extensa colección de juegos, incluyendo clásicos y nuevos desafíos, lo que nos permite explorar una amplia gama de escenarios y dinámicas de juego.\n",
    "- **Compatibilidad con Aprendizaje por Refuerzo**: Diseñado para ser compatible con las técnicas y algoritmos de aprendizaje por refuerzo más comunes, facilitando la integración y experimentación.\n",
    "- **Entorno Multiagente**: Especialmente orientado a entornos multiagentes, lo que lo hace ideal para estudiar juegos alternados de múltiples jugadores como los que abordaremos.\n",
    "\n",
    "#### Implementación de los Juegos\n",
    "\n",
    "En nuestro trabajo, la catedra nos proporcionó una implementación de los juegos Kuhn Poker y Leduc Poker, que utilizaremos para nuestros experimentos. Estas implementaciones se basan en la biblioteca PettingZoo.\n",
    "\n",
    "1. **Kuhn Poker**: Un juego de póker simplificado que servirá como campo de prueba para el algoritmo CFR. Experimentaremos tanto con versiones de 2 como de 3 jugadores.\n",
    "2. **Leduc Poker**: Un juego de póker más complejo que será utilizado para probar y evaluar el algoritmo MCTS, así como las funciones de evaluación integradas.\n",
    "\n",
    "Estos juegos nos proporcionarán una plataforma sólida para implementar, probar y analizar los algoritmos de aprendizaje en un contexto competitivo y controlado.\n"
   ]
  },
  {
   "cell_type": "markdown",
   "metadata": {},
   "source": [
    "\n",
    "### Manejo de Dependencias\n",
    "\n",
    "Para garantizar la consistencia y reproducibilidad de nuestros experimentos, utilizaremos [Conda](https://docs.conda.io/en/latest/), un sistema de gestión de paquetes y entornos, que nos permitirá crear un entorno aislado con todas las dependencias necesarias para nuestro proyecto.\n",
    "\n",
    "> **Nota**: Para instalar Conda, siga las instrucciones en la [documentación oficial](https://docs.conda.io/projects/conda/en/latest/user-guide/install/index.html).\n",
    "\n",
    "\n",
    "#### Ventajas de Usar Conda\n",
    "\n",
    "- **Reproducibilidad**: Conda nos ayuda a garantizar que todos los experimentos se puedan reproducir en diferentes máquinas con las mismas versiones de paquetes y dependencias.\n",
    "- **Gestión de Dependencias**: Maneja fácilmente las dependencias y paquetes necesarios para el proyecto.\n",
    "- **Entornos Aislados**: Permite crear entornos aislados para evitar conflictos entre distintos proyectos.\n",
    "\n",
    "\n",
    "#### Archivo `environment.yml`\n",
    "\n",
    "En la raíz del proyecto, hemos incluido un archivo `environment.yml` que contiene todas las especificaciones necesarias para crear el entorno de Conda adecuado. Este archivo incluye:\n",
    "\n",
    "- Las versiones específicas de Python y las bibliotecas necesarias.\n",
    "- Dependencias adicionales requeridas para ejecutar los algoritmos de aprendizaje por refuerzo y los juegos en PettingZoo.\n",
    "\n",
    "#### Creación del Entorno con `environment.yml`\n",
    "\n",
    "Para crear el entorno utilizando este archivo, ejecute el siguiente comando en su terminal:\n",
    "\n",
    "```bash\n",
    "conda env create -f environment.yml\n",
    "```\n",
    "\n",
    "Una vez creado el entorno, puede activarlo usando:\n",
    "\n",
    "```bash\n",
    "conda activate multi-agentes\n",
    "```\n"
   ]
  },
  {
   "cell_type": "markdown",
   "metadata": {},
   "source": [
    "### Instalación de Dependencias"
   ]
  },
  {
   "cell_type": "code",
   "execution_count": 1,
   "metadata": {},
   "outputs": [],
   "source": [
    "# Entornos\n",
    "import pettingzoo\n",
    "from base.game import AlternatingGame, AgentID\n",
    "\n",
    "# Agentes\n",
    "from agents.counterfactualregret import CounterFactualRegret\n",
    "from agents.counterfactualregretv2 import EnhancedCounterFactualRegret\n",
    "from agents.mcts_t import MonteCarloTreeSearch\n",
    "from agents.agent_random import RandomAgent\n",
    "\n",
    "# Juegos\n",
    "from games.kuhn import KuhnPoker\n",
    "from games.kuhn3 import KuhnPoker3\n",
    "from games.leduc import Leduc\n",
    "\n",
    "# Herramientas\n",
    "from tqdm import tqdm\n",
    "from base.utils import run, plot_rewards\n",
    "import numpy as np\n",
    "import random\n",
    "import matplotlib.pyplot as plt\n"
   ]
  },
  {
   "cell_type": "markdown",
   "metadata": {},
   "source": [
    "### Semilla para Reproducibilidad"
   ]
  },
  {
   "cell_type": "code",
   "execution_count": 2,
   "metadata": {},
   "outputs": [],
   "source": [
    "SEED = 134\n",
    "np.random.seed(SEED)\n",
    "random.seed(SEED)"
   ]
  },
  {
   "cell_type": "markdown",
   "metadata": {},
   "source": [
    "## Counterfactual Regret Minimization\n",
    "\n",
    "### Introducción a CFR\n",
    "\n",
    "La técnica de Counterfactual Regret Minimization (CFR) representa un hito fundamental en el campo del aprendizaje por refuerzo, particularmente en juegos de información imperfecta como el póker. CFR es un algoritmo que itera sobre posibles estrategias para minimizar el arrepentimiento contrafactual, es decir, la diferencia entre la recompensa obtenida y la que se hubiera obtenido si se hubiera jugado de manera óptima en cada estado del juego.\n",
    "\n",
    "#### Fundamentos\n",
    "\n",
    "El CFR trabaja analizando las decisiones tomadas en cada punto de decisión de un juego y evaluando el \"arrepentimiento\" de no haber tomado otras alternativas. Esta evaluación se basa en la noción de arrepentimiento contrafactual, que es la diferencia entre el beneficio obtenido y el beneficio que se hubiera obtenido si se hubiera jugado la mejor estrategia posible en retrospectiva.\n",
    "\n",
    "#### Aplicaciones\n",
    "\n",
    "Este método ha demostrado ser particularmente poderoso en juegos de póker, donde la información es incompleta y las estrategias óptimas no son siempre claras. La implementación de CFR en juegos como Kuhn Poker y Leduc Poker nos permite explorar cómo este algoritmo puede adaptarse y aprender estrategias efectivas en entornos de decisión complejos y dinámicos.\n",
    "\n",
    "#### Objetivo de la Sección\n",
    "\n",
    "En esta sección, nos enfocaremos en la implementación del algoritmo CFR. Detallaremos su estructura, funcionamiento y aplicaremos el algoritmo a juegos de póker de múltiples jugadores, analizando cómo se adapta y evoluciona la estrategia del juego a lo largo de múltiples iteraciones.\n",
    "\n"
   ]
  },
  {
   "cell_type": "markdown",
   "metadata": {},
   "source": [
    "### Implementación de CFR\n",
    "\n",
    "En este proyecto, hemos implementado el algoritmo Counterfactual Regret Minimization (CFR) para experimentar en juegos de póker (aunque podrian ser usados en otros contextos). Esta implementación se centra en desarrollar y refinar estrategias de juego en entornos de información imperfecta. El código completo para esta implementación se puede encontrar en el archivo `/agents/counterfactualregret.py` del proyecto.\n",
    "\n",
    "#### Descripción de la Implementación\n",
    "\n",
    "La implementación de CFR en nuestro proyecto consta de varias partes clave:\n",
    "\n",
    "1. **Clase `Node`**: Representa un nodo en el árbol de juego. Cada nodo contiene información sobre el estado del juego (information set), el agente actual, la observación recibida y mantiene un registro del arrepentimiento acumulado y la política aprendida.\n",
    "\n",
    "2. **Métodos de Actualización y Estrategia**: Dentro de la clase `Node`, se implementan métodos para actualizar los valores de arrepentimiento contrafactual y para ajustar la estrategia actual basada en estos arrepentimientos.\n",
    "\n",
    "3. **Clase `CounterFactualRegret`**: Extiende la clase `Agent` (basado en `PettingZoo`) y se utiliza para representar un agente que emplea CFR. Contiene métodos para realizar acciones, entrenar utilizando CFR y realizar el algoritmo de CFR de manera recursiva.\n",
    "\n",
    "4. **Función `cfr_rec`**: Implementa la lógica del CFR de manera recursiva, calculando la utilidad de cada nodo y actualizando la estrategia y los arrepentimientos.\n",
    "\n",
    "#### Naturaleza Agnóstica al Juego de las Implementaciones de Agentes\n",
    "\n",
    "Es importante destacar un aspecto fundamental de nuestras implementaciones de agentes, incluido el agente que utiliza el algoritmo Counterfactual Regret Minimization (CFR). Estos agentes son **agnósticos al juego**, lo que significa que su diseño y funcionamiento no están limitados o definidos por las reglas o acciones específicas de un juego en particular, o por la cantidad de jugadores. En cambio, estos agentes se pueden utilizar en cualquier juego que cumpla con los requisitos básicos de la biblioteca PettingZoo, lo que los hace altamente adaptables y reutilizables."
   ]
  },
  {
   "cell_type": "markdown",
   "metadata": {},
   "source": [
    "### Experimentación con Kuhn Poker\n",
    "\n",
    "[Kuhn Poker](https://en.wikipedia.org/wiki/Kuhn_poker) es un juego de póker simplificado que sirve como un modelo excelente para estudiar algoritmos de aprendizaje por refuerzo en juegos de información imperfecta. Este juego representa una versión reducida del póker tradicional, lo que lo convierte en un entorno ideal para experimentos y análisis en el campo de la teoría de juegos y la inteligencia artificial.\n",
    "\n",
    "\n",
    "![CFR](_assets/CFR-poker.png)\n",
    "\n",
    "#### Descripción del Kuhn Poker\n",
    "\n",
    "- **Jugadores**: El juego clásico involucra a 2 jugadores, aunque puede adaptarse para 3 jugadores.\n",
    "- **Baraja**: Se utiliza una baraja reducida, típicamente con tres cartas (por ejemplo, un As, un Rey y una Reina).\n",
    "- **Dinámica del Juego**: Cada jugador recibe una carta y tiene la opción de apostar (bet) o pasar (check). El juego tiene una estructura de apuestas limitada y presenta oportunidades para [farolear](https://es.wikipedia.org/wiki/Farol_(envite)) y realizar estrategias basadas en la información limitada.\n",
    "\n",
    "#### Experimentación Planeada\n",
    "\n",
    "En nuestro proyecto, experimentaremos con Kuhn Poker de la siguiente manera:\n",
    "\n",
    "1. **Con 2 Jugadores**: Inicialmente, nos enfocaremos en la versión clásica de Kuhn Poker con 2 jugadores. Aquí, aplicaremos y evaluaremos el algoritmo de Counterfactual Regret Minimization para desarrollar estrategias efectivas y analizar cómo los agentes aprenden y se adaptan a lo largo de múltiples juegos.\n",
    "\n",
    "2. **Expansión a 3 Jugadores**: Posteriormente, expandiremos nuestra experimentación para incluir una versión de 3 jugadores del juego. Esta variante presenta desafíos adicionales y complejidades, permitiéndonos explorar cómo los algoritmos se adaptan a un entorno de juego más dinámico y a la presencia de un jugador adicional.\n",
    "\n",
    "Estas experimentaciones nos permitirán obtener una comprensión más profunda de la efectividad del algoritmo CFR y cómo se puede adaptar a diferentes configuraciones de juego."
   ]
  },
  {
   "cell_type": "markdown",
   "metadata": {},
   "source": [
    "### Kuhn Poker con 2 Jugadores\n",
    "\n",
    "#### CFR vs Random"
   ]
  },
  {
   "cell_type": "code",
   "execution_count": null,
   "metadata": {},
   "outputs": [],
   "source": [
    "khun2 = KuhnPoker(render_mode='')\n",
    "khun2.reset() # Reseteamos el juego\n",
    "\n",
    "# Creamos los agentes\n",
    "cfr_agent = CounterFactualRegret(game=khun2, agent=khun2.agents[0])\n",
    "random_agent = RandomAgent(game=khun2, agent=khun2.agents[1])\n",
    "\n",
    "agents = {\n",
    "    khun2.agents[0]: cfr_agent,\n",
    "    khun2.agents[1]: random_agent\n",
    "}"
   ]
  },
  {
   "cell_type": "code",
   "execution_count": null,
   "metadata": {},
   "outputs": [],
   "source": [
    "# entrenamos\n",
    "KHUN2_TRAINING_STEPS = 10_000\n",
    "cfr_agent.train(KHUN2_TRAINING_STEPS)"
   ]
  },
  {
   "cell_type": "code",
   "execution_count": 5,
   "metadata": {},
   "outputs": [],
   "source": [
    "# Imrimimos la estrategia de nuestro agente CFR\n",
    "def print_strategy(agent):\n",
    "    for n in sorted(agent.node_dict.keys()): \n",
    "        print(n + '\\t', agent.node_dict[n].agent + '\\t', agent.node_dict[n].policy())\n",
    "\n",
    "print_strategy(cfr_agent)"
   ]
  },
  {
   "cell_type": "code",
   "execution_count": null,
   "metadata": {},
   "outputs": [],
   "source": [
    "KHUN2_GAME_ROUNDS = 1_000_000\n",
    "_, mean_reward = run(khun2, agents, KHUN2_GAME_ROUNDS)\n",
    "\n",
    "print(mean_reward)"
   ]
  },
  {
   "cell_type": "markdown",
   "metadata": {},
   "source": [
    "Podemos observar que la estrategia aprendida por el agente CFR es mucho más efectiva que la estrategia aleatoria ya que en promedio gana más fichas. Esto se debe a que el agente CFR aprende a jugar de manera óptima en cada estado del juego, mientras que el agente aleatorio simplemente toma decisiones aleatorias.\n",
    "\n",
    "> Cabe destacar que en este caso el agente CFR es siempre el primer jugador, por lo que tiene una [desventaja inicial](https://en.wikipedia.org/wiki/Kuhn_poker#Optimal_strategy). "
   ]
  },
  {
   "cell_type": "markdown",
   "metadata": {},
   "source": [
    "#### CFR vs CFR"
   ]
  },
  {
   "cell_type": "code",
   "execution_count": null,
   "metadata": {},
   "outputs": [],
   "source": [
    "cfr_agent2 = CounterFactualRegret(game=khun2, agent=khun2.agents[1])\n",
    "\n",
    "agents = {\n",
    "    khun2.agents[0]: cfr_agent,\n",
    "    khun2.agents[1]: cfr_agent2\n",
    "}"
   ]
  },
  {
   "cell_type": "code",
   "execution_count": null,
   "metadata": {},
   "outputs": [],
   "source": [
    "cfr_agent2.train(KHUN2_TRAINING_STEPS)"
   ]
  },
  {
   "cell_type": "code",
   "execution_count": null,
   "metadata": {},
   "outputs": [],
   "source": [
    "print(\"\\nAgent 1 strategy:\\n\")\n",
    "print_strategy(cfr_agent)\n",
    "\n",
    "print(\"\\nAgent 2 strategy:\\n\")\n",
    "print_strategy(cfr_agent2)"
   ]
  },
  {
   "cell_type": "code",
   "execution_count": null,
   "metadata": {},
   "outputs": [],
   "source": [
    "_, mean_reward = run(khun2, agents, KHUN2_GAME_ROUNDS)\n",
    "\n",
    "print(mean_reward)"
   ]
  },
  {
   "cell_type": "markdown",
   "metadata": {},
   "source": [
    "Podemos concluir que llegamos a un [Equilibrio de Nash](https://es.wikipedia.org/wiki/Equilibrio_de_Nash), donde el primer jugador 1 tiene una recompensa esperada de ~1/18:\n",
    "\n",
    "> \"The game has a mixed-strategy Nash equilibrium; when both players play equilibrium strategies, the first player should expect to lose at a rate of −1/18 per hand (as the game is zero-sum, the second player should expect to win at a rate of +1/18). There is no pure-strategy equilibrium.\" - [Wikipedia](https://en.wikipedia.org/wiki/Kuhn_poker#Optimal_strategy)"
   ]
  },
  {
   "cell_type": "markdown",
   "metadata": {},
   "source": [
    "### Kuhn Poker con 3 Jugadores\n",
    "\n",
    "En esta sección, extendemos nuestra exploración del Kuhn Poker a un escenario más complejo y desafiante: un juego con tres jugadores. El Kuhn Poker de tres jugadores introduce una dinámica de juego adicional y requiere estrategias más sofisticadas, dada la presencia de un jugador extra. Este entorno nos permite investigar cómo los algoritmos de aprendizaje por refuerzo, específicamente el CFR, se adaptan y se desempeñan en un contexto de juego más complejo.\n",
    "\n",
    "#### CFR vs CFR vs CFR\n",
    "\n",
    "Para evaluar el rendimiento del algoritmo CFR en este contexto, configuramos un experimento donde tres agentes independientes, cada uno utilizando una instancia del algoritmo CFR, compiten entre sí. \n",
    "\n",
    "#### Expectativas de Utilidad: \\( u_1 < u_2 < u_3 \\)\n",
    "\n",
    "En términos de resultados, esperamos observar una relación específica en las utilidades obtenidas por los tres agentes, específicamente \\( u_1 < u_2 < u_3 \\). Esta expectativa se basa en la hipótesis de que el tercer jugador, al ser el último en actuar en cada ronda, tiene una ventaja estratégica al contar con más información que los otros dos jugadores. Del mismo modo, el segundo jugador tendría una ventaja sobre el primero. Esta hipótesis será probada y analizada a través de los resultados obtenidos en nuestras experimentaciones.\n",
    "\n",
    "Esta fase del proyecto no solo nos proporcionará insights sobre el rendimiento del CFR en un escenario de tres jugadores, sino que también ampliará nuestra comprensión sobre la dinámica de los juegos de información imperfecta y las estrategias óptimas en dichos contextos.\n"
   ]
  },
  {
   "cell_type": "code",
   "execution_count": null,
   "metadata": {},
   "outputs": [],
   "source": [
    "khun3 = KuhnPoker3(render_mode='')\n",
    "khun3.reset() # Reseteamos el juego\n",
    "\n",
    "# Creamos los agentes\n",
    "cfr_agent1 = CounterFactualRegret(game=khun3, agent=khun3.agents[0])\n",
    "cfr_agent2 = CounterFactualRegret(game=khun3, agent=khun3.agents[1])\n",
    "cfr_agent3 = CounterFactualRegret(game=khun3, agent=khun3.agents[2])\n",
    "\n",
    "\n",
    "agents = {\n",
    "    khun3.agents[0]: cfr_agent1,\n",
    "    khun3.agents[1]: cfr_agent2,\n",
    "    khun3.agents[2]: cfr_agent3\n",
    "}"
   ]
  },
  {
   "cell_type": "code",
   "execution_count": null,
   "metadata": {},
   "outputs": [],
   "source": [
    "# entrenamos\n",
    "KHUN3_TRAINING_STEPS = 50_000\n",
    "cfr_agent1.train(KHUN3_TRAINING_STEPS)\n",
    "cfr_agent2.train(KHUN3_TRAINING_STEPS)\n",
    "cfr_agent3.train(KHUN3_TRAINING_STEPS)"
   ]
  },
  {
   "cell_type": "code",
   "execution_count": null,
   "metadata": {},
   "outputs": [],
   "source": [
    "print(\"\\nAgent 1 strategy:\\n\")\n",
    "print_strategy(cfr_agent1)\n",
    "\n",
    "print(\"\\nAgent 2 strategy:\\n\")\n",
    "print_strategy(cfr_agent2)\n",
    "\n",
    "print(\"\\nAgent 3 strategy:\\n\")\n",
    "print_strategy(cfr_agent3)"
   ]
  },
  {
   "cell_type": "code",
   "execution_count": null,
   "metadata": {},
   "outputs": [],
   "source": [
    "KHUN3_GAME_ROUNDS = 5_000_000\n",
    "\n",
    "cum_rewards = dict(map(lambda ag: (ag, 0.), khun3.agents))\n",
    "\n",
    "for _ in tqdm(range(KHUN3_GAME_ROUNDS)):\n",
    "    khun3.reset()\n",
    "    turn = 0\n",
    "    while not khun3.done():\n",
    "        agent = agents[khun3.agent_selection]\n",
    "        a = agent.action()\n",
    "        khun3.step(action=a)\n",
    "        turn += 1\n",
    "    for ag in khun3.agents:\n",
    "        cum_rewards[ag] += khun3.rewards[ag]\n",
    "\n",
    "print('Average rewards:', dict(map(lambda ag: (ag, cum_rewards[ag]/KHUN3_GAME_ROUNDS), khun3.agents)))"
   ]
  },
  {
   "cell_type": "markdown",
   "metadata": {},
   "source": [
    "Como podemos observar, los resultados obtenidos en esta experimentación confirman nuestra hipótesis inicial: el tercer jugador obtiene la mayor utilidad, seguido del segundo jugador y finalmente el primer jugador.\n",
    "\n",
    "> \"A family of Nash equilibria for 3-player Kuhn poker is known analytically, which makes it the largest game with more than two players with analytic solution. The family is parameterized using 4–6 parameters (depending on the chosen equilibrium). In all equilibria, player 1 has a fixed strategy, and he always checks as the first action; player 2's utility is constant, equal to –1/48 per hand. The discovered equilibrium profiles show an interesting feature: by adjusting a strategy parameter $\\beta$ (between 0 and 1), player 2 can freely shift utility between the other two players while still remaining in equilibrium; player 1's utility is equal to $-\\frac{1+2\\beta}{48}$ (which is always worse than player 2's utility), player 3's utility is $\\frac{1+\\beta}{24}$.\" - [Wikipedia](https://en.wikipedia.org/wiki/Kuhn_poker#3-player_Kuhn_Poker)\n",
    "\n",
    "En nuestro caso no tenemos un $\\beta$ para parametrizar la estrategia del jugador 2, pero podemos ver que el jugador 2 tiene una utilidad similar a ~-1/48 por mano, que el jugador 3 tiene un poco mayor a 1/24 por mano, y que el jugador 1 tiene una utilidad un poco menor a -1/48 por mano. Lo cual es consistente con lo que se describe en trabajos previos."
   ]
  },
  {
   "cell_type": "markdown",
   "metadata": {},
   "source": [
    "## Estimación de Valor de Estados\n",
    "\n",
    "En el campo de la inteligencia artificial aplicada a juegos, una consideración fundamental es la gestión de la profundidad en los árboles de juego. Muchos juegos presentan un espacio de estado extenso, lo que hace inviable explorar cada posible futuro del juego hasta su conclusión. Por lo tanto, en ciertos niveles de profundidad, se vuelve esencial estimar el valor de los estados del juego en lugar de realizar una exploración completa.\n",
    "\n",
    "La profundidad del árbol de juego representa el número de movimientos hacia adelante que el algoritmo considera antes de tomar una decisión. En juegos complejos, este número puede crecer exponencialmente, haciendo que la exploración completa sea computacionalmente costosa o incluso imposible. Este fenómeno es conocido como la \"explosión combinatoria\".\n",
    "\n",
    "Para abordar este desafío, se emplean estrategias de estimación de valor para evaluar la calidad de los estados del juego en profundidades específicas:\n",
    "\n",
    "1. **Funciones de Evaluación**: Estas funciones proporcionan una manera de asignar un valor numérico a un estado del juego basándose en sus características. Pueden ser tan simples como heurísticas basadas en reglas o tan complejas como modelos entrenados mediante aprendizaje automático.\n",
    "\n",
    "2. **Monte Carlo Tree Search (MCTS)**: MCTS utiliza simulaciones aleatorias desde el nodo actual para estimar el valor de los estados sin necesidad de explorar todo el árbol de juego. Es particularmente útil en juegos con un gran número de posibles estados futuros.\n"
   ]
  },
  {
   "cell_type": "markdown",
   "metadata": {},
   "source": [
    "### CFR con Estimación de Valor\n",
    "\n",
    "Antes de adentrarnos en las funciones de evaluación específicas, es importante destacar que utilizaremos una versión avanzada del algoritmo Counterfactual Regret Minimization (CFR), denominada `EnhancedCounterFactualRegret`. Esta versión, implementada en `agentes/counterfactualregretv2.py`, hereda de nuestra implementación original de CFR, pero introduce un componente crucial: la estimación de valor en cierta profundidad.\n",
    "\n",
    "El código fuente en `agentes/counterfactualregretv2.py` muestra cómo `EnhancedCounterFactualRegret` se diferencia de la implementación estándar de CFR:\n",
    "\n",
    "1. **Estimación de Valor en Profundidad Limitada**: En lugar de explorar el árbol de juego hasta su totalidad, `EnhancedCounterFactualRegret` utiliza una función de estimación de valor (`value_estimator`) para evaluar los estados del juego una vez alcanzada una profundidad máxima (`max_depth`). Esto permite manejar eficientemente juegos con un espacio de estado extenso.\n",
    "\n",
    "2. **Recursión Modificada**: La función `cfr_rec` se ha modificado para incorporar la lógica de profundidad. Si la profundidad actual (`current_depth`) alcanza `max_depth`, la función `estimate_value` se invoca para obtener una estimación del valor del estado actual del juego.\n",
    "\n",
    "3. **Selección de Acciones**: En el método `action`, si la llamada a la función `action` de la clase base falla, se elige una acción aleatoria de las posibles acciones del juego. Esto proporciona un mecanismo de fallback para casos en los que el algoritmo CFR base no puede determinar una acción."
   ]
  },
  {
   "cell_type": "markdown",
   "metadata": {},
   "source": [
    "### Funciones de Evaluación\n",
    "\n",
    "Al abordar el diseño de agentes inteligentes para juegos, las funciones de evaluación son herramientas útiles para asignar valores numéricos a los estados del juego, facilitando así la toma de decisiones estratégicas. En el caso de Kuhn Poker para dos jugadores (khun2), vamos a utilizar una función de evaluación como un ejemplo ilustrativo y \"dummy\" para demostrar de manera clara y sencilla cómo estas funciones influyen en el comportamiento del agente.\n",
    "\n",
    "#### Elección de Kuhn Poker (khun2) para la Demostración\n",
    "\n",
    "Elegimos Kuhn Poker por su simplicidad estructural y su naturaleza de información imperfecta, lo que lo hace ideal para una demostración visual y comprensible de cómo funcionan las evaluaciones en el juego. A pesar de ser un juego simple, Kuhn Poker encapsula la esencia de la toma de decisiones en entornos de incertidumbre.\n",
    "\n",
    "#### Construcción de una Función de Evaluación \"Dummy\"\n",
    "\n",
    "Para khun2, vamos a diseñar una función de evaluación \"dummy\" o simplificada. Esta función no necesariamente buscará optimizar el juego del agente, sino que estará diseñada para ilustrar cómo diferentes estados del juego son valorados y cómo esto afecta las decisiones del agente. La función considerará elementos como:\n",
    "\n",
    "- La carta en mano del agente.\n",
    "- La ultima acción realizada por el opoente.\n",
    "\n",
    "Este enfoque \"dummy\" nos permite visualizar y entender mejor el impacto directo de la función de evaluación en la estrategia del agente."
   ]
  },
  {
   "cell_type": "code",
   "execution_count": null,
   "metadata": {},
   "outputs": [],
   "source": [
    "def evaluate_kuhn_state(game: AlternatingGame, agent: AgentID):\n",
    "    its_my_turn = game.agent_selection == agent\n",
    "    if game.done() or game.terminated():\n",
    "        return game.rewards[agent]\n",
    "    \n",
    "    observation = game.observe(agent)\n",
    "    value = 0\n",
    "\n",
    "    hand = observation[0]\n",
    "\n",
    "    if hand == '2':  # tengo K\n",
    "        value = 1\n",
    "    elif hand == '1': # tengo Q\n",
    "        value = 0\n",
    "    else: # tengo J\n",
    "        value -= 1\n",
    "\n",
    "    # veo la ultima accion del oponente\n",
    "    if len(observation) >= 2:\n",
    "        last_oponent_action = observation[-1 if its_my_turn else -2]\n",
    "        if last_oponent_action == 'b':\n",
    "            value-= 0.5 # en caso que haya apostado, le resto 0.5\n",
    "        elif last_oponent_action == 'p':\n",
    "            value+= 0.5 # en caso que haya pasado, le sumo 0.5\n",
    "\n",
    "    return value"
   ]
  },
  {
   "cell_type": "code",
   "execution_count": null,
   "metadata": {},
   "outputs": [],
   "source": [
    "khun2.reset() # Reseteamos el juego\n",
    "\n",
    "# CFR con evaluación de estados con profundidad 2 y función de evaluación\n",
    "cfr_agent_with_eval = EnhancedCounterFactualRegret(game=khun2, agent=khun2.agents[0], value_estimator=evaluate_kuhn_state, max_depth=2)\n",
    "random_agent = RandomAgent(game=khun2, agent=khun2.agents[1])\n",
    "\n",
    "agents = {\n",
    "    khun2.agents[0]: cfr_agent_with_eval,\n",
    "    khun2.agents[1]: random_agent\n",
    "}"
   ]
  },
  {
   "cell_type": "code",
   "execution_count": null,
   "metadata": {},
   "outputs": [],
   "source": [
    "cfr_agent_with_eval.train(KHUN2_TRAINING_STEPS)"
   ]
  },
  {
   "cell_type": "markdown",
   "metadata": {},
   "source": [
    "Como era de esperar el tiempo de entrenamiento es menor que el de la versión sin estimación de valor, ya que no se necesita explorar todo el árbol de juego."
   ]
  },
  {
   "cell_type": "code",
   "execution_count": null,
   "metadata": {},
   "outputs": [],
   "source": [
    "print_strategy(cfr_agent_with_eval)"
   ]
  },
  {
   "cell_type": "markdown",
   "metadata": {},
   "source": [
    "Podemos ver que solo guarda los nodos de information set hasta la profundidad indicada."
   ]
  },
  {
   "cell_type": "code",
   "execution_count": 2,
   "metadata": {},
   "outputs": [
    {
     "ename": "NameError",
     "evalue": "name 'khun2' is not defined",
     "output_type": "error",
     "traceback": [
      "\u001b[0;31m---------------------------------------------------------------------------\u001b[0m",
      "\u001b[0;31mNameError\u001b[0m                                 Traceback (most recent call last)",
      "\u001b[1;32m/home/k/Documents/facultad/multi-agentes/Alternating Games/Obligatorio.ipynb Cell 39\u001b[0m line \u001b[0;36m1\n\u001b[0;32m----> <a href='vscode-notebook-cell:/home/k/Documents/facultad/multi-agentes/Alternating%20Games/Obligatorio.ipynb#X51sZmlsZQ%3D%3D?line=0'>1</a>\u001b[0m _, mean_reward \u001b[39m=\u001b[39m run(khun2, agents, KHUN2_GAME_ROUNDS)\n\u001b[1;32m      <a href='vscode-notebook-cell:/home/k/Documents/facultad/multi-agentes/Alternating%20Games/Obligatorio.ipynb#X51sZmlsZQ%3D%3D?line=2'>3</a>\u001b[0m \u001b[39mprint\u001b[39m(mean_reward)\n",
      "\u001b[0;31mNameError\u001b[0m: name 'khun2' is not defined"
     ]
    }
   ],
   "source": [
    "_, mean_reward = run(khun2, agents, KHUN2_GAME_ROUNDS)\n",
    "\n",
    "print(mean_reward)"
   ]
  },
  {
   "cell_type": "markdown",
   "metadata": {},
   "source": [
    "### Monte Carlo Tree Search\n",
    "\n",
    "#### Importancia de la Estimación en Juegos de Complejos\n",
    "\n",
    "En el contexto de juegos de información imperfecta como Leduc Poker, la estimación de valor se vuelve crucial debido a la complejidad y la variabilidad inherentes en estos juegos. Leduc Poker, un juego más complejo que Kuhn Poker, ofrece un escenario perfecto para aplicar y evaluar la efectividad de Monte Carlo Tree Search (MCTS).\n",
    "\n",
    "#### Desafíos Específicos de Leduc Poker\n",
    "\n",
    "Leduc Poker presenta desafíos únicos, como rondas de apuestas y una fase de revelación que cambia significativamente el estado del juego. Estos elementos añaden una capa de complejidad que hace que la exploración exhaustiva del árbol de juego sea poco práctica. Aquí es donde MCTS, con su enfoque en la exploración equilibrada y la explotación basada en simulaciones aleatorias, muestra su fuerza.\n",
    "\n",
    "#### Monte Carlo Tree Search (MCTS) y su Aplicación en Leduc Poker\n",
    "\n",
    "MCTS es una técnica poderosa para la toma de decisiones en juegos. Se basa en la construcción de un árbol de decisiones a través de simulaciones aleatorias y luego selecciona la mejor acción basándose en los resultados de estas simulaciones.\n",
    "\n",
    "1. **Exploración y Explotación**: MCTS equilibra entre explorar nuevas acciones y explotar las que han demostrado ser efectivas en simulaciones previas. Este equilibrio es crucial en juegos como Leduc Poker, donde el espacio de decisiones es extenso y complejo.\n",
    "\n",
    "2. **Simulaciones Aleatorias**: A través de simulaciones aleatorias, MCTS puede manejar efectivamente la incertidumbre y la variabilidad en Leduc Poker, permitiendo al algoritmo considerar una amplia gama de posibilidades y escenarios potenciales.\n",
    "\n",
    "3. **Selección de Acciones**: Utilizando la estrategia Upper Confidence Bound (UCB) para árboles, MCTS mejora progresivamente su selección de acciones, llevando a una toma de decisiones más informada y estratégica a medida que avanza el juego.\n",
    "\n",
    "> nota: La implementación permite utilizar otro tipo de estrategia de selección de acciones.\n",
    "\n",
    "4. **Retropropagación**: Los resultados de cada simulación se utilizan para actualizar la información en el árbol, asegurando que las decisiones futuras se basen en el aprendizaje acumulado.\n",
    "\n",
    "5. **Implementación en Leduc Poker**: Dada la complejidad de Leduc Poker, MCTS ofrece una manera efectiva de navegar por el espacio de decisiones del juego. La implementación de MCTS en este contexto requiere considerar las peculiaridades del juego, incluyendo las rondas de apuestas y el elemento de información oculta.\n",
    "\n",
    "#### Retos y Consideraciones\n",
    "\n",
    "- **Tiempo de Entrenamiento**: Dado el espacio de estados y la complejidad de Leduc Poker, una cantidad significativa de simulaciones puede ser necesaria para alcanzar un rendimiento óptimo. Esto implica que la ejecución del algoritmo MCTS puede requerir un tiempo de entrenamiento considerable.\n",
    "\n",
    "- **Eficiencia y Optimización**: Ajustar los parámetros de MCTS, como el número de simulaciones y rollouts, es fundamental para equilibrar entre la eficiencia computacional y la efectividad del algoritmo."
   ]
  },
  {
   "cell_type": "code",
   "execution_count": 60,
   "metadata": {},
   "outputs": [],
   "source": [
    "# definimos una función para evaluar el juego con MCTS mientras entrenamos\n",
    "def mcts_evaluate(game: AlternatingGame, agent: AgentID):\n",
    "    if game.done() or game.terminated():\n",
    "        return game.rewards[agent]\n",
    "    else:\n",
    "        mcts = MonteCarloTreeSearch(game=game, agent=agent, simulations=100, rollouts=10)\n",
    "        return mcts.estimate()"
   ]
  },
  {
   "cell_type": "code",
   "execution_count": 61,
   "metadata": {},
   "outputs": [],
   "source": [
    "# En caso de no tener el infoset guardado, se puede usar la función de evaluación de estados\n",
    "def mcts_action(game: AlternatingGame, agent: AgentID):\n",
    "    mcts = MonteCarloTreeSearch(game=game, agent=agent, simulations=3, rollouts=1)\n",
    "    return mcts.action()"
   ]
  },
  {
   "cell_type": "markdown",
   "metadata": {},
   "source": [
    "> Cabe destacar que debido al ambiente PettingZoo, cuando clonamos el entorno, se clona el estado del juego incluyendo las cartas de los jugadores (oponentes), esto hará que el agente si hace suficientes simulaciones, pueda saber las cartas de los oponentes, lo cual no es posible en la realidad. Para evitar esto, se limita el número de simulaciones a solo unas cuantas."
   ]
  },
  {
   "cell_type": "code",
   "execution_count": 62,
   "metadata": {},
   "outputs": [],
   "source": [
    "leduc = Leduc()\n",
    "leduc.reset() # Reseteamos el juego\n",
    "\n",
    "# Creamos los agentes\n",
    "cfr_agent_with_mcts = EnhancedCounterFactualRegret(game=leduc, agent=leduc.agents[0], value_estimator=mcts_evaluate, max_depth=3, action_selection=mcts_action)\n",
    "random_agent = RandomAgent(game=leduc, agent=leduc.agents[1])\n",
    "\n",
    "agents = {\n",
    "    leduc.agents[0]: cfr_agent_with_mcts,\n",
    "    leduc.agents[1]: random_agent\n",
    "}"
   ]
  },
  {
   "cell_type": "code",
   "execution_count": 63,
   "metadata": {},
   "outputs": [
    {
     "name": "stderr",
     "output_type": "stream",
     "text": [
      "100%|██████████| 5000/5000 [00:37<00:00, 132.99it/s]\n",
      "  0%|          | 1/10000 [00:38<108:17:36, 38.99s/it]"
     ]
    },
    {
     "name": "stdout",
     "output_type": "stream",
     "text": [
      "Iteration: 0 Average reward: 0.7616\n"
     ]
    },
    {
     "name": "stderr",
     "output_type": "stream",
     "text": [
      "100%|██████████| 5000/5000 [00:18<00:00, 268.57it/s] \n",
      "  1%|          | 51/10000 [02:04<19:06:45,  6.92s/it]"
     ]
    },
    {
     "name": "stdout",
     "output_type": "stream",
     "text": [
      "Iteration: 50 Average reward: 0.6879\n"
     ]
    },
    {
     "name": "stderr",
     "output_type": "stream",
     "text": [
      "100%|██████████| 5000/5000 [00:11<00:00, 453.85it/s]]\n",
      "  1%|          | 101/10000 [03:22<12:45:11,  4.64s/it]"
     ]
    },
    {
     "name": "stdout",
     "output_type": "stream",
     "text": [
      "Iteration: 100 Average reward: 0.5933\n"
     ]
    },
    {
     "name": "stderr",
     "output_type": "stream",
     "text": [
      "100%|██████████| 5000/5000 [00:09<00:00, 523.92it/s]] \n",
      "  2%|▏         | 151/10000 [04:38<11:27:57,  4.19s/it]"
     ]
    },
    {
     "name": "stdout",
     "output_type": "stream",
     "text": [
      "Iteration: 150 Average reward: 0.6321\n"
     ]
    },
    {
     "name": "stderr",
     "output_type": "stream",
     "text": [
      "100%|██████████| 5000/5000 [00:10<00:00, 478.53it/s]] \n",
      "  2%|▏         | 201/10000 [05:55<12:11:02,  4.48s/it]"
     ]
    },
    {
     "name": "stdout",
     "output_type": "stream",
     "text": [
      "Iteration: 200 Average reward: 0.7198\n"
     ]
    },
    {
     "name": "stderr",
     "output_type": "stream",
     "text": [
      "100%|██████████| 5000/5000 [00:10<00:00, 481.15it/s]] \n",
      "  3%|▎         | 251/10000 [07:12<12:03:03,  4.45s/it]"
     ]
    },
    {
     "name": "stdout",
     "output_type": "stream",
     "text": [
      "Iteration: 250 Average reward: 0.6657\n"
     ]
    },
    {
     "name": "stderr",
     "output_type": "stream",
     "text": [
      "100%|██████████| 5000/5000 [00:10<00:00, 490.73it/s]] \n",
      "  3%|▎         | 301/10000 [08:28<11:45:18,  4.36s/it]"
     ]
    },
    {
     "name": "stdout",
     "output_type": "stream",
     "text": [
      "Iteration: 300 Average reward: 0.6249\n"
     ]
    },
    {
     "name": "stderr",
     "output_type": "stream",
     "text": [
      "100%|██████████| 5000/5000 [00:09<00:00, 506.52it/s]] \n",
      "  4%|▎         | 351/10000 [09:44<11:29:50,  4.29s/it]"
     ]
    },
    {
     "name": "stdout",
     "output_type": "stream",
     "text": [
      "Iteration: 350 Average reward: 0.6248\n"
     ]
    },
    {
     "name": "stderr",
     "output_type": "stream",
     "text": [
      "100%|██████████| 5000/5000 [00:11<00:00, 452.97it/s]] \n",
      "  4%|▍         | 401/10000 [11:02<12:25:19,  4.66s/it]"
     ]
    },
    {
     "name": "stdout",
     "output_type": "stream",
     "text": [
      "Iteration: 400 Average reward: 0.7884\n"
     ]
    },
    {
     "name": "stderr",
     "output_type": "stream",
     "text": [
      "100%|██████████| 5000/5000 [00:11<00:00, 447.00it/s]] \n",
      "  5%|▍         | 451/10000 [12:20<12:26:59,  4.69s/it]"
     ]
    },
    {
     "name": "stdout",
     "output_type": "stream",
     "text": [
      "Iteration: 450 Average reward: 0.8849\n"
     ]
    },
    {
     "name": "stderr",
     "output_type": "stream",
     "text": [
      "100%|██████████| 5000/5000 [00:10<00:00, 476.28it/s]] \n",
      "  5%|▌         | 501/10000 [13:37<11:48:18,  4.47s/it]"
     ]
    },
    {
     "name": "stdout",
     "output_type": "stream",
     "text": [
      "Iteration: 500 Average reward: 0.8402\n"
     ]
    },
    {
     "name": "stderr",
     "output_type": "stream",
     "text": [
      "100%|██████████| 5000/5000 [00:10<00:00, 458.71it/s]] \n",
      "  6%|▌         | 551/10000 [14:55<12:05:48,  4.61s/it]"
     ]
    },
    {
     "name": "stdout",
     "output_type": "stream",
     "text": [
      "Iteration: 550 Average reward: 0.8895\n"
     ]
    },
    {
     "name": "stderr",
     "output_type": "stream",
     "text": [
      "100%|██████████| 5000/5000 [00:11<00:00, 432.54it/s]] \n",
      "  6%|▌         | 601/10000 [16:14<12:33:33,  4.81s/it]"
     ]
    },
    {
     "name": "stdout",
     "output_type": "stream",
     "text": [
      "Iteration: 600 Average reward: 0.9219\n"
     ]
    },
    {
     "name": "stderr",
     "output_type": "stream",
     "text": [
      "100%|██████████| 5000/5000 [00:11<00:00, 446.87it/s]] \n",
      "  7%|▋         | 651/10000 [17:31<12:10:12,  4.69s/it]"
     ]
    },
    {
     "name": "stdout",
     "output_type": "stream",
     "text": [
      "Iteration: 650 Average reward: 0.9297\n"
     ]
    },
    {
     "name": "stderr",
     "output_type": "stream",
     "text": [
      "100%|██████████| 5000/5000 [00:11<00:00, 451.24it/s]] \n",
      "  7%|▋         | 701/10000 [18:48<12:01:02,  4.65s/it]"
     ]
    },
    {
     "name": "stdout",
     "output_type": "stream",
     "text": [
      "Iteration: 700 Average reward: 0.9633\n"
     ]
    },
    {
     "name": "stderr",
     "output_type": "stream",
     "text": [
      "100%|██████████| 5000/5000 [00:11<00:00, 421.72it/s]] \n",
      "  8%|▊         | 751/10000 [20:08<12:35:29,  4.90s/it]"
     ]
    },
    {
     "name": "stdout",
     "output_type": "stream",
     "text": [
      "Iteration: 750 Average reward: 0.9787\n"
     ]
    },
    {
     "name": "stderr",
     "output_type": "stream",
     "text": [
      "100%|██████████| 5000/5000 [00:11<00:00, 442.96it/s]] \n",
      "  8%|▊         | 801/10000 [21:27<12:06:49,  4.74s/it]"
     ]
    },
    {
     "name": "stdout",
     "output_type": "stream",
     "text": [
      "Iteration: 800 Average reward: 0.9279\n"
     ]
    },
    {
     "name": "stderr",
     "output_type": "stream",
     "text": [
      "100%|██████████| 5000/5000 [00:10<00:00, 458.69it/s]] \n",
      "  9%|▊         | 851/10000 [22:45<11:42:15,  4.61s/it]"
     ]
    },
    {
     "name": "stdout",
     "output_type": "stream",
     "text": [
      "Iteration: 850 Average reward: 0.953\n"
     ]
    },
    {
     "name": "stderr",
     "output_type": "stream",
     "text": [
      "100%|██████████| 5000/5000 [00:10<00:00, 470.50it/s]] \n",
      "  9%|▉         | 901/10000 [24:01<11:23:05,  4.50s/it]"
     ]
    },
    {
     "name": "stdout",
     "output_type": "stream",
     "text": [
      "Iteration: 900 Average reward: 0.9138\n"
     ]
    },
    {
     "name": "stderr",
     "output_type": "stream",
     "text": [
      "100%|██████████| 5000/5000 [00:09<00:00, 511.48it/s]] \n",
      " 10%|▉         | 951/10000 [25:17<10:42:24,  4.26s/it]"
     ]
    },
    {
     "name": "stdout",
     "output_type": "stream",
     "text": [
      "Iteration: 950 Average reward: 0.9215\n"
     ]
    },
    {
     "name": "stderr",
     "output_type": "stream",
     "text": [
      "100%|██████████| 5000/5000 [00:09<00:00, 519.08it/s]t]\n",
      " 10%|█         | 1001/10000 [26:33<10:29:54,  4.20s/it]"
     ]
    },
    {
     "name": "stdout",
     "output_type": "stream",
     "text": [
      "Iteration: 1000 Average reward: 0.9201\n"
     ]
    },
    {
     "name": "stderr",
     "output_type": "stream",
     "text": [
      "100%|██████████| 5000/5000 [00:09<00:00, 502.59it/s]t] \n",
      " 11%|█         | 1051/10000 [27:49<10:41:54,  4.30s/it]"
     ]
    },
    {
     "name": "stdout",
     "output_type": "stream",
     "text": [
      "Iteration: 1050 Average reward: 0.8961\n"
     ]
    },
    {
     "name": "stderr",
     "output_type": "stream",
     "text": [
      "100%|██████████| 5000/5000 [00:10<00:00, 491.14it/s]t] \n",
      " 11%|█         | 1101/10000 [29:07<10:49:46,  4.38s/it]"
     ]
    },
    {
     "name": "stdout",
     "output_type": "stream",
     "text": [
      "Iteration: 1100 Average reward: 0.9643\n"
     ]
    },
    {
     "name": "stderr",
     "output_type": "stream",
     "text": [
      "100%|██████████| 5000/5000 [00:10<00:00, 495.73it/s]t] \n",
      " 12%|█▏        | 1151/10000 [30:24<10:43:25,  4.36s/it]"
     ]
    },
    {
     "name": "stdout",
     "output_type": "stream",
     "text": [
      "Iteration: 1150 Average reward: 0.8956\n"
     ]
    },
    {
     "name": "stderr",
     "output_type": "stream",
     "text": [
      "100%|██████████| 5000/5000 [00:10<00:00, 497.98it/s]t] \n",
      " 12%|█▏        | 1201/10000 [31:41<10:37:52,  4.35s/it]"
     ]
    },
    {
     "name": "stdout",
     "output_type": "stream",
     "text": [
      "Iteration: 1200 Average reward: 0.9245\n"
     ]
    },
    {
     "name": "stderr",
     "output_type": "stream",
     "text": [
      "100%|██████████| 5000/5000 [00:09<00:00, 504.25it/s]t] \n",
      " 13%|█▎        | 1251/10000 [32:57<10:27:56,  4.31s/it]"
     ]
    },
    {
     "name": "stdout",
     "output_type": "stream",
     "text": [
      "Iteration: 1250 Average reward: 0.9496\n"
     ]
    },
    {
     "name": "stderr",
     "output_type": "stream",
     "text": [
      "100%|██████████| 5000/5000 [00:09<00:00, 501.23it/s]t] \n",
      " 13%|█▎        | 1301/10000 [34:14<10:26:46,  4.32s/it]"
     ]
    },
    {
     "name": "stdout",
     "output_type": "stream",
     "text": [
      "Iteration: 1300 Average reward: 0.8952\n"
     ]
    },
    {
     "name": "stderr",
     "output_type": "stream",
     "text": [
      "100%|██████████| 5000/5000 [00:10<00:00, 485.16it/s]t] \n",
      " 14%|█▎        | 1351/10000 [35:30<10:35:13,  4.41s/it]"
     ]
    },
    {
     "name": "stdout",
     "output_type": "stream",
     "text": [
      "Iteration: 1350 Average reward: 0.9386\n"
     ]
    },
    {
     "name": "stderr",
     "output_type": "stream",
     "text": [
      "100%|██████████| 5000/5000 [00:10<00:00, 488.44it/s]t] \n",
      " 14%|█▍        | 1401/10000 [36:48<10:34:52,  4.43s/it]"
     ]
    },
    {
     "name": "stdout",
     "output_type": "stream",
     "text": [
      "Iteration: 1400 Average reward: 0.9579\n"
     ]
    },
    {
     "name": "stderr",
     "output_type": "stream",
     "text": [
      "100%|██████████| 5000/5000 [00:09<00:00, 500.92it/s]t] \n",
      " 15%|█▍        | 1451/10000 [38:06<10:20:38,  4.36s/it]"
     ]
    },
    {
     "name": "stdout",
     "output_type": "stream",
     "text": [
      "Iteration: 1450 Average reward: 0.9431\n"
     ]
    },
    {
     "name": "stderr",
     "output_type": "stream",
     "text": [
      "100%|██████████| 5000/5000 [00:10<00:00, 489.75it/s]t] \n",
      " 15%|█▌        | 1501/10000 [39:23<10:24:34,  4.41s/it]"
     ]
    },
    {
     "name": "stdout",
     "output_type": "stream",
     "text": [
      "Iteration: 1500 Average reward: 0.9806\n"
     ]
    },
    {
     "name": "stderr",
     "output_type": "stream",
     "text": [
      "100%|██████████| 5000/5000 [00:10<00:00, 485.54it/s]t] \n",
      " 16%|█▌        | 1551/10000 [40:41<10:24:47,  4.44s/it]"
     ]
    },
    {
     "name": "stdout",
     "output_type": "stream",
     "text": [
      "Iteration: 1550 Average reward: 0.959\n"
     ]
    },
    {
     "name": "stderr",
     "output_type": "stream",
     "text": [
      "100%|██████████| 5000/5000 [00:09<00:00, 502.65it/s]t] \n",
      " 16%|█▌        | 1601/10000 [41:57<10:06:03,  4.33s/it]"
     ]
    },
    {
     "name": "stdout",
     "output_type": "stream",
     "text": [
      "Iteration: 1600 Average reward: 0.9304\n"
     ]
    },
    {
     "name": "stderr",
     "output_type": "stream",
     "text": [
      "100%|██████████| 5000/5000 [00:09<00:00, 517.14it/s]t] \n",
      " 17%|█▋        | 1651/10000 [43:13<9:47:59,  4.23s/it]"
     ]
    },
    {
     "name": "stdout",
     "output_type": "stream",
     "text": [
      "Iteration: 1650 Average reward: 0.9272\n"
     ]
    },
    {
     "name": "stderr",
     "output_type": "stream",
     "text": [
      "100%|██████████| 5000/5000 [00:09<00:00, 505.65it/s]t]\n",
      " 17%|█▋        | 1701/10000 [44:30<9:53:59,  4.29s/it]"
     ]
    },
    {
     "name": "stdout",
     "output_type": "stream",
     "text": [
      "Iteration: 1700 Average reward: 0.9586\n"
     ]
    },
    {
     "name": "stderr",
     "output_type": "stream",
     "text": [
      "100%|██████████| 5000/5000 [00:09<00:00, 515.94it/s]t]\n",
      " 18%|█▊        | 1751/10000 [45:46<9:42:36,  4.24s/it]"
     ]
    },
    {
     "name": "stdout",
     "output_type": "stream",
     "text": [
      "Iteration: 1750 Average reward: 0.909\n"
     ]
    },
    {
     "name": "stderr",
     "output_type": "stream",
     "text": [
      "100%|██████████| 5000/5000 [00:10<00:00, 499.87it/s]t]\n",
      " 18%|█▊        | 1801/10000 [47:03<9:51:49,  4.33s/it]"
     ]
    },
    {
     "name": "stdout",
     "output_type": "stream",
     "text": [
      "Iteration: 1800 Average reward: 0.9363\n"
     ]
    },
    {
     "name": "stderr",
     "output_type": "stream",
     "text": [
      "100%|██████████| 5000/5000 [00:09<00:00, 528.99it/s]t]\n",
      " 19%|█▊        | 1851/10000 [48:20<9:26:59,  4.17s/it]"
     ]
    },
    {
     "name": "stdout",
     "output_type": "stream",
     "text": [
      "Iteration: 1850 Average reward: 0.9023\n"
     ]
    },
    {
     "name": "stderr",
     "output_type": "stream",
     "text": [
      "100%|██████████| 5000/5000 [00:09<00:00, 535.39it/s]t]\n",
      " 19%|█▉        | 1901/10000 [49:35<9:15:58,  4.12s/it]"
     ]
    },
    {
     "name": "stdout",
     "output_type": "stream",
     "text": [
      "Iteration: 1900 Average reward: 0.9414\n"
     ]
    },
    {
     "name": "stderr",
     "output_type": "stream",
     "text": [
      "100%|██████████| 5000/5000 [00:09<00:00, 511.47it/s]t]\n",
      " 20%|█▉        | 1951/10000 [50:51<9:33:32,  4.28s/it]"
     ]
    },
    {
     "name": "stdout",
     "output_type": "stream",
     "text": [
      "Iteration: 1950 Average reward: 0.9071\n"
     ]
    },
    {
     "name": "stderr",
     "output_type": "stream",
     "text": [
      "100%|██████████| 5000/5000 [00:09<00:00, 523.30it/s]t]\n",
      " 20%|██        | 2001/10000 [52:08<9:19:02,  4.19s/it]"
     ]
    },
    {
     "name": "stdout",
     "output_type": "stream",
     "text": [
      "Iteration: 2000 Average reward: 0.9535\n"
     ]
    },
    {
     "name": "stderr",
     "output_type": "stream",
     "text": [
      "100%|██████████| 5000/5000 [00:09<00:00, 511.40it/s]t]\n",
      " 21%|██        | 2051/10000 [53:25<9:26:18,  4.27s/it]"
     ]
    },
    {
     "name": "stdout",
     "output_type": "stream",
     "text": [
      "Iteration: 2050 Average reward: 0.9455\n"
     ]
    },
    {
     "name": "stderr",
     "output_type": "stream",
     "text": [
      "100%|██████████| 5000/5000 [00:09<00:00, 515.33it/s]t]\n",
      " 21%|██        | 2101/10000 [54:42<9:22:25,  4.27s/it]"
     ]
    },
    {
     "name": "stdout",
     "output_type": "stream",
     "text": [
      "Iteration: 2100 Average reward: 0.917\n"
     ]
    },
    {
     "name": "stderr",
     "output_type": "stream",
     "text": [
      "100%|██████████| 5000/5000 [00:09<00:00, 523.32it/s]t]\n",
      " 22%|██▏       | 2151/10000 [55:58<9:09:04,  4.20s/it]"
     ]
    },
    {
     "name": "stdout",
     "output_type": "stream",
     "text": [
      "Iteration: 2150 Average reward: 0.8501\n"
     ]
    },
    {
     "name": "stderr",
     "output_type": "stream",
     "text": [
      "100%|██████████| 5000/5000 [00:09<00:00, 515.70it/s]t]\n",
      " 22%|██▏       | 2201/10000 [57:15<9:14:06,  4.26s/it]"
     ]
    },
    {
     "name": "stdout",
     "output_type": "stream",
     "text": [
      "Iteration: 2200 Average reward: 0.8759\n"
     ]
    },
    {
     "name": "stderr",
     "output_type": "stream",
     "text": [
      "100%|██████████| 5000/5000 [00:09<00:00, 508.85it/s]t]\n",
      " 23%|██▎       | 2251/10000 [58:32<9:15:58,  4.30s/it]"
     ]
    },
    {
     "name": "stdout",
     "output_type": "stream",
     "text": [
      "Iteration: 2250 Average reward: 0.9497\n"
     ]
    },
    {
     "name": "stderr",
     "output_type": "stream",
     "text": [
      "100%|██████████| 5000/5000 [00:09<00:00, 517.52it/s]t]\n",
      " 23%|██▎       | 2301/10000 [59:50<9:04:20,  4.24s/it]"
     ]
    },
    {
     "name": "stdout",
     "output_type": "stream",
     "text": [
      "Iteration: 2300 Average reward: 0.9187\n"
     ]
    },
    {
     "name": "stderr",
     "output_type": "stream",
     "text": [
      "100%|██████████| 5000/5000 [00:09<00:00, 512.20it/s]/it]\n",
      " 24%|██▎       | 2351/10000 [1:01:05<8:59:57,  4.24s/it]"
     ]
    },
    {
     "name": "stdout",
     "output_type": "stream",
     "text": [
      "Iteration: 2350 Average reward: 0.9026\n"
     ]
    },
    {
     "name": "stderr",
     "output_type": "stream",
     "text": [
      "100%|██████████| 5000/5000 [00:10<00:00, 496.45it/s]/it]\n",
      " 24%|██▍       | 2401/10000 [1:02:21<9:10:27,  4.35s/it]"
     ]
    },
    {
     "name": "stdout",
     "output_type": "stream",
     "text": [
      "Iteration: 2400 Average reward: 0.9245\n"
     ]
    },
    {
     "name": "stderr",
     "output_type": "stream",
     "text": [
      "100%|██████████| 5000/5000 [00:10<00:00, 490.34it/s]/it]\n",
      " 25%|██▍       | 2451/10000 [1:03:39<9:13:37,  4.40s/it]"
     ]
    },
    {
     "name": "stdout",
     "output_type": "stream",
     "text": [
      "Iteration: 2450 Average reward: 0.9083\n"
     ]
    },
    {
     "name": "stderr",
     "output_type": "stream",
     "text": [
      "100%|██████████| 5000/5000 [00:09<00:00, 526.77it/s]/it]\n",
      " 25%|██▌       | 2501/10000 [1:04:56<8:43:50,  4.19s/it]"
     ]
    },
    {
     "name": "stdout",
     "output_type": "stream",
     "text": [
      "Iteration: 2500 Average reward: 0.9147\n"
     ]
    },
    {
     "name": "stderr",
     "output_type": "stream",
     "text": [
      "100%|██████████| 5000/5000 [00:09<00:00, 514.01it/s]/it]\n",
      " 26%|██▌       | 2551/10000 [1:06:13<8:47:53,  4.25s/it]"
     ]
    },
    {
     "name": "stdout",
     "output_type": "stream",
     "text": [
      "Iteration: 2550 Average reward: 0.8997\n"
     ]
    },
    {
     "name": "stderr",
     "output_type": "stream",
     "text": [
      "100%|██████████| 5000/5000 [00:09<00:00, 528.25it/s]/it]\n",
      " 26%|██▌       | 2601/10000 [1:07:30<8:36:30,  4.19s/it]"
     ]
    },
    {
     "name": "stdout",
     "output_type": "stream",
     "text": [
      "Iteration: 2600 Average reward: 0.8793\n"
     ]
    },
    {
     "name": "stderr",
     "output_type": "stream",
     "text": [
      "100%|██████████| 5000/5000 [00:09<00:00, 509.37it/s]/it]\n",
      " 27%|██▋       | 2651/10000 [1:08:47<8:47:06,  4.30s/it]"
     ]
    },
    {
     "name": "stdout",
     "output_type": "stream",
     "text": [
      "Iteration: 2650 Average reward: 0.9156\n"
     ]
    },
    {
     "name": "stderr",
     "output_type": "stream",
     "text": [
      "100%|██████████| 5000/5000 [00:09<00:00, 516.20it/s]/it]\n",
      " 27%|██▋       | 2701/10000 [1:10:04<8:37:40,  4.26s/it]"
     ]
    },
    {
     "name": "stdout",
     "output_type": "stream",
     "text": [
      "Iteration: 2700 Average reward: 0.8937\n"
     ]
    },
    {
     "name": "stderr",
     "output_type": "stream",
     "text": [
      "100%|██████████| 5000/5000 [00:09<00:00, 538.75it/s]/it]\n",
      " 28%|██▊       | 2751/10000 [1:11:20<8:18:55,  4.13s/it]"
     ]
    },
    {
     "name": "stdout",
     "output_type": "stream",
     "text": [
      "Iteration: 2750 Average reward: 0.9489\n"
     ]
    },
    {
     "name": "stderr",
     "output_type": "stream",
     "text": [
      "100%|██████████| 5000/5000 [00:09<00:00, 503.36it/s]/it]\n",
      " 28%|██▊       | 2801/10000 [1:12:37<8:37:20,  4.31s/it]"
     ]
    },
    {
     "name": "stdout",
     "output_type": "stream",
     "text": [
      "Iteration: 2800 Average reward: 0.8599\n"
     ]
    },
    {
     "name": "stderr",
     "output_type": "stream",
     "text": [
      "100%|██████████| 5000/5000 [00:10<00:00, 499.03it/s]/it]\n",
      " 29%|██▊       | 2851/10000 [1:13:54<8:38:12,  4.35s/it]"
     ]
    },
    {
     "name": "stdout",
     "output_type": "stream",
     "text": [
      "Iteration: 2850 Average reward: 0.9107\n"
     ]
    },
    {
     "name": "stderr",
     "output_type": "stream",
     "text": [
      "100%|██████████| 5000/5000 [00:09<00:00, 503.55it/s]/it]\n",
      " 29%|██▉       | 2901/10000 [1:15:11<8:29:44,  4.31s/it]"
     ]
    },
    {
     "name": "stdout",
     "output_type": "stream",
     "text": [
      "Iteration: 2900 Average reward: 0.9068\n"
     ]
    },
    {
     "name": "stderr",
     "output_type": "stream",
     "text": [
      "100%|██████████| 5000/5000 [00:09<00:00, 523.94it/s]/it]\n",
      " 30%|██▉       | 2951/10000 [1:16:27<8:11:34,  4.18s/it]"
     ]
    },
    {
     "name": "stdout",
     "output_type": "stream",
     "text": [
      "Iteration: 2950 Average reward: 0.9284\n"
     ]
    },
    {
     "name": "stderr",
     "output_type": "stream",
     "text": [
      "100%|██████████| 5000/5000 [00:09<00:00, 503.61it/s]/it]\n",
      " 30%|███       | 3001/10000 [1:17:45<8:26:03,  4.34s/it]"
     ]
    },
    {
     "name": "stdout",
     "output_type": "stream",
     "text": [
      "Iteration: 3000 Average reward: 0.9107\n"
     ]
    },
    {
     "name": "stderr",
     "output_type": "stream",
     "text": [
      "100%|██████████| 5000/5000 [00:09<00:00, 526.25it/s]/it]\n",
      " 31%|███       | 3051/10000 [1:19:02<8:05:46,  4.19s/it]"
     ]
    },
    {
     "name": "stdout",
     "output_type": "stream",
     "text": [
      "Iteration: 3050 Average reward: 0.9589\n"
     ]
    },
    {
     "name": "stderr",
     "output_type": "stream",
     "text": [
      "100%|██████████| 5000/5000 [00:09<00:00, 505.93it/s]/it]\n",
      " 31%|███       | 3101/10000 [1:20:19<8:12:21,  4.28s/it]"
     ]
    },
    {
     "name": "stdout",
     "output_type": "stream",
     "text": [
      "Iteration: 3100 Average reward: 0.9649\n"
     ]
    },
    {
     "name": "stderr",
     "output_type": "stream",
     "text": [
      "100%|██████████| 5000/5000 [00:09<00:00, 502.23it/s]/it]\n",
      " 32%|███▏      | 3151/10000 [1:21:36<8:13:56,  4.33s/it]"
     ]
    },
    {
     "name": "stdout",
     "output_type": "stream",
     "text": [
      "Iteration: 3150 Average reward: 0.8612\n"
     ]
    },
    {
     "name": "stderr",
     "output_type": "stream",
     "text": [
      "100%|██████████| 5000/5000 [00:09<00:00, 505.25it/s]/it]\n",
      " 32%|███▏      | 3201/10000 [1:22:53<8:06:42,  4.30s/it]"
     ]
    },
    {
     "name": "stdout",
     "output_type": "stream",
     "text": [
      "Iteration: 3200 Average reward: 0.9191\n"
     ]
    },
    {
     "name": "stderr",
     "output_type": "stream",
     "text": [
      "100%|██████████| 5000/5000 [00:10<00:00, 498.86it/s]/it]\n",
      " 33%|███▎      | 3251/10000 [1:24:10<8:09:32,  4.35s/it]"
     ]
    },
    {
     "name": "stdout",
     "output_type": "stream",
     "text": [
      "Iteration: 3250 Average reward: 0.9065\n"
     ]
    },
    {
     "name": "stderr",
     "output_type": "stream",
     "text": [
      "100%|██████████| 5000/5000 [00:09<00:00, 519.14it/s]/it]\n",
      " 33%|███▎      | 3301/10000 [1:25:26<7:49:55,  4.21s/it]"
     ]
    },
    {
     "name": "stdout",
     "output_type": "stream",
     "text": [
      "Iteration: 3300 Average reward: 0.8583\n"
     ]
    },
    {
     "name": "stderr",
     "output_type": "stream",
     "text": [
      "100%|██████████| 5000/5000 [00:09<00:00, 534.01it/s]/it]\n",
      " 34%|███▎      | 3351/10000 [1:26:42<7:41:00,  4.16s/it]"
     ]
    },
    {
     "name": "stdout",
     "output_type": "stream",
     "text": [
      "Iteration: 3350 Average reward: 0.968\n"
     ]
    },
    {
     "name": "stderr",
     "output_type": "stream",
     "text": [
      "100%|██████████| 5000/5000 [00:09<00:00, 514.15it/s]/it]\n",
      " 34%|███▍      | 3401/10000 [1:27:59<7:47:08,  4.25s/it]"
     ]
    },
    {
     "name": "stdout",
     "output_type": "stream",
     "text": [
      "Iteration: 3400 Average reward: 0.8942\n"
     ]
    },
    {
     "name": "stderr",
     "output_type": "stream",
     "text": [
      "100%|██████████| 5000/5000 [00:10<00:00, 493.23it/s]/it]\n",
      " 35%|███▍      | 3451/10000 [1:29:16<7:56:46,  4.37s/it]"
     ]
    },
    {
     "name": "stdout",
     "output_type": "stream",
     "text": [
      "Iteration: 3450 Average reward: 0.9119\n"
     ]
    },
    {
     "name": "stderr",
     "output_type": "stream",
     "text": [
      "100%|██████████| 5000/5000 [00:09<00:00, 511.66it/s]/it]\n",
      " 35%|███▌      | 3501/10000 [1:30:32<7:40:46,  4.25s/it]"
     ]
    },
    {
     "name": "stdout",
     "output_type": "stream",
     "text": [
      "Iteration: 3500 Average reward: 0.8526\n"
     ]
    },
    {
     "name": "stderr",
     "output_type": "stream",
     "text": [
      "100%|██████████| 5000/5000 [00:10<00:00, 476.76it/s]/it]\n",
      " 36%|███▌      | 3551/10000 [1:31:49<8:01:28,  4.48s/it]"
     ]
    },
    {
     "name": "stdout",
     "output_type": "stream",
     "text": [
      "Iteration: 3550 Average reward: 0.9802\n"
     ]
    },
    {
     "name": "stderr",
     "output_type": "stream",
     "text": [
      "100%|██████████| 5000/5000 [00:10<00:00, 491.70it/s]/it]\n",
      " 36%|███▌      | 3601/10000 [1:33:07<7:50:51,  4.41s/it]"
     ]
    },
    {
     "name": "stdout",
     "output_type": "stream",
     "text": [
      "Iteration: 3600 Average reward: 0.9026\n"
     ]
    },
    {
     "name": "stderr",
     "output_type": "stream",
     "text": [
      "100%|██████████| 5000/5000 [00:10<00:00, 484.39it/s]/it]\n",
      " 37%|███▋      | 3651/10000 [1:34:25<7:51:38,  4.46s/it]"
     ]
    },
    {
     "name": "stdout",
     "output_type": "stream",
     "text": [
      "Iteration: 3650 Average reward: 0.9829\n"
     ]
    },
    {
     "name": "stderr",
     "output_type": "stream",
     "text": [
      "100%|██████████| 5000/5000 [00:10<00:00, 487.79it/s]/it]\n",
      " 37%|███▋      | 3701/10000 [1:35:42<7:45:06,  4.43s/it]"
     ]
    },
    {
     "name": "stdout",
     "output_type": "stream",
     "text": [
      "Iteration: 3700 Average reward: 0.9871\n"
     ]
    },
    {
     "name": "stderr",
     "output_type": "stream",
     "text": [
      "100%|██████████| 5000/5000 [00:10<00:00, 480.85it/s]/it]\n",
      " 38%|███▊      | 3751/10000 [1:36:59<7:43:36,  4.45s/it]"
     ]
    },
    {
     "name": "stdout",
     "output_type": "stream",
     "text": [
      "Iteration: 3750 Average reward: 0.9268\n"
     ]
    },
    {
     "name": "stderr",
     "output_type": "stream",
     "text": [
      "100%|██████████| 5000/5000 [00:10<00:00, 465.55it/s]/it]\n",
      " 38%|███▊      | 3801/10000 [1:38:16<7:49:12,  4.54s/it]"
     ]
    },
    {
     "name": "stdout",
     "output_type": "stream",
     "text": [
      "Iteration: 3800 Average reward: 0.9005\n"
     ]
    },
    {
     "name": "stderr",
     "output_type": "stream",
     "text": [
      "100%|██████████| 5000/5000 [00:10<00:00, 483.69it/s]/it]\n",
      " 39%|███▊      | 3851/10000 [1:39:34<7:34:14,  4.43s/it]"
     ]
    },
    {
     "name": "stdout",
     "output_type": "stream",
     "text": [
      "Iteration: 3850 Average reward: 0.8974\n"
     ]
    },
    {
     "name": "stderr",
     "output_type": "stream",
     "text": [
      "100%|██████████| 5000/5000 [00:10<00:00, 496.73it/s]/it]\n",
      " 39%|███▉      | 3901/10000 [1:40:50<7:22:33,  4.35s/it]"
     ]
    },
    {
     "name": "stdout",
     "output_type": "stream",
     "text": [
      "Iteration: 3900 Average reward: 0.9038\n"
     ]
    },
    {
     "name": "stderr",
     "output_type": "stream",
     "text": [
      "100%|██████████| 5000/5000 [00:10<00:00, 465.82it/s]/it]\n",
      " 40%|███▉      | 3951/10000 [1:42:07<7:37:32,  4.54s/it]"
     ]
    },
    {
     "name": "stdout",
     "output_type": "stream",
     "text": [
      "Iteration: 3950 Average reward: 0.9177\n"
     ]
    },
    {
     "name": "stderr",
     "output_type": "stream",
     "text": [
      "100%|██████████| 5000/5000 [00:10<00:00, 493.64it/s]/it]\n",
      " 40%|████      | 4001/10000 [1:43:24<7:18:05,  4.38s/it]"
     ]
    },
    {
     "name": "stdout",
     "output_type": "stream",
     "text": [
      "Iteration: 4000 Average reward: 0.9444\n"
     ]
    },
    {
     "name": "stderr",
     "output_type": "stream",
     "text": [
      "100%|██████████| 5000/5000 [00:10<00:00, 470.40it/s]/it]\n",
      " 41%|████      | 4051/10000 [1:44:42<7:28:02,  4.52s/it]"
     ]
    },
    {
     "name": "stdout",
     "output_type": "stream",
     "text": [
      "Iteration: 4050 Average reward: 0.9211\n"
     ]
    },
    {
     "name": "stderr",
     "output_type": "stream",
     "text": [
      "100%|██████████| 5000/5000 [00:10<00:00, 493.61it/s]/it]\n",
      " 41%|████      | 4101/10000 [1:45:59<7:09:12,  4.37s/it]"
     ]
    },
    {
     "name": "stdout",
     "output_type": "stream",
     "text": [
      "Iteration: 4100 Average reward: 0.9083\n"
     ]
    },
    {
     "name": "stderr",
     "output_type": "stream",
     "text": [
      "100%|██████████| 5000/5000 [00:10<00:00, 495.21it/s]/it]\n",
      " 42%|████▏     | 4151/10000 [1:47:15<7:04:34,  4.36s/it]"
     ]
    },
    {
     "name": "stdout",
     "output_type": "stream",
     "text": [
      "Iteration: 4150 Average reward: 0.8723\n"
     ]
    },
    {
     "name": "stderr",
     "output_type": "stream",
     "text": [
      "100%|██████████| 5000/5000 [00:10<00:00, 482.24it/s]/it]\n",
      " 42%|████▏     | 4201/10000 [1:48:32<7:08:48,  4.44s/it]"
     ]
    },
    {
     "name": "stdout",
     "output_type": "stream",
     "text": [
      "Iteration: 4200 Average reward: 0.9318\n"
     ]
    },
    {
     "name": "stderr",
     "output_type": "stream",
     "text": [
      "100%|██████████| 5000/5000 [00:10<00:00, 475.04it/s]/it]\n",
      " 43%|████▎     | 4251/10000 [1:49:49<7:09:55,  4.49s/it]"
     ]
    },
    {
     "name": "stdout",
     "output_type": "stream",
     "text": [
      "Iteration: 4250 Average reward: 0.9455\n"
     ]
    },
    {
     "name": "stderr",
     "output_type": "stream",
     "text": [
      "100%|██████████| 5000/5000 [00:10<00:00, 484.17it/s]/it]\n",
      " 43%|████▎     | 4301/10000 [1:51:06<7:00:40,  4.43s/it]"
     ]
    },
    {
     "name": "stdout",
     "output_type": "stream",
     "text": [
      "Iteration: 4300 Average reward: 0.9104\n"
     ]
    },
    {
     "name": "stderr",
     "output_type": "stream",
     "text": [
      "100%|██████████| 5000/5000 [00:10<00:00, 497.03it/s]/it]\n",
      " 44%|████▎     | 4351/10000 [1:52:23<6:49:39,  4.35s/it]"
     ]
    },
    {
     "name": "stdout",
     "output_type": "stream",
     "text": [
      "Iteration: 4350 Average reward: 0.8995\n"
     ]
    },
    {
     "name": "stderr",
     "output_type": "stream",
     "text": [
      "100%|██████████| 5000/5000 [00:10<00:00, 489.85it/s]/it]\n",
      " 44%|████▍     | 4401/10000 [1:53:40<6:52:09,  4.42s/it]"
     ]
    },
    {
     "name": "stdout",
     "output_type": "stream",
     "text": [
      "Iteration: 4400 Average reward: 0.9061\n"
     ]
    },
    {
     "name": "stderr",
     "output_type": "stream",
     "text": [
      "100%|██████████| 5000/5000 [00:10<00:00, 478.87it/s]/it]\n",
      " 45%|████▍     | 4451/10000 [1:54:58<6:54:53,  4.49s/it]"
     ]
    },
    {
     "name": "stdout",
     "output_type": "stream",
     "text": [
      "Iteration: 4450 Average reward: 0.9015\n"
     ]
    },
    {
     "name": "stderr",
     "output_type": "stream",
     "text": [
      "100%|██████████| 5000/5000 [00:10<00:00, 485.38it/s]/it]\n",
      " 45%|████▌     | 4501/10000 [1:56:15<6:47:50,  4.45s/it]"
     ]
    },
    {
     "name": "stdout",
     "output_type": "stream",
     "text": [
      "Iteration: 4500 Average reward: 0.9121\n"
     ]
    },
    {
     "name": "stderr",
     "output_type": "stream",
     "text": [
      "100%|██████████| 5000/5000 [00:10<00:00, 496.58it/s]/it]\n",
      " 46%|████▌     | 4551/10000 [1:57:32<6:36:50,  4.37s/it]"
     ]
    },
    {
     "name": "stdout",
     "output_type": "stream",
     "text": [
      "Iteration: 4550 Average reward: 0.8986\n"
     ]
    },
    {
     "name": "stderr",
     "output_type": "stream",
     "text": [
      "100%|██████████| 5000/5000 [00:10<00:00, 486.52it/s]/it]\n",
      " 46%|████▌     | 4601/10000 [1:58:50<6:37:43,  4.42s/it]"
     ]
    },
    {
     "name": "stdout",
     "output_type": "stream",
     "text": [
      "Iteration: 4600 Average reward: 0.9461\n"
     ]
    },
    {
     "name": "stderr",
     "output_type": "stream",
     "text": [
      "100%|██████████| 5000/5000 [00:10<00:00, 475.03it/s]/it]\n",
      " 47%|████▋     | 4651/10000 [2:00:07<6:40:31,  4.49s/it]"
     ]
    },
    {
     "name": "stdout",
     "output_type": "stream",
     "text": [
      "Iteration: 4650 Average reward: 0.962\n"
     ]
    },
    {
     "name": "stderr",
     "output_type": "stream",
     "text": [
      "100%|██████████| 5000/5000 [00:10<00:00, 470.96it/s]/it]\n",
      " 47%|████▋     | 4701/10000 [2:01:24<6:37:19,  4.50s/it]"
     ]
    },
    {
     "name": "stdout",
     "output_type": "stream",
     "text": [
      "Iteration: 4700 Average reward: 0.8649\n"
     ]
    },
    {
     "name": "stderr",
     "output_type": "stream",
     "text": [
      "100%|██████████| 5000/5000 [00:10<00:00, 490.75it/s]/it]\n",
      " 48%|████▊     | 4751/10000 [2:02:40<6:22:25,  4.37s/it]"
     ]
    },
    {
     "name": "stdout",
     "output_type": "stream",
     "text": [
      "Iteration: 4750 Average reward: 0.9529\n"
     ]
    },
    {
     "name": "stderr",
     "output_type": "stream",
     "text": [
      "100%|██████████| 5000/5000 [00:10<00:00, 459.45it/s]/it]\n",
      " 48%|████▊     | 4801/10000 [2:03:58<6:40:50,  4.63s/it]"
     ]
    },
    {
     "name": "stdout",
     "output_type": "stream",
     "text": [
      "Iteration: 4800 Average reward: 0.8997\n"
     ]
    },
    {
     "name": "stderr",
     "output_type": "stream",
     "text": [
      "100%|██████████| 5000/5000 [00:10<00:00, 481.63it/s]/it]\n",
      " 49%|████▊     | 4851/10000 [2:05:16<6:22:55,  4.46s/it]"
     ]
    },
    {
     "name": "stdout",
     "output_type": "stream",
     "text": [
      "Iteration: 4850 Average reward: 0.896\n"
     ]
    },
    {
     "name": "stderr",
     "output_type": "stream",
     "text": [
      "100%|██████████| 5000/5000 [00:10<00:00, 477.83it/s]/it]\n",
      " 49%|████▉     | 4901/10000 [2:06:33<6:18:15,  4.45s/it]"
     ]
    },
    {
     "name": "stdout",
     "output_type": "stream",
     "text": [
      "Iteration: 4900 Average reward: 0.9384\n"
     ]
    },
    {
     "name": "stderr",
     "output_type": "stream",
     "text": [
      "100%|██████████| 5000/5000 [00:10<00:00, 476.00it/s]/it]\n",
      " 50%|████▉     | 4951/10000 [2:07:50<6:17:04,  4.48s/it]"
     ]
    },
    {
     "name": "stdout",
     "output_type": "stream",
     "text": [
      "Iteration: 4950 Average reward: 0.952\n"
     ]
    },
    {
     "name": "stderr",
     "output_type": "stream",
     "text": [
      "100%|██████████| 5000/5000 [00:10<00:00, 485.55it/s]/it]\n",
      " 50%|█████     | 5001/10000 [2:09:06<6:08:03,  4.42s/it]"
     ]
    },
    {
     "name": "stdout",
     "output_type": "stream",
     "text": [
      "Iteration: 5000 Average reward: 0.9\n"
     ]
    },
    {
     "name": "stderr",
     "output_type": "stream",
     "text": [
      "100%|██████████| 5000/5000 [00:10<00:00, 459.87it/s]/it]\n",
      " 51%|█████     | 5051/10000 [2:10:23<6:17:46,  4.58s/it]"
     ]
    },
    {
     "name": "stdout",
     "output_type": "stream",
     "text": [
      "Iteration: 5050 Average reward: 0.9585\n"
     ]
    },
    {
     "name": "stderr",
     "output_type": "stream",
     "text": [
      "100%|██████████| 5000/5000 [00:10<00:00, 487.21it/s]/it]\n",
      " 51%|█████     | 5101/10000 [2:11:40<5:59:16,  4.40s/it]"
     ]
    },
    {
     "name": "stdout",
     "output_type": "stream",
     "text": [
      "Iteration: 5100 Average reward: 0.867\n"
     ]
    },
    {
     "name": "stderr",
     "output_type": "stream",
     "text": [
      "100%|██████████| 5000/5000 [00:10<00:00, 479.17it/s]/it]\n",
      " 52%|█████▏    | 5151/10000 [2:12:58<6:00:29,  4.46s/it]"
     ]
    },
    {
     "name": "stdout",
     "output_type": "stream",
     "text": [
      "Iteration: 5150 Average reward: 0.904\n"
     ]
    },
    {
     "name": "stderr",
     "output_type": "stream",
     "text": [
      "100%|██████████| 5000/5000 [00:10<00:00, 486.29it/s]/it]\n",
      " 52%|█████▏    | 5201/10000 [2:14:15<5:54:33,  4.43s/it]"
     ]
    },
    {
     "name": "stdout",
     "output_type": "stream",
     "text": [
      "Iteration: 5200 Average reward: 0.942\n"
     ]
    },
    {
     "name": "stderr",
     "output_type": "stream",
     "text": [
      "100%|██████████| 5000/5000 [00:10<00:00, 482.63it/s]/it]\n",
      " 53%|█████▎    | 5251/10000 [2:15:32<5:51:38,  4.44s/it]"
     ]
    },
    {
     "name": "stdout",
     "output_type": "stream",
     "text": [
      "Iteration: 5250 Average reward: 0.9595\n"
     ]
    },
    {
     "name": "stderr",
     "output_type": "stream",
     "text": [
      "100%|██████████| 5000/5000 [00:10<00:00, 471.10it/s]/it]\n",
      " 53%|█████▎    | 5301/10000 [2:16:50<5:55:43,  4.54s/it]"
     ]
    },
    {
     "name": "stdout",
     "output_type": "stream",
     "text": [
      "Iteration: 5300 Average reward: 0.9703\n"
     ]
    },
    {
     "name": "stderr",
     "output_type": "stream",
     "text": [
      "100%|██████████| 5000/5000 [00:11<00:00, 449.20it/s]/it]\n",
      " 54%|█████▎    | 5351/10000 [2:18:09<6:03:10,  4.69s/it]"
     ]
    },
    {
     "name": "stdout",
     "output_type": "stream",
     "text": [
      "Iteration: 5350 Average reward: 0.9749\n"
     ]
    },
    {
     "name": "stderr",
     "output_type": "stream",
     "text": [
      "100%|██████████| 5000/5000 [00:10<00:00, 466.92it/s]/it]\n",
      " 54%|█████▍    | 5401/10000 [2:19:26<5:49:59,  4.57s/it]"
     ]
    },
    {
     "name": "stdout",
     "output_type": "stream",
     "text": [
      "Iteration: 5400 Average reward: 0.9464\n"
     ]
    },
    {
     "name": "stderr",
     "output_type": "stream",
     "text": [
      "100%|██████████| 5000/5000 [00:10<00:00, 482.10it/s]/it]\n",
      " 55%|█████▍    | 5451/10000 [2:20:44<5:36:47,  4.44s/it]"
     ]
    },
    {
     "name": "stdout",
     "output_type": "stream",
     "text": [
      "Iteration: 5450 Average reward: 0.945\n"
     ]
    },
    {
     "name": "stderr",
     "output_type": "stream",
     "text": [
      "100%|██████████| 5000/5000 [00:10<00:00, 470.66it/s]/it]\n",
      " 55%|█████▌    | 5501/10000 [2:22:02<5:39:21,  4.53s/it]"
     ]
    },
    {
     "name": "stdout",
     "output_type": "stream",
     "text": [
      "Iteration: 5500 Average reward: 0.9102\n"
     ]
    },
    {
     "name": "stderr",
     "output_type": "stream",
     "text": [
      "100%|██████████| 5000/5000 [00:10<00:00, 460.70it/s]/it]\n",
      " 56%|█████▌    | 5551/10000 [2:23:20<5:40:59,  4.60s/it]"
     ]
    },
    {
     "name": "stdout",
     "output_type": "stream",
     "text": [
      "Iteration: 5550 Average reward: 0.9599\n"
     ]
    },
    {
     "name": "stderr",
     "output_type": "stream",
     "text": [
      "100%|██████████| 5000/5000 [00:10<00:00, 484.08it/s]/it]\n",
      " 56%|█████▌    | 5601/10000 [2:24:37<5:24:47,  4.43s/it]"
     ]
    },
    {
     "name": "stdout",
     "output_type": "stream",
     "text": [
      "Iteration: 5600 Average reward: 0.9142\n"
     ]
    },
    {
     "name": "stderr",
     "output_type": "stream",
     "text": [
      "100%|██████████| 5000/5000 [00:10<00:00, 471.92it/s]/it]\n",
      " 57%|█████▋    | 5651/10000 [2:25:54<5:26:53,  4.51s/it]"
     ]
    },
    {
     "name": "stdout",
     "output_type": "stream",
     "text": [
      "Iteration: 5650 Average reward: 0.8591\n"
     ]
    },
    {
     "name": "stderr",
     "output_type": "stream",
     "text": [
      "100%|██████████| 5000/5000 [00:10<00:00, 468.14it/s]/it]\n",
      " 57%|█████▋    | 5701/10000 [2:27:11<5:27:02,  4.56s/it]"
     ]
    },
    {
     "name": "stdout",
     "output_type": "stream",
     "text": [
      "Iteration: 5700 Average reward: 0.8842\n"
     ]
    },
    {
     "name": "stderr",
     "output_type": "stream",
     "text": [
      "100%|██████████| 5000/5000 [00:10<00:00, 474.00it/s]/it]\n",
      " 58%|█████▊    | 5751/10000 [2:28:29<5:19:52,  4.52s/it]"
     ]
    },
    {
     "name": "stdout",
     "output_type": "stream",
     "text": [
      "Iteration: 5750 Average reward: 0.9517\n"
     ]
    },
    {
     "name": "stderr",
     "output_type": "stream",
     "text": [
      "100%|██████████| 5000/5000 [00:10<00:00, 481.67it/s]/it]\n",
      " 58%|█████▊    | 5801/10000 [2:29:47<5:11:33,  4.45s/it]"
     ]
    },
    {
     "name": "stdout",
     "output_type": "stream",
     "text": [
      "Iteration: 5800 Average reward: 0.9107\n"
     ]
    },
    {
     "name": "stderr",
     "output_type": "stream",
     "text": [
      "100%|██████████| 5000/5000 [00:10<00:00, 475.73it/s]/it]\n",
      " 59%|█████▊    | 5851/10000 [2:31:04<5:10:47,  4.49s/it]"
     ]
    },
    {
     "name": "stdout",
     "output_type": "stream",
     "text": [
      "Iteration: 5850 Average reward: 0.8961\n"
     ]
    },
    {
     "name": "stderr",
     "output_type": "stream",
     "text": [
      "100%|██████████| 5000/5000 [00:10<00:00, 471.26it/s]/it]\n",
      " 59%|█████▉    | 5901/10000 [2:32:22<5:09:49,  4.54s/it]"
     ]
    },
    {
     "name": "stdout",
     "output_type": "stream",
     "text": [
      "Iteration: 5900 Average reward: 0.8984\n"
     ]
    },
    {
     "name": "stderr",
     "output_type": "stream",
     "text": [
      "100%|██████████| 5000/5000 [00:10<00:00, 463.45it/s]/it]\n",
      " 60%|█████▉    | 5951/10000 [2:33:41<5:08:30,  4.57s/it]"
     ]
    },
    {
     "name": "stdout",
     "output_type": "stream",
     "text": [
      "Iteration: 5950 Average reward: 0.9246\n"
     ]
    },
    {
     "name": "stderr",
     "output_type": "stream",
     "text": [
      "100%|██████████| 5000/5000 [00:10<00:00, 457.12it/s]/it]\n",
      " 60%|██████    | 6001/10000 [2:34:58<5:07:21,  4.61s/it]"
     ]
    },
    {
     "name": "stdout",
     "output_type": "stream",
     "text": [
      "Iteration: 6000 Average reward: 0.9218\n"
     ]
    },
    {
     "name": "stderr",
     "output_type": "stream",
     "text": [
      "100%|██████████| 5000/5000 [00:10<00:00, 486.37it/s]/it]\n",
      " 61%|██████    | 6051/10000 [2:36:15<4:51:44,  4.43s/it]"
     ]
    },
    {
     "name": "stdout",
     "output_type": "stream",
     "text": [
      "Iteration: 6050 Average reward: 0.9455\n"
     ]
    },
    {
     "name": "stderr",
     "output_type": "stream",
     "text": [
      "100%|██████████| 5000/5000 [00:10<00:00, 463.17it/s]/it]\n",
      " 61%|██████    | 6101/10000 [2:37:33<4:58:23,  4.59s/it]"
     ]
    },
    {
     "name": "stdout",
     "output_type": "stream",
     "text": [
      "Iteration: 6100 Average reward: 0.9377\n"
     ]
    },
    {
     "name": "stderr",
     "output_type": "stream",
     "text": [
      "100%|██████████| 5000/5000 [00:10<00:00, 463.63it/s]/it]\n",
      " 62%|██████▏   | 6151/10000 [2:38:52<4:54:54,  4.60s/it]"
     ]
    },
    {
     "name": "stdout",
     "output_type": "stream",
     "text": [
      "Iteration: 6150 Average reward: 0.8648\n"
     ]
    },
    {
     "name": "stderr",
     "output_type": "stream",
     "text": [
      "100%|██████████| 5000/5000 [00:10<00:00, 465.88it/s]/it]\n",
      " 62%|██████▏   | 6201/10000 [2:40:09<4:47:55,  4.55s/it]"
     ]
    },
    {
     "name": "stdout",
     "output_type": "stream",
     "text": [
      "Iteration: 6200 Average reward: 0.9472\n"
     ]
    },
    {
     "name": "stderr",
     "output_type": "stream",
     "text": [
      "100%|██████████| 5000/5000 [00:10<00:00, 461.25it/s]/it]\n",
      " 63%|██████▎   | 6251/10000 [2:41:27<4:46:02,  4.58s/it]"
     ]
    },
    {
     "name": "stdout",
     "output_type": "stream",
     "text": [
      "Iteration: 6250 Average reward: 0.9638\n"
     ]
    },
    {
     "name": "stderr",
     "output_type": "stream",
     "text": [
      "100%|██████████| 5000/5000 [00:10<00:00, 477.34it/s]/it]\n",
      " 63%|██████▎   | 6301/10000 [2:42:45<4:37:30,  4.50s/it]"
     ]
    },
    {
     "name": "stdout",
     "output_type": "stream",
     "text": [
      "Iteration: 6300 Average reward: 0.8949\n"
     ]
    },
    {
     "name": "stderr",
     "output_type": "stream",
     "text": [
      "100%|██████████| 5000/5000 [00:10<00:00, 462.85it/s]/it]\n",
      " 64%|██████▎   | 6351/10000 [2:44:02<4:36:37,  4.55s/it]"
     ]
    },
    {
     "name": "stdout",
     "output_type": "stream",
     "text": [
      "Iteration: 6350 Average reward: 0.902\n"
     ]
    },
    {
     "name": "stderr",
     "output_type": "stream",
     "text": [
      "100%|██████████| 5000/5000 [00:10<00:00, 467.00it/s]/it]\n",
      " 64%|██████▍   | 6401/10000 [2:45:19<4:32:26,  4.54s/it]"
     ]
    },
    {
     "name": "stdout",
     "output_type": "stream",
     "text": [
      "Iteration: 6400 Average reward: 0.9381\n"
     ]
    },
    {
     "name": "stderr",
     "output_type": "stream",
     "text": [
      "100%|██████████| 5000/5000 [00:10<00:00, 462.71it/s]/it]\n",
      " 65%|██████▍   | 6451/10000 [2:46:38<4:30:28,  4.57s/it]"
     ]
    },
    {
     "name": "stdout",
     "output_type": "stream",
     "text": [
      "Iteration: 6450 Average reward: 0.9161\n"
     ]
    },
    {
     "name": "stderr",
     "output_type": "stream",
     "text": [
      "100%|██████████| 5000/5000 [00:10<00:00, 481.96it/s]/it]\n",
      " 65%|██████▌   | 6501/10000 [2:47:55<4:19:29,  4.45s/it]"
     ]
    },
    {
     "name": "stdout",
     "output_type": "stream",
     "text": [
      "Iteration: 6500 Average reward: 0.9582\n"
     ]
    },
    {
     "name": "stderr",
     "output_type": "stream",
     "text": [
      "100%|██████████| 5000/5000 [00:10<00:00, 464.97it/s]/it]\n",
      " 66%|██████▌   | 6551/10000 [2:49:13<4:22:40,  4.57s/it]"
     ]
    },
    {
     "name": "stdout",
     "output_type": "stream",
     "text": [
      "Iteration: 6550 Average reward: 0.9244\n"
     ]
    },
    {
     "name": "stderr",
     "output_type": "stream",
     "text": [
      "100%|██████████| 5000/5000 [00:10<00:00, 466.84it/s]/it]\n",
      " 66%|██████▌   | 6601/10000 [2:50:31<4:17:47,  4.55s/it]"
     ]
    },
    {
     "name": "stdout",
     "output_type": "stream",
     "text": [
      "Iteration: 6600 Average reward: 0.8753\n"
     ]
    },
    {
     "name": "stderr",
     "output_type": "stream",
     "text": [
      "100%|██████████| 5000/5000 [00:10<00:00, 470.29it/s]/it]\n",
      " 67%|██████▋   | 6651/10000 [2:51:48<4:12:58,  4.53s/it]"
     ]
    },
    {
     "name": "stdout",
     "output_type": "stream",
     "text": [
      "Iteration: 6650 Average reward: 0.9242\n"
     ]
    },
    {
     "name": "stderr",
     "output_type": "stream",
     "text": [
      "100%|██████████| 5000/5000 [00:10<00:00, 462.88it/s]/it]\n",
      " 67%|██████▋   | 6701/10000 [2:53:06<4:11:42,  4.58s/it]"
     ]
    },
    {
     "name": "stdout",
     "output_type": "stream",
     "text": [
      "Iteration: 6700 Average reward: 0.8892\n"
     ]
    },
    {
     "name": "stderr",
     "output_type": "stream",
     "text": [
      "100%|██████████| 5000/5000 [00:10<00:00, 460.78it/s]/it]\n",
      " 68%|██████▊   | 6751/10000 [2:54:23<4:07:11,  4.57s/it]"
     ]
    },
    {
     "name": "stdout",
     "output_type": "stream",
     "text": [
      "Iteration: 6750 Average reward: 0.8873\n"
     ]
    },
    {
     "name": "stderr",
     "output_type": "stream",
     "text": [
      "100%|██████████| 5000/5000 [00:10<00:00, 487.50it/s]/it]\n",
      " 68%|██████▊   | 6801/10000 [2:55:40<3:54:30,  4.40s/it]"
     ]
    },
    {
     "name": "stdout",
     "output_type": "stream",
     "text": [
      "Iteration: 6800 Average reward: 0.9492\n"
     ]
    },
    {
     "name": "stderr",
     "output_type": "stream",
     "text": [
      "100%|██████████| 5000/5000 [00:11<00:00, 450.11it/s]/it]\n",
      " 69%|██████▊   | 6851/10000 [2:56:57<4:04:54,  4.67s/it]"
     ]
    },
    {
     "name": "stdout",
     "output_type": "stream",
     "text": [
      "Iteration: 6850 Average reward: 0.965\n"
     ]
    },
    {
     "name": "stderr",
     "output_type": "stream",
     "text": [
      "100%|██████████| 5000/5000 [00:10<00:00, 499.58it/s]/it]\n",
      " 69%|██████▉   | 6901/10000 [2:58:14<3:43:51,  4.33s/it]"
     ]
    },
    {
     "name": "stdout",
     "output_type": "stream",
     "text": [
      "Iteration: 6900 Average reward: 0.9383\n"
     ]
    },
    {
     "name": "stderr",
     "output_type": "stream",
     "text": [
      "100%|██████████| 5000/5000 [00:10<00:00, 476.40it/s]/it]\n",
      " 70%|██████▉   | 6951/10000 [2:59:31<3:47:44,  4.48s/it]"
     ]
    },
    {
     "name": "stdout",
     "output_type": "stream",
     "text": [
      "Iteration: 6950 Average reward: 0.9023\n"
     ]
    },
    {
     "name": "stderr",
     "output_type": "stream",
     "text": [
      "100%|██████████| 5000/5000 [00:10<00:00, 457.39it/s]/it]\n",
      " 70%|███████   | 7001/10000 [3:00:48<3:49:00,  4.58s/it]"
     ]
    },
    {
     "name": "stdout",
     "output_type": "stream",
     "text": [
      "Iteration: 7000 Average reward: 0.9169\n"
     ]
    },
    {
     "name": "stderr",
     "output_type": "stream",
     "text": [
      "100%|██████████| 5000/5000 [00:10<00:00, 470.60it/s]/it]\n",
      " 71%|███████   | 7051/10000 [3:02:05<3:41:30,  4.51s/it]"
     ]
    },
    {
     "name": "stdout",
     "output_type": "stream",
     "text": [
      "Iteration: 7050 Average reward: 0.9299\n"
     ]
    },
    {
     "name": "stderr",
     "output_type": "stream",
     "text": [
      "100%|██████████| 5000/5000 [00:10<00:00, 480.44it/s]/it]\n",
      " 71%|███████   | 7101/10000 [3:03:24<3:36:20,  4.48s/it]"
     ]
    },
    {
     "name": "stdout",
     "output_type": "stream",
     "text": [
      "Iteration: 7100 Average reward: 0.9363\n"
     ]
    },
    {
     "name": "stderr",
     "output_type": "stream",
     "text": [
      "100%|██████████| 5000/5000 [00:10<00:00, 460.99it/s]/it]\n",
      " 72%|███████▏  | 7151/10000 [3:04:41<3:37:52,  4.59s/it]"
     ]
    },
    {
     "name": "stdout",
     "output_type": "stream",
     "text": [
      "Iteration: 7150 Average reward: 0.8998\n"
     ]
    },
    {
     "name": "stderr",
     "output_type": "stream",
     "text": [
      "100%|██████████| 5000/5000 [00:10<00:00, 471.48it/s]/it]\n",
      " 72%|███████▏  | 7201/10000 [3:05:59<3:31:23,  4.53s/it]"
     ]
    },
    {
     "name": "stdout",
     "output_type": "stream",
     "text": [
      "Iteration: 7200 Average reward: 0.9357\n"
     ]
    },
    {
     "name": "stderr",
     "output_type": "stream",
     "text": [
      "100%|██████████| 5000/5000 [00:11<00:00, 444.36it/s]/it]\n",
      " 73%|███████▎  | 7251/10000 [3:07:17<3:35:41,  4.71s/it]"
     ]
    },
    {
     "name": "stdout",
     "output_type": "stream",
     "text": [
      "Iteration: 7250 Average reward: 0.9628\n"
     ]
    },
    {
     "name": "stderr",
     "output_type": "stream",
     "text": [
      "100%|██████████| 5000/5000 [00:11<00:00, 448.43it/s]t]  \n",
      " 73%|███████▎  | 7301/10000 [3:08:35<3:29:55,  4.67s/it]"
     ]
    },
    {
     "name": "stdout",
     "output_type": "stream",
     "text": [
      "Iteration: 7300 Average reward: 0.9189\n"
     ]
    },
    {
     "name": "stderr",
     "output_type": "stream",
     "text": [
      "100%|██████████| 5000/5000 [00:11<00:00, 454.41it/s]t]  \n",
      " 74%|███████▎  | 7351/10000 [3:09:53<3:24:26,  4.63s/it]"
     ]
    },
    {
     "name": "stdout",
     "output_type": "stream",
     "text": [
      "Iteration: 7350 Average reward: 0.9639\n"
     ]
    },
    {
     "name": "stderr",
     "output_type": "stream",
     "text": [
      "100%|██████████| 5000/5000 [00:10<00:00, 476.83it/s]t]  \n",
      " 74%|███████▍  | 7401/10000 [3:11:11<3:14:49,  4.50s/it]"
     ]
    },
    {
     "name": "stdout",
     "output_type": "stream",
     "text": [
      "Iteration: 7400 Average reward: 0.9247\n"
     ]
    },
    {
     "name": "stderr",
     "output_type": "stream",
     "text": [
      "100%|██████████| 5000/5000 [00:10<00:00, 465.05it/s]t]  \n",
      " 75%|███████▍  | 7451/10000 [3:12:29<3:14:03,  4.57s/it]"
     ]
    },
    {
     "name": "stdout",
     "output_type": "stream",
     "text": [
      "Iteration: 7450 Average reward: 0.9353\n"
     ]
    },
    {
     "name": "stderr",
     "output_type": "stream",
     "text": [
      "100%|██████████| 5000/5000 [00:10<00:00, 455.09it/s]t]  \n",
      " 75%|███████▌  | 7501/10000 [3:13:46<3:12:18,  4.62s/it]"
     ]
    },
    {
     "name": "stdout",
     "output_type": "stream",
     "text": [
      "Iteration: 7500 Average reward: 0.9588\n"
     ]
    },
    {
     "name": "stderr",
     "output_type": "stream",
     "text": [
      "100%|██████████| 5000/5000 [00:11<00:00, 446.38it/s]t]  \n",
      " 76%|███████▌  | 7551/10000 [3:15:04<3:11:22,  4.69s/it]"
     ]
    },
    {
     "name": "stdout",
     "output_type": "stream",
     "text": [
      "Iteration: 7550 Average reward: 0.8946\n"
     ]
    },
    {
     "name": "stderr",
     "output_type": "stream",
     "text": [
      "100%|██████████| 5000/5000 [00:10<00:00, 472.33it/s]t]  \n",
      " 76%|███████▌  | 7601/10000 [3:16:22<3:01:24,  4.54s/it]"
     ]
    },
    {
     "name": "stdout",
     "output_type": "stream",
     "text": [
      "Iteration: 7600 Average reward: 0.9854\n"
     ]
    },
    {
     "name": "stderr",
     "output_type": "stream",
     "text": [
      "100%|██████████| 5000/5000 [00:11<00:00, 444.86it/s]t]  \n",
      " 77%|███████▋  | 7651/10000 [3:17:40<3:03:52,  4.70s/it]"
     ]
    },
    {
     "name": "stdout",
     "output_type": "stream",
     "text": [
      "Iteration: 7650 Average reward: 0.9673\n"
     ]
    },
    {
     "name": "stderr",
     "output_type": "stream",
     "text": [
      "100%|██████████| 5000/5000 [00:10<00:00, 463.79it/s]t]  \n",
      " 77%|███████▋  | 7701/10000 [3:18:58<2:54:46,  4.56s/it]"
     ]
    },
    {
     "name": "stdout",
     "output_type": "stream",
     "text": [
      "Iteration: 7700 Average reward: 0.9693\n"
     ]
    },
    {
     "name": "stderr",
     "output_type": "stream",
     "text": [
      "100%|██████████| 5000/5000 [00:10<00:00, 455.16it/s]t]  \n",
      " 78%|███████▊  | 7751/10000 [3:20:16<2:54:45,  4.66s/it]"
     ]
    },
    {
     "name": "stdout",
     "output_type": "stream",
     "text": [
      "Iteration: 7750 Average reward: 0.9191\n"
     ]
    },
    {
     "name": "stderr",
     "output_type": "stream",
     "text": [
      "100%|██████████| 5000/5000 [00:10<00:00, 461.74it/s]t]  \n",
      " 78%|███████▊  | 7801/10000 [3:21:33<2:48:07,  4.59s/it]"
     ]
    },
    {
     "name": "stdout",
     "output_type": "stream",
     "text": [
      "Iteration: 7800 Average reward: 0.9724\n"
     ]
    },
    {
     "name": "stderr",
     "output_type": "stream",
     "text": [
      "100%|██████████| 5000/5000 [00:11<00:00, 444.99it/s]t]  \n",
      " 79%|███████▊  | 7851/10000 [3:22:50<2:47:48,  4.69s/it]"
     ]
    },
    {
     "name": "stdout",
     "output_type": "stream",
     "text": [
      "Iteration: 7850 Average reward: 0.9879\n"
     ]
    },
    {
     "name": "stderr",
     "output_type": "stream",
     "text": [
      "100%|██████████| 5000/5000 [00:11<00:00, 453.73it/s]t]  \n",
      " 79%|███████▉  | 7901/10000 [3:24:08<2:41:47,  4.62s/it]"
     ]
    },
    {
     "name": "stdout",
     "output_type": "stream",
     "text": [
      "Iteration: 7900 Average reward: 0.9406\n"
     ]
    },
    {
     "name": "stderr",
     "output_type": "stream",
     "text": [
      "100%|██████████| 5000/5000 [00:10<00:00, 460.42it/s]t]  \n",
      " 80%|███████▉  | 7951/10000 [3:25:26<2:37:59,  4.63s/it]"
     ]
    },
    {
     "name": "stdout",
     "output_type": "stream",
     "text": [
      "Iteration: 7950 Average reward: 0.9196\n"
     ]
    },
    {
     "name": "stderr",
     "output_type": "stream",
     "text": [
      "100%|██████████| 5000/5000 [00:10<00:00, 457.65it/s]t]  \n",
      " 80%|████████  | 8001/10000 [3:26:44<2:33:37,  4.61s/it]"
     ]
    },
    {
     "name": "stdout",
     "output_type": "stream",
     "text": [
      "Iteration: 8000 Average reward: 0.9632\n"
     ]
    },
    {
     "name": "stderr",
     "output_type": "stream",
     "text": [
      "100%|██████████| 5000/5000 [00:11<00:00, 440.31it/s]t]  \n",
      " 81%|████████  | 8051/10000 [3:28:02<2:34:04,  4.74s/it]"
     ]
    },
    {
     "name": "stdout",
     "output_type": "stream",
     "text": [
      "Iteration: 8050 Average reward: 0.9427\n"
     ]
    },
    {
     "name": "stderr",
     "output_type": "stream",
     "text": [
      "100%|██████████| 5000/5000 [00:10<00:00, 483.99it/s]t]  \n",
      " 81%|████████  | 8101/10000 [3:29:19<2:19:25,  4.41s/it]"
     ]
    },
    {
     "name": "stdout",
     "output_type": "stream",
     "text": [
      "Iteration: 8100 Average reward: 0.9204\n"
     ]
    },
    {
     "name": "stderr",
     "output_type": "stream",
     "text": [
      "100%|██████████| 5000/5000 [00:10<00:00, 464.98it/s]t]  \n",
      " 82%|████████▏ | 8151/10000 [3:30:36<2:20:13,  4.55s/it]"
     ]
    },
    {
     "name": "stdout",
     "output_type": "stream",
     "text": [
      "Iteration: 8150 Average reward: 0.9406\n"
     ]
    },
    {
     "name": "stderr",
     "output_type": "stream",
     "text": [
      "100%|██████████| 5000/5000 [00:10<00:00, 467.18it/s]t]  \n",
      " 82%|████████▏ | 8201/10000 [3:31:53<2:16:07,  4.54s/it]"
     ]
    },
    {
     "name": "stdout",
     "output_type": "stream",
     "text": [
      "Iteration: 8200 Average reward: 0.9754\n"
     ]
    },
    {
     "name": "stderr",
     "output_type": "stream",
     "text": [
      "100%|██████████| 5000/5000 [00:10<00:00, 473.90it/s]t]  \n",
      " 83%|████████▎ | 8251/10000 [3:33:09<2:10:40,  4.48s/it]"
     ]
    },
    {
     "name": "stdout",
     "output_type": "stream",
     "text": [
      "Iteration: 8250 Average reward: 0.9668\n"
     ]
    },
    {
     "name": "stderr",
     "output_type": "stream",
     "text": [
      "100%|██████████| 5000/5000 [00:11<00:00, 451.34it/s]t]  \n",
      " 83%|████████▎ | 8301/10000 [3:34:28<2:11:58,  4.66s/it]"
     ]
    },
    {
     "name": "stdout",
     "output_type": "stream",
     "text": [
      "Iteration: 8300 Average reward: 0.9597\n"
     ]
    },
    {
     "name": "stderr",
     "output_type": "stream",
     "text": [
      "100%|██████████| 5000/5000 [00:10<00:00, 463.50it/s]t]  \n",
      " 84%|████████▎ | 8351/10000 [3:35:46<2:05:40,  4.57s/it]"
     ]
    },
    {
     "name": "stdout",
     "output_type": "stream",
     "text": [
      "Iteration: 8350 Average reward: 0.9754\n"
     ]
    },
    {
     "name": "stderr",
     "output_type": "stream",
     "text": [
      "100%|██████████| 5000/5000 [00:11<00:00, 454.27it/s]t]  \n",
      " 84%|████████▍ | 8401/10000 [3:37:03<2:03:42,  4.64s/it]"
     ]
    },
    {
     "name": "stdout",
     "output_type": "stream",
     "text": [
      "Iteration: 8400 Average reward: 0.9266\n"
     ]
    },
    {
     "name": "stderr",
     "output_type": "stream",
     "text": [
      "100%|██████████| 5000/5000 [00:10<00:00, 469.85it/s]t]  \n",
      " 85%|████████▍ | 8451/10000 [3:38:21<1:57:04,  4.53s/it]"
     ]
    },
    {
     "name": "stdout",
     "output_type": "stream",
     "text": [
      "Iteration: 8450 Average reward: 0.9609\n"
     ]
    },
    {
     "name": "stderr",
     "output_type": "stream",
     "text": [
      "100%|██████████| 5000/5000 [00:10<00:00, 475.17it/s]t]  \n",
      " 85%|████████▌ | 8501/10000 [3:39:39<1:52:03,  4.49s/it]"
     ]
    },
    {
     "name": "stdout",
     "output_type": "stream",
     "text": [
      "Iteration: 8500 Average reward: 0.9277\n"
     ]
    },
    {
     "name": "stderr",
     "output_type": "stream",
     "text": [
      "100%|██████████| 5000/5000 [00:11<00:00, 454.38it/s]t]  \n",
      " 86%|████████▌ | 8551/10000 [3:40:56<1:51:40,  4.62s/it]"
     ]
    },
    {
     "name": "stdout",
     "output_type": "stream",
     "text": [
      "Iteration: 8550 Average reward: 0.9952\n"
     ]
    },
    {
     "name": "stderr",
     "output_type": "stream",
     "text": [
      "100%|██████████| 5000/5000 [00:10<00:00, 471.67it/s]t]  \n",
      " 86%|████████▌ | 8601/10000 [3:42:13<1:45:24,  4.52s/it]"
     ]
    },
    {
     "name": "stdout",
     "output_type": "stream",
     "text": [
      "Iteration: 8600 Average reward: 0.9224\n"
     ]
    },
    {
     "name": "stderr",
     "output_type": "stream",
     "text": [
      "100%|██████████| 5000/5000 [00:10<00:00, 467.34it/s]t]  \n",
      " 87%|████████▋ | 8651/10000 [3:43:30<1:42:29,  4.56s/it]"
     ]
    },
    {
     "name": "stdout",
     "output_type": "stream",
     "text": [
      "Iteration: 8650 Average reward: 0.9685\n"
     ]
    },
    {
     "name": "stderr",
     "output_type": "stream",
     "text": [
      "100%|██████████| 5000/5000 [00:11<00:00, 454.14it/s]t]  \n",
      " 87%|████████▋ | 8701/10000 [3:44:47<1:40:22,  4.64s/it]"
     ]
    },
    {
     "name": "stdout",
     "output_type": "stream",
     "text": [
      "Iteration: 8700 Average reward: 0.9466\n"
     ]
    },
    {
     "name": "stderr",
     "output_type": "stream",
     "text": [
      "100%|██████████| 5000/5000 [00:10<00:00, 470.50it/s]t]  \n",
      " 88%|████████▊ | 8751/10000 [3:46:05<1:34:17,  4.53s/it]"
     ]
    },
    {
     "name": "stdout",
     "output_type": "stream",
     "text": [
      "Iteration: 8750 Average reward: 0.8967\n"
     ]
    },
    {
     "name": "stderr",
     "output_type": "stream",
     "text": [
      "100%|██████████| 5000/5000 [00:10<00:00, 462.78it/s]t]  \n",
      " 88%|████████▊ | 8801/10000 [3:47:23<1:31:34,  4.58s/it]"
     ]
    },
    {
     "name": "stdout",
     "output_type": "stream",
     "text": [
      "Iteration: 8800 Average reward: 0.9603\n"
     ]
    },
    {
     "name": "stderr",
     "output_type": "stream",
     "text": [
      "100%|██████████| 5000/5000 [00:10<00:00, 472.02it/s]t]  \n",
      " 89%|████████▊ | 8851/10000 [3:48:41<1:26:37,  4.52s/it]"
     ]
    },
    {
     "name": "stdout",
     "output_type": "stream",
     "text": [
      "Iteration: 8850 Average reward: 0.9472\n"
     ]
    },
    {
     "name": "stderr",
     "output_type": "stream",
     "text": [
      "100%|██████████| 5000/5000 [00:10<00:00, 456.01it/s]t]  \n",
      " 89%|████████▉ | 8901/10000 [3:49:59<1:24:50,  4.63s/it]"
     ]
    },
    {
     "name": "stdout",
     "output_type": "stream",
     "text": [
      "Iteration: 8900 Average reward: 0.9621\n"
     ]
    },
    {
     "name": "stderr",
     "output_type": "stream",
     "text": [
      "100%|██████████| 5000/5000 [00:11<00:00, 445.59it/s]t]  \n",
      " 90%|████████▉ | 8951/10000 [3:51:17<1:22:08,  4.70s/it]"
     ]
    },
    {
     "name": "stdout",
     "output_type": "stream",
     "text": [
      "Iteration: 8950 Average reward: 0.969\n"
     ]
    },
    {
     "name": "stderr",
     "output_type": "stream",
     "text": [
      "100%|██████████| 5000/5000 [00:10<00:00, 466.82it/s]t]  \n",
      " 90%|█████████ | 9001/10000 [3:52:35<1:15:53,  4.56s/it]"
     ]
    },
    {
     "name": "stdout",
     "output_type": "stream",
     "text": [
      "Iteration: 9000 Average reward: 0.9356\n"
     ]
    },
    {
     "name": "stderr",
     "output_type": "stream",
     "text": [
      "100%|██████████| 5000/5000 [00:10<00:00, 462.81it/s]t]  \n",
      " 91%|█████████ | 9051/10000 [3:53:53<1:12:21,  4.57s/it]"
     ]
    },
    {
     "name": "stdout",
     "output_type": "stream",
     "text": [
      "Iteration: 9050 Average reward: 0.9506\n"
     ]
    },
    {
     "name": "stderr",
     "output_type": "stream",
     "text": [
      "100%|██████████| 5000/5000 [00:10<00:00, 455.23it/s]t]  \n",
      " 91%|█████████ | 9101/10000 [3:55:11<1:09:25,  4.63s/it]"
     ]
    },
    {
     "name": "stdout",
     "output_type": "stream",
     "text": [
      "Iteration: 9100 Average reward: 0.9285\n"
     ]
    },
    {
     "name": "stderr",
     "output_type": "stream",
     "text": [
      "100%|██████████| 5000/5000 [00:11<00:00, 446.75it/s]t]  \n",
      " 92%|█████████▏| 9151/10000 [3:56:29<1:06:27,  4.70s/it]"
     ]
    },
    {
     "name": "stdout",
     "output_type": "stream",
     "text": [
      "Iteration: 9150 Average reward: 0.9215\n"
     ]
    },
    {
     "name": "stderr",
     "output_type": "stream",
     "text": [
      "100%|██████████| 5000/5000 [00:10<00:00, 461.21it/s]t]  \n",
      " 92%|█████████▏| 9201/10000 [3:57:46<1:00:49,  4.57s/it]"
     ]
    },
    {
     "name": "stdout",
     "output_type": "stream",
     "text": [
      "Iteration: 9200 Average reward: 0.9272\n"
     ]
    },
    {
     "name": "stderr",
     "output_type": "stream",
     "text": [
      "100%|██████████| 5000/5000 [00:10<00:00, 458.80it/s]t]  \n",
      " 93%|█████████▎| 9251/10000 [3:59:04<57:25,  4.60s/it]"
     ]
    },
    {
     "name": "stdout",
     "output_type": "stream",
     "text": [
      "Iteration: 9250 Average reward: 0.9428\n"
     ]
    },
    {
     "name": "stderr",
     "output_type": "stream",
     "text": [
      "100%|██████████| 5000/5000 [00:10<00:00, 462.76it/s]t]\n",
      " 93%|█████████▎| 9301/10000 [4:00:22<53:34,  4.60s/it]"
     ]
    },
    {
     "name": "stdout",
     "output_type": "stream",
     "text": [
      "Iteration: 9300 Average reward: 0.9564\n"
     ]
    },
    {
     "name": "stderr",
     "output_type": "stream",
     "text": [
      "100%|██████████| 5000/5000 [00:11<00:00, 448.99it/s]t]\n",
      " 94%|█████████▎| 9351/10000 [4:01:40<50:46,  4.69s/it]"
     ]
    },
    {
     "name": "stdout",
     "output_type": "stream",
     "text": [
      "Iteration: 9350 Average reward: 0.9429\n"
     ]
    },
    {
     "name": "stderr",
     "output_type": "stream",
     "text": [
      "100%|██████████| 5000/5000 [00:11<00:00, 447.54it/s]t]\n",
      " 94%|█████████▍| 9401/10000 [4:02:58<46:48,  4.69s/it]"
     ]
    },
    {
     "name": "stdout",
     "output_type": "stream",
     "text": [
      "Iteration: 9400 Average reward: 0.999\n"
     ]
    },
    {
     "name": "stderr",
     "output_type": "stream",
     "text": [
      "100%|██████████| 5000/5000 [00:10<00:00, 462.35it/s]t]\n",
      " 95%|█████████▍| 9451/10000 [4:04:17<42:11,  4.61s/it]"
     ]
    },
    {
     "name": "stdout",
     "output_type": "stream",
     "text": [
      "Iteration: 9450 Average reward: 0.9113\n"
     ]
    },
    {
     "name": "stderr",
     "output_type": "stream",
     "text": [
      "100%|██████████| 5000/5000 [00:10<00:00, 462.73it/s]t]\n",
      " 95%|█████████▌| 9501/10000 [4:05:34<37:54,  4.56s/it]"
     ]
    },
    {
     "name": "stdout",
     "output_type": "stream",
     "text": [
      "Iteration: 9500 Average reward: 0.9997\n"
     ]
    },
    {
     "name": "stderr",
     "output_type": "stream",
     "text": [
      "100%|██████████| 5000/5000 [00:10<00:00, 468.41it/s]t]\n",
      " 96%|█████████▌| 9551/10000 [4:06:51<33:58,  4.54s/it]"
     ]
    },
    {
     "name": "stdout",
     "output_type": "stream",
     "text": [
      "Iteration: 9550 Average reward: 0.9588\n"
     ]
    },
    {
     "name": "stderr",
     "output_type": "stream",
     "text": [
      "100%|██████████| 5000/5000 [00:10<00:00, 472.78it/s]t]\n",
      " 96%|█████████▌| 9601/10000 [4:08:09<30:00,  4.51s/it]"
     ]
    },
    {
     "name": "stdout",
     "output_type": "stream",
     "text": [
      "Iteration: 9600 Average reward: 0.9658\n"
     ]
    },
    {
     "name": "stderr",
     "output_type": "stream",
     "text": [
      "100%|██████████| 5000/5000 [00:11<00:00, 454.19it/s]t]\n",
      " 97%|█████████▋| 9651/10000 [4:09:27<26:58,  4.64s/it]"
     ]
    },
    {
     "name": "stdout",
     "output_type": "stream",
     "text": [
      "Iteration: 9650 Average reward: 0.9769\n"
     ]
    },
    {
     "name": "stderr",
     "output_type": "stream",
     "text": [
      "100%|██████████| 5000/5000 [00:10<00:00, 463.52it/s]t]\n",
      " 97%|█████████▋| 9701/10000 [4:10:45<22:44,  4.56s/it]"
     ]
    },
    {
     "name": "stdout",
     "output_type": "stream",
     "text": [
      "Iteration: 9700 Average reward: 0.9208\n"
     ]
    },
    {
     "name": "stderr",
     "output_type": "stream",
     "text": [
      "100%|██████████| 5000/5000 [00:11<00:00, 442.27it/s]t]\n",
      " 98%|█████████▊| 9751/10000 [4:12:03<19:39,  4.74s/it]"
     ]
    },
    {
     "name": "stdout",
     "output_type": "stream",
     "text": [
      "Iteration: 9750 Average reward: 1.0085\n"
     ]
    },
    {
     "name": "stderr",
     "output_type": "stream",
     "text": [
      "100%|██████████| 5000/5000 [00:10<00:00, 459.42it/s]t]\n",
      " 98%|█████████▊| 9801/10000 [4:13:21<15:15,  4.60s/it]"
     ]
    },
    {
     "name": "stdout",
     "output_type": "stream",
     "text": [
      "Iteration: 9800 Average reward: 0.9397\n"
     ]
    },
    {
     "name": "stderr",
     "output_type": "stream",
     "text": [
      "100%|██████████| 5000/5000 [00:10<00:00, 474.90it/s]t]\n",
      " 99%|█████████▊| 9851/10000 [4:14:39<11:10,  4.50s/it]"
     ]
    },
    {
     "name": "stdout",
     "output_type": "stream",
     "text": [
      "Iteration: 9850 Average reward: 0.9475\n"
     ]
    },
    {
     "name": "stderr",
     "output_type": "stream",
     "text": [
      "100%|██████████| 5000/5000 [00:10<00:00, 459.28it/s]t]\n",
      " 99%|█████████▉| 9901/10000 [4:15:56<07:34,  4.59s/it]"
     ]
    },
    {
     "name": "stdout",
     "output_type": "stream",
     "text": [
      "Iteration: 9900 Average reward: 0.9762\n"
     ]
    },
    {
     "name": "stderr",
     "output_type": "stream",
     "text": [
      "100%|██████████| 5000/5000 [00:10<00:00, 466.50it/s]t]\n",
      "100%|█████████▉| 9951/10000 [4:17:13<03:43,  4.57s/it]"
     ]
    },
    {
     "name": "stdout",
     "output_type": "stream",
     "text": [
      "Iteration: 9950 Average reward: 0.9462\n"
     ]
    },
    {
     "name": "stderr",
     "output_type": "stream",
     "text": [
      "100%|██████████| 10000/10000 [4:18:18<00:00,  1.55s/it]\n"
     ]
    }
   ],
   "source": [
    "iter = []\n",
    "avg_rewards = []\n",
    "\n",
    "# creamos una funcion para loguear el entrenamiento y su evolucion\n",
    "def log_training(agent, iteration):\n",
    "    _, mean_reward = run(leduc, agents, 5000)\n",
    "    avg_rewards.append(mean_reward)\n",
    "    iter.append(iteration)\n",
    "    print('Iteration:', iteration, 'Average reward:', mean_reward)\n",
    "\n",
    "# entrenamos y cada 50 iteraciones evaluamos el agente\n",
    "cfr_agent_with_mcts.train(5_000, log_training, 50)"
   ]
  },
  {
   "cell_type": "code",
   "execution_count": 64,
   "metadata": {},
   "outputs": [
    {
     "name": "stderr",
     "output_type": "stream",
     "text": [
      "No artists with labels found to put in legend.  Note that artists whose label start with an underscore are ignored when legend() is called with no argument.\n"
     ]
    },
    {
     "data": {
      "image/png": "[encoded data removed]",
      "text/plain": [
       "<Figure size 640x480 with 1 Axes>"
      ]
     },
     "metadata": {},
     "output_type": "display_data"
    }
   ],
   "source": [
    "plot_rewards(avg_rewards, iter)"
   ]
  },
  {
   "cell_type": "markdown",
   "metadata": {},
   "source": [
    "Tras implementar y entrenar nuestro agente usando CFR y MCTS en Leduc Poker, hemos realizado varias partidas contra un agente que elige acciones de manera aleatoria. Los resultados de estas partidas han sido prometedores, demostrando que nuestro agente CFR-MCTS, en promedio, mantiene un saldo positivo frente a estrategias no optimizadas. Esta constatación es un indicador inicial de la efectividad de nuestra implementación de MCTS en Leduc Poker.\n",
    "\n",
    "> Sin embargo, es importante para futuros trabajos profundizar en la evaluación y optimización de los parámetros de MCTS, eso implica un análisis más detallado de los resultados obtenidos y la experimentación con diferentes configuraciones de parámetros, asi como la evolución de la estrategia del agente a lo largo de las iteraciones.\n",
    "\n",
    "> Por ultimo, comparar el rendimiento de MCTS con otras técnicas de estimación de valor, como las funciones de evaluación, sería un paso importante para evaluar la efectividad de MCTS en Leduc Poker."
   ]
  },
  {
   "cell_type": "markdown",
   "metadata": {},
   "source": [
    "## Referencias\n",
    "\n",
    "- [PettingZoo: Gym for Multi-Agent Reinforcement Learning](https://arxiv.org/abs/2009.14471)\n",
    "- [Regret Circuits: Composability of Regret Minimizers](https://blog.ml.cmu.edu/2019/08/02/regret-circuits-composability-of-regret-minimizers/)\n",
    "- [Khun Poker](https://en.wikipedia.org/wiki/Kuhn_poker)\n",
    "- [Equilibrio de Nash](https://es.wikipedia.org/wiki/Equilibrio_de_Nash)\n",
    "- [Farol (envite)](https://es.wikipedia.org/wiki/Farol_(envite))"
   ]
  },
  {
   "cell_type": "markdown",
   "metadata": {},
   "source": [
    "## Descargo de Responsabilidad\n",
    "\n",
    "### Participación de la Inteligencia Artificial en la Composición del Texto\n",
    "\n",
    "Este documento incluye secciones cuya composición textual ha sido asistida por una Inteligencia Artificial (IA). Es importante destacar que, aunque la IA ha contribuido en la redacción de ciertas partes del texto para mejorar la claridad y estructura del mismo, los siguientes elementos son enteramente responsabilidad del alumno:\n",
    "\n",
    "- **Desarrollo del Código**: Todo el código presente en este trabajo ha sido desarrollado y escrito por el alumno, reflejando su comprensión y aplicación práctica de los conceptos aprendidos.\n",
    "- **Conclusiones**: Las conclusiones extraídas de la experimentación y análisis son fruto del criterio y razonamiento del alumno, basadas en los resultados obtenidos y las observaciones realizadas durante el desarrollo del proyecto.\n",
    "- **Decisiones Metodológicas y Conceptuales**: Todas las decisiones relacionadas con la metodología, enfoque del proyecto, y la interpretación de los conceptos teóricos son producto del trabajo independiente del alumno.\n",
    "\n",
    "### Propósito de la Asistencia de IA\n",
    "\n",
    "El uso de la IA se ha limitado a proporcionar asistencia en la redacción para facilitar una comunicación clara y efectiva. En ningún momento, la IA ha influido en las decisiones técnicas, analíticas o conceptuales que conforman la esencia y los resultados del proyecto."
   ]
  }
 ],
 "metadata": {
  "kernelspec": {
   "display_name": "Python 3",
   "language": "python",
   "name": "python3"
  },
  "language_info": {
   "codemirror_mode": {
    "name": "ipython",
    "version": 3
   },
   "file_extension": ".py",
   "mimetype": "text/x-python",
   "name": "python",
   "nbconvert_exporter": "python",
   "pygments_lexer": "ipython3",
   "version": "3.11.5"
  }
 },
 "nbformat": 4,
 "nbformat_minor": 2
}
