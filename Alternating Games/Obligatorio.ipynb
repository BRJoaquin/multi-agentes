{
 "cells": [
  {
   "cell_type": "markdown",
   "metadata": {},
   "source": [
    "# Obligatorio Muliti-agentes: CFR y MCTS\n",
    "\n",
    "---\n",
    "## Índice\n",
    "\n",
    "1. [Introducción](##Introducción)\n",
    "2. [Objetivos del Trabajo](##Objetivos-del-Trabajo)\n",
    "3. [Setup](##Setup)\n",
    "   1. [Entorno de Ejecución](###Entorno-de-Ejecución)\n",
    "   2. [Manejo de Dependencias](###Manejo-de-Dependencias)\n",
    "   2. [Instalación de Dependencias](###Instalación-de-Dependencias)\n",
    "4. [Counterfactual Regret Minimization](##Counterfactual-Regret-Minimization)\n",
    "   1. [Introducción a CFR](###Introducción-a-CFR)\n",
    "   2. [Implementación de CFR](###Implementación-de-CFR)\n",
    "   3. [Experimentación con Kuhn Poker](###Experimentación-con-Kuhn-Poker)\n",
    "5. [Estimación de Valor de Estados](##Estimación-de-Valor-de-Estados)\n",
    "   1. [CFR con Estimación de Valor](###CFR-con-Estimación-de-Valor)\n",
    "   2. [Funciones de Evaluación](###Funciones-de-Evaluación)\n",
    "   3. [Monte Carlo Tree Search](###Monte-Carlo-Tree-Search)\n",
    "6. [Conclusiones](##Conclusiones)\n",
    "7. [Referencias](##Referencias)\n",
    "8. [Descargo de Responsabilidad](##Descargo-de-Responsabilidad)\n",
    "\n",
    "\n",
    "## Introducción\n",
    "\n",
    "En este trabajo, exploramos la implementación y experimentación de algoritmos de aprendizaje avanzados en el contexto de juegos alternados de múltiples jugadores. Nos enfocamos específicamente en dos algoritmos clave: CFR (Counterfactual Regret Minimization) y MCTS (Monte Carlo Tree Search), aplicados a variantes de póker. Nuestro objetivo es no solo implementar estos algoritmos sino también investigar su rendimiento y efectividad en diferentes escenarios de juego.\n",
    "\n",
    "\n",
    "## Objetivos del Trabajo\n",
    "\n",
    "El principal objetivo de este trabajo es profundizar en el entendimiento y aplicación práctica de los algoritmos CFR y MCTS en entornos de juego competitivos, así como explorar posibles extensiones y mejoras a estos métodos."
   ]
  },
  {
   "cell_type": "markdown",
   "metadata": {},
   "source": [
    "## Setup"
   ]
  },
  {
   "cell_type": "markdown",
   "metadata": {},
   "source": [
    "### Entorno de Ejecución\n",
    "\n",
    "[PettingZoo](https://pettingzoo.farama.org/index.html) es una biblioteca de juegos multiagentes que proporciona una amplia variedad de entornos diseñados específicamente para la investigación en aprendizaje por refuerzo. Este entorno será la base de nuestros experimentos, permitiéndonos simular y analizar de manera efectiva las interacciones y estrategias de los agentes en diferentes juegos.\n",
    "\n",
    "#### Características Clave de PettingZoo\n",
    "\n",
    "- **Variedad de Juegos**: Ofrece una extensa colección de juegos, incluyendo clásicos y nuevos desafíos, lo que nos permite explorar una amplia gama de escenarios y dinámicas de juego.\n",
    "- **Compatibilidad con Aprendizaje por Refuerzo**: Diseñado para ser compatible con las técnicas y algoritmos de aprendizaje por refuerzo más comunes, facilitando la integración y experimentación.\n",
    "- **Entorno Multiagente**: Especialmente orientado a entornos multiagentes, lo que lo hace ideal para estudiar juegos alternados de múltiples jugadores como los que abordaremos.\n",
    "\n",
    "#### Implementación de los Juegos\n",
    "\n",
    "En nuestro trabajo, la catedra nos proporcionó una implementación de los juegos Kuhn Poker y Leduc Poker, que utilizaremos para nuestros experimentos. Estas implementaciones se basan en la biblioteca PettingZoo.\n",
    "\n",
    "1. **Kuhn Poker**: Un juego de póker simplificado que servirá como campo de prueba para el algoritmo CFR. Experimentaremos tanto con versiones de 2 como de 3 jugadores.\n",
    "2. **Leduc Poker**: Un juego de póker más complejo que será utilizado para probar y evaluar el algoritmo MCTS, así como las funciones de evaluación integradas.\n",
    "\n",
    "Estos juegos nos proporcionarán una plataforma sólida para implementar, probar y analizar los algoritmos de aprendizaje en un contexto competitivo y controlado.\n"
   ]
  },
  {
   "cell_type": "markdown",
   "metadata": {},
   "source": [
    "\n",
    "### Manejo de Dependencias\n",
    "\n",
    "Para garantizar la consistencia y reproducibilidad de nuestros experimentos, utilizaremos [Conda](https://docs.conda.io/en/latest/), un sistema de gestión de paquetes y entornos, que nos permitirá crear un entorno aislado con todas las dependencias necesarias para nuestro proyecto.\n",
    "\n",
    "> **Nota**: Para instalar Conda, siga las instrucciones en la [documentación oficial](https://docs.conda.io/projects/conda/en/latest/user-guide/install/index.html).\n",
    "\n",
    "\n",
    "#### Ventajas de Usar Conda\n",
    "\n",
    "- **Reproducibilidad**: Conda nos ayuda a garantizar que todos los experimentos se puedan reproducir en diferentes máquinas con las mismas versiones de paquetes y dependencias.\n",
    "- **Gestión de Dependencias**: Maneja fácilmente las dependencias y paquetes necesarios para el proyecto.\n",
    "- **Entornos Aislados**: Permite crear entornos aislados para evitar conflictos entre distintos proyectos.\n",
    "\n",
    "\n",
    "#### Archivo `environment.yml`\n",
    "\n",
    "En la raíz del proyecto, hemos incluido un archivo `environment.yml` que contiene todas las especificaciones necesarias para crear el entorno de Conda adecuado. Este archivo incluye:\n",
    "\n",
    "- Las versiones específicas de Python y las bibliotecas necesarias.\n",
    "- Dependencias adicionales requeridas para ejecutar los algoritmos de aprendizaje por refuerzo y los juegos en PettingZoo.\n",
    "\n",
    "#### Creación del Entorno con `environment.yml`\n",
    "\n",
    "Para crear el entorno utilizando este archivo, ejecute el siguiente comando en su terminal:\n",
    "\n",
    "```bash\n",
    "conda env create -f environment.yml\n",
    "```\n",
    "\n",
    "Una vez creado el entorno, puede activarlo usando:\n",
    "\n",
    "```bash\n",
    "conda activate multi-agentes\n",
    "```\n"
   ]
  },
  {
   "cell_type": "markdown",
   "metadata": {},
   "source": [
    "### Instalación de Dependencias"
   ]
  },
  {
   "cell_type": "code",
   "execution_count": 1,
   "metadata": {},
   "outputs": [],
   "source": [
    "# Entornos\n",
    "import pettingzoo\n",
    "from base.game import AlternatingGame, AgentID\n",
    "\n",
    "# Agentes\n",
    "from agents.counterfactualregret import CounterFactualRegret\n",
    "from agents.counterfactualregretv2 import EnhancedCounterFactualRegret\n",
    "from agents.minimax import MiniMax\n",
    "from agents.mcts_t import MonteCarloTreeSearch\n",
    "from agents.agent_random import RandomAgent\n",
    "\n",
    "# Juegos\n",
    "from games.kuhn import KuhnPoker\n",
    "from games.kuhn3 import KuhnPoker3\n",
    "from games.leduc import Leduc\n",
    "from games.tictactoe import TicTacToe\n",
    "\n",
    "# Herramientas\n",
    "from tqdm import tqdm\n",
    "from base.utils import run, plot_rewards\n",
    "import numpy as np\n",
    "import random\n",
    "import matplotlib.pyplot as plt\n"
   ]
  },
  {
   "cell_type": "markdown",
   "metadata": {},
   "source": [
    "### Semilla para Reproducibilidad"
   ]
  },
  {
   "cell_type": "code",
   "execution_count": 2,
   "metadata": {},
   "outputs": [],
   "source": [
    "SEED = 134\n",
    "np.random.seed(SEED)\n",
    "random.seed(SEED)"
   ]
  },
  {
   "cell_type": "markdown",
   "metadata": {},
   "source": [
    "## Counterfactual Regret Minimization\n",
    "\n",
    "### Introducción a CFR\n",
    "\n",
    "La técnica de Counterfactual Regret Minimization (CFR) representa un hito fundamental en el campo del aprendizaje por refuerzo, particularmente en juegos de información imperfecta como el póker. CFR es un algoritmo que itera sobre posibles estrategias para minimizar el arrepentimiento contrafactual, es decir, la diferencia entre la recompensa obtenida y la que se hubiera obtenido si se hubiera jugado de manera óptima en cada estado del juego.\n",
    "\n",
    "#### Fundamentos\n",
    "\n",
    "El CFR trabaja analizando las decisiones tomadas en cada punto de decisión de un juego y evaluando el \"arrepentimiento\" de no haber tomado otras alternativas. Esta evaluación se basa en la noción de arrepentimiento contrafactual, que es la diferencia entre el beneficio obtenido y el beneficio que se hubiera obtenido si se hubiera jugado la mejor estrategia posible en retrospectiva.\n",
    "\n",
    "#### Aplicaciones\n",
    "\n",
    "Este método ha demostrado ser particularmente poderoso en juegos de póker, donde la información es incompleta y las estrategias óptimas no son siempre claras. La implementación de CFR en juegos como Kuhn Poker y Leduc Poker nos permite explorar cómo este algoritmo puede adaptarse y aprender estrategias efectivas en entornos de decisión complejos y dinámicos.\n",
    "\n",
    "#### Objetivo de la Sección\n",
    "\n",
    "En esta sección, nos enfocaremos en la implementación del algoritmo CFR. Detallaremos su estructura, funcionamiento y aplicaremos el algoritmo a juegos de póker de múltiples jugadores, analizando cómo se adapta y evoluciona la estrategia del juego a lo largo de múltiples iteraciones.\n",
    "\n"
   ]
  },
  {
   "cell_type": "markdown",
   "metadata": {},
   "source": [
    "### Implementación de CFR\n",
    "\n",
    "En este proyecto, hemos implementado el algoritmo Counterfactual Regret Minimization (CFR) para experimentar en juegos de póker (aunque podrian ser usados en otros contextos). Esta implementación se centra en desarrollar y refinar estrategias de juego en entornos de información imperfecta. El código completo para esta implementación se puede encontrar en el archivo `/agents/counterfactualregret.py` del proyecto.\n",
    "\n",
    "#### Descripción de la Implementación\n",
    "\n",
    "La implementación de CFR en nuestro proyecto consta de varias partes clave:\n",
    "\n",
    "1. **Clase `Node`**: Representa un nodo en el árbol de juego. Cada nodo contiene información sobre el estado del juego (information set), el agente actual, la observación recibida y mantiene un registro del arrepentimiento acumulado y la política aprendida.\n",
    "\n",
    "2. **Métodos de Actualización y Estrategia**: Dentro de la clase `Node`, se implementan métodos para actualizar los valores de arrepentimiento contrafactual y para ajustar la estrategia actual basada en estos arrepentimientos.\n",
    "\n",
    "3. **Clase `CounterFactualRegret`**: Extiende la clase `Agent` (basado en `PettingZoo`) y se utiliza para representar un agente que emplea CFR. Contiene métodos para realizar acciones, entrenar utilizando CFR y realizar el algoritmo de CFR de manera recursiva.\n",
    "\n",
    "4. **Función `cfr_rec`**: Implementa la lógica del CFR de manera recursiva, calculando la utilidad de cada nodo y actualizando la estrategia y los arrepentimientos.\n",
    "\n",
    "#### Naturaleza Agnóstica al Juego de las Implementaciones de Agentes\n",
    "\n",
    "Es importante destacar un aspecto fundamental de nuestras implementaciones de agentes, incluido el agente que utiliza el algoritmo Counterfactual Regret Minimization (CFR). Estos agentes son **agnósticos al juego**, lo que significa que su diseño y funcionamiento no están limitados o definidos por las reglas o acciones específicas de un juego en particular, o por la cantidad de jugadores. En cambio, estos agentes se pueden utilizar en cualquier juego que cumpla con los requisitos básicos de la biblioteca PettingZoo, lo que los hace altamente adaptables y reutilizables."
   ]
  },
  {
   "cell_type": "markdown",
   "metadata": {},
   "source": [
    "### Experimentación con Kuhn Poker\n",
    "\n",
    "[Kuhn Poker](https://en.wikipedia.org/wiki/Kuhn_poker) es un juego de póker simplificado que sirve como un modelo excelente para estudiar algoritmos de aprendizaje por refuerzo en juegos de información imperfecta. Este juego representa una versión reducida del póker tradicional, lo que lo convierte en un entorno ideal para experimentos y análisis en el campo de la teoría de juegos y la inteligencia artificial.\n",
    "\n",
    "\n",
    "![CFR](_assets/CFR-poker.png)\n",
    "\n",
    "#### Descripción del Kuhn Poker\n",
    "\n",
    "- **Jugadores**: El juego clásico involucra a 2 jugadores, aunque puede adaptarse para 3 jugadores.\n",
    "- **Baraja**: Se utiliza una baraja reducida, típicamente con tres cartas (por ejemplo, un As, un Rey y una Reina).\n",
    "- **Dinámica del Juego**: Cada jugador recibe una carta y tiene la opción de apostar (bet) o pasar (check). El juego tiene una estructura de apuestas limitada y presenta oportunidades para [farolear](https://es.wikipedia.org/wiki/Farol_(envite)) y realizar estrategias basadas en la información limitada.\n",
    "\n",
    "#### Experimentación Planeada\n",
    "\n",
    "En nuestro proyecto, experimentaremos con Kuhn Poker de la siguiente manera:\n",
    "\n",
    "1. **Con 2 Jugadores**: Inicialmente, nos enfocaremos en la versión clásica de Kuhn Poker con 2 jugadores. Aquí, aplicaremos y evaluaremos el algoritmo de Counterfactual Regret Minimization para desarrollar estrategias efectivas y analizar cómo los agentes aprenden y se adaptan a lo largo de múltiples juegos.\n",
    "\n",
    "2. **Expansión a 3 Jugadores**: Posteriormente, expandiremos nuestra experimentación para incluir una versión de 3 jugadores del juego. Esta variante presenta desafíos adicionales y complejidades, permitiéndonos explorar cómo los algoritmos se adaptan a un entorno de juego más dinámico y a la presencia de un jugador adicional.\n",
    "\n",
    "Estas experimentaciones nos permitirán obtener una comprensión más profunda de la efectividad del algoritmo CFR y cómo se puede adaptar a diferentes configuraciones de juego."
   ]
  },
  {
   "cell_type": "markdown",
   "metadata": {},
   "source": [
    "### Kuhn Poker con 2 Jugadores\n",
    "\n",
    "#### CFR vs Random"
   ]
  },
  {
   "cell_type": "code",
   "execution_count": 3,
   "metadata": {},
   "outputs": [],
   "source": [
    "khun2 = KuhnPoker(render_mode='')\n",
    "khun2.reset() # Reseteamos el juego\n",
    "\n",
    "# Creamos los agentes\n",
    "cfr_agent = CounterFactualRegret(game=khun2, agent=khun2.agents[0])\n",
    "random_agent = RandomAgent(game=khun2, agent=khun2.agents[1])\n",
    "\n",
    "agents = {\n",
    "    khun2.agents[0]: cfr_agent,\n",
    "    khun2.agents[1]: random_agent\n",
    "}"
   ]
  },
  {
   "cell_type": "code",
   "execution_count": 4,
   "metadata": {},
   "outputs": [
    {
     "name": "stderr",
     "output_type": "stream",
     "text": [
      "100%|██████████| 10000/10000 [00:15<00:00, 628.02it/s]\n"
     ]
    }
   ],
   "source": [
    "# entrenamos\n",
    "KHUN2_TRAINING_STEPS = 10_000\n",
    "cfr_agent.train(KHUN2_TRAINING_STEPS)"
   ]
  },
  {
   "cell_type": "code",
   "execution_count": 5,
   "metadata": {},
   "outputs": [
    {
     "name": "stdout",
     "output_type": "stream",
     "text": [
      "0\t agent_0\t [0.6696671 0.3303329]\n",
      "0b\t agent_1\t [9.99850344e-01 1.49655792e-04]\n",
      "0p\t agent_1\t [0.69076637 0.30923363]\n",
      "0pb\t agent_0\t [9.99849579e-01 1.50421179e-04]\n",
      "1\t agent_0\t [0.99806846 0.00193154]\n",
      "1b\t agent_1\t [0.62270272 0.37729728]\n",
      "1p\t agent_1\t [0.99890384 0.00109616]\n",
      "1pb\t agent_0\t [0.32472989 0.67527011]\n",
      "2\t agent_0\t [0.01772922 0.98227078]\n",
      "2b\t agent_1\t [1.50738619e-04 9.99849261e-01]\n",
      "2p\t agent_1\t [3.01477238e-04 9.99698523e-01]\n",
      "2pb\t agent_0\t [1.50784077e-04 9.99849216e-01]\n"
     ]
    }
   ],
   "source": [
    "# Imrimimos la estrategia de nuestro agente CFR\n",
    "def print_strategy(agent):\n",
    "    for n in sorted(agent.node_dict.keys()): \n",
    "        print(n + '\\t', agent.node_dict[n].agent + '\\t', agent.node_dict[n].policy())\n",
    "\n",
    "print_strategy(cfr_agent)"
   ]
  },
  {
   "cell_type": "code",
   "execution_count": 6,
   "metadata": {},
   "outputs": [
    {
     "name": "stderr",
     "output_type": "stream",
     "text": [
      "  0%|          | 0/1000000 [00:00<?, ?it/s]"
     ]
    },
    {
     "name": "stderr",
     "output_type": "stream",
     "text": [
      "100%|██████████| 1000000/1000000 [01:29<00:00, 11210.47it/s]\n"
     ]
    },
    {
     "name": "stdout",
     "output_type": "stream",
     "text": [
      "0.169098\n"
     ]
    }
   ],
   "source": [
    "KHUN2_GAME_ROUNDS = 1_000_000\n",
    "_, mean_reward = run(khun2, agents, KHUN2_GAME_ROUNDS)\n",
    "\n",
    "print(mean_reward)"
   ]
  },
  {
   "cell_type": "markdown",
   "metadata": {},
   "source": [
    "Podemos observar que la estrategia aprendida por el agente CFR es mucho más efectiva que la estrategia aleatoria ya que en promedio gana más fichas. Esto se debe a que el agente CFR aprende a jugar de manera óptima en cada estado del juego, mientras que el agente aleatorio simplemente toma decisiones aleatorias.\n",
    "\n",
    "> Cabe destacar que en este caso el agente CFR es siempre el primer jugador, por lo que tiene una [desventaja inicial](https://en.wikipedia.org/wiki/Kuhn_poker#Optimal_strategy). "
   ]
  },
  {
   "cell_type": "markdown",
   "metadata": {},
   "source": [
    "#### CFR vs CFR"
   ]
  },
  {
   "cell_type": "code",
   "execution_count": 7,
   "metadata": {},
   "outputs": [],
   "source": [
    "cfr_agent2 = CounterFactualRegret(game=khun2, agent=khun2.agents[1])\n",
    "\n",
    "agents = {\n",
    "    khun2.agents[0]: cfr_agent,\n",
    "    khun2.agents[1]: cfr_agent2\n",
    "}"
   ]
  },
  {
   "cell_type": "code",
   "execution_count": 8,
   "metadata": {},
   "outputs": [
    {
     "name": "stderr",
     "output_type": "stream",
     "text": [
      "  0%|          | 0/10000 [00:00<?, ?it/s]"
     ]
    },
    {
     "name": "stderr",
     "output_type": "stream",
     "text": [
      "100%|██████████| 10000/10000 [00:15<00:00, 631.55it/s]\n"
     ]
    }
   ],
   "source": [
    "cfr_agent2.train(KHUN2_TRAINING_STEPS)"
   ]
  },
  {
   "cell_type": "code",
   "execution_count": 9,
   "metadata": {},
   "outputs": [
    {
     "name": "stdout",
     "output_type": "stream",
     "text": [
      "\n",
      "Agent 1 strategy:\n",
      "\n",
      "0\t agent_0\t [0.6696671 0.3303329]\n",
      "0b\t agent_1\t [9.99850344e-01 1.49655792e-04]\n",
      "0p\t agent_1\t [0.69076637 0.30923363]\n",
      "0pb\t agent_0\t [9.99849579e-01 1.50421179e-04]\n",
      "1\t agent_0\t [0.99806846 0.00193154]\n",
      "1b\t agent_1\t [0.62270272 0.37729728]\n",
      "1p\t agent_1\t [0.99890384 0.00109616]\n",
      "1pb\t agent_0\t [0.32472989 0.67527011]\n",
      "2\t agent_0\t [0.01772922 0.98227078]\n",
      "2b\t agent_1\t [1.50738619e-04 9.99849261e-01]\n",
      "2p\t agent_1\t [3.01477238e-04 9.99698523e-01]\n",
      "2pb\t agent_0\t [1.50784077e-04 9.99849216e-01]\n",
      "\n",
      "Agent 2 strategy:\n",
      "\n",
      "0\t agent_0\t [0.85835418 0.14164582]\n",
      "0b\t agent_1\t [9.99848255e-01 1.51745068e-04]\n",
      "0p\t agent_1\t [0.68625815 0.31374185]\n",
      "0pb\t agent_0\t [9.99849669e-01 1.50330728e-04]\n",
      "1\t agent_0\t [0.99875351 0.00124649]\n",
      "1b\t agent_1\t [0.6837013 0.3162987]\n",
      "1p\t agent_1\t [9.99095568e-01 9.04431715e-04]\n",
      "1pb\t agent_0\t [0.5063143 0.4936857]\n",
      "2\t agent_0\t [0.58643771 0.41356229]\n",
      "2b\t agent_1\t [1.47449130e-04 9.99852551e-01]\n",
      "2p\t agent_1\t [5.89796520e-04 9.99410203e-01]\n",
      "2pb\t agent_0\t [1.44175317e-04 9.99855825e-01]\n"
     ]
    }
   ],
   "source": [
    "print(\"\\nAgent 1 strategy:\\n\")\n",
    "print_strategy(cfr_agent)\n",
    "\n",
    "print(\"\\nAgent 2 strategy:\\n\")\n",
    "print_strategy(cfr_agent2)"
   ]
  },
  {
   "cell_type": "code",
   "execution_count": 10,
   "metadata": {},
   "outputs": [
    {
     "name": "stderr",
     "output_type": "stream",
     "text": [
      "  0%|          | 0/1000000 [00:00<?, ?it/s]"
     ]
    },
    {
     "name": "stderr",
     "output_type": "stream",
     "text": [
      "100%|██████████| 1000000/1000000 [01:25<00:00, 11730.64it/s]\n"
     ]
    },
    {
     "name": "stdout",
     "output_type": "stream",
     "text": [
      "-0.056521\n"
     ]
    }
   ],
   "source": [
    "_, mean_reward = run(khun2, agents, KHUN2_GAME_ROUNDS)\n",
    "\n",
    "print(mean_reward)"
   ]
  },
  {
   "cell_type": "markdown",
   "metadata": {},
   "source": [
    "Podemos concluir que llegamos a un [Equilibrio de Nash](https://es.wikipedia.org/wiki/Equilibrio_de_Nash), donde el primer jugador 1 tiene una recompensa esperada de ~1/18:\n",
    "\n",
    "> \"The game has a mixed-strategy Nash equilibrium; when both players play equilibrium strategies, the first player should expect to lose at a rate of −1/18 per hand (as the game is zero-sum, the second player should expect to win at a rate of +1/18). There is no pure-strategy equilibrium.\" - [Wikipedia](https://en.wikipedia.org/wiki/Kuhn_poker#Optimal_strategy)"
   ]
  },
  {
   "cell_type": "markdown",
   "metadata": {},
   "source": [
    "### Kuhn Poker con 3 Jugadores\n",
    "\n",
    "En esta sección, extendemos nuestra exploración del Kuhn Poker a un escenario más complejo y desafiante: un juego con tres jugadores. El Kuhn Poker de tres jugadores introduce una dinámica de juego adicional y requiere estrategias más sofisticadas, dada la presencia de un jugador extra. Este entorno nos permite investigar cómo los algoritmos de aprendizaje por refuerzo, específicamente el CFR, se adaptan y se desempeñan en un contexto de juego más complejo.\n",
    "\n",
    "#### CFR vs CFR vs CFR\n",
    "\n",
    "Para evaluar el rendimiento del algoritmo CFR en este contexto, configuramos un experimento donde tres agentes independientes, cada uno utilizando una instancia del algoritmo CFR, compiten entre sí. \n",
    "\n",
    "#### Expectativas de Utilidad: \\( u_1 < u_2 < u_3 \\)\n",
    "\n",
    "En términos de resultados, esperamos observar una relación específica en las utilidades obtenidas por los tres agentes, específicamente \\( u_1 < u_2 < u_3 \\). Esta expectativa se basa en la hipótesis de que el tercer jugador, al ser el último en actuar en cada ronda, tiene una ventaja estratégica al contar con más información que los otros dos jugadores. Del mismo modo, el segundo jugador tendría una ventaja sobre el primero. Esta hipótesis será probada y analizada a través de los resultados obtenidos en nuestras experimentaciones.\n",
    "\n",
    "Esta fase del proyecto no solo nos proporcionará insights sobre el rendimiento del CFR en un escenario de tres jugadores, sino que también ampliará nuestra comprensión sobre la dinámica de los juegos de información imperfecta y las estrategias óptimas en dichos contextos.\n"
   ]
  },
  {
   "cell_type": "code",
   "execution_count": 11,
   "metadata": {},
   "outputs": [],
   "source": [
    "khun3 = KuhnPoker3(render_mode='')\n",
    "khun3.reset() # Reseteamos el juego\n",
    "\n",
    "# Creamos los agentes\n",
    "cfr_agent1 = CounterFactualRegret(game=khun3, agent=khun3.agents[0])\n",
    "cfr_agent2 = CounterFactualRegret(game=khun3, agent=khun3.agents[1])\n",
    "cfr_agent3 = CounterFactualRegret(game=khun3, agent=khun3.agents[2])\n",
    "\n",
    "\n",
    "agents = {\n",
    "    khun3.agents[0]: cfr_agent1,\n",
    "    khun3.agents[1]: cfr_agent2,\n",
    "    khun3.agents[2]: cfr_agent3\n",
    "}"
   ]
  },
  {
   "cell_type": "code",
   "execution_count": 12,
   "metadata": {},
   "outputs": [
    {
     "name": "stderr",
     "output_type": "stream",
     "text": [
      "  0%|          | 13/50000 [00:00<06:49, 122.10it/s]"
     ]
    },
    {
     "name": "stderr",
     "output_type": "stream",
     "text": [
      "100%|██████████| 50000/50000 [06:24<00:00, 129.96it/s]\n",
      "100%|██████████| 50000/50000 [06:28<00:00, 128.57it/s]\n",
      "100%|██████████| 50000/50000 [06:27<00:00, 128.96it/s]\n"
     ]
    }
   ],
   "source": [
    "# entrenamos\n",
    "KHUN3_TRAINING_STEPS = 50_000\n",
    "cfr_agent1.train(KHUN3_TRAINING_STEPS)\n",
    "cfr_agent2.train(KHUN3_TRAINING_STEPS)\n",
    "cfr_agent3.train(KHUN3_TRAINING_STEPS)"
   ]
  },
  {
   "cell_type": "code",
   "execution_count": 13,
   "metadata": {},
   "outputs": [
    {
     "name": "stdout",
     "output_type": "stream",
     "text": [
      "\n",
      "Agent 1 strategy:\n",
      "\n",
      "0\t agent_0\t [0.99527979 0.00472021]\n",
      "0b\t agent_1\t [9.99960346e-01 3.96542152e-05]\n",
      "0bb\t agent_2\t [9.99960172e-01 3.98279433e-05]\n",
      "0bp\t agent_2\t [9.99920344e-01 7.96558866e-05]\n",
      "0p\t agent_1\t [0.92151228 0.07848772]\n",
      "0pb\t agent_2\t [9.99960172e-01 3.98279433e-05]\n",
      "0pbb\t agent_0\t [9.99960210e-01 3.97899093e-05]\n",
      "0pbp\t agent_0\t [9.99960210e-01 3.97899093e-05]\n",
      "0pp\t agent_2\t [0.95440143 0.04559857]\n",
      "0ppb\t agent_0\t [9.99960210e-01 3.97899093e-05]\n",
      "0ppbb\t agent_1\t [9.99960346e-01 3.96542152e-05]\n",
      "0ppbp\t agent_1\t [9.99960346e-01 3.96542152e-05]\n",
      "1\t agent_0\t [0.99475957 0.00524043]\n",
      "1b\t agent_1\t [9.99495733e-01 5.04266504e-04]\n",
      "1bb\t agent_2\t [9.99959616e-01 4.03844601e-05]\n",
      "1bp\t agent_2\t [9.99774616e-01 2.25383749e-04]\n",
      "1p\t agent_1\t [0.75064592 0.24935408]\n",
      "1pb\t agent_2\t [9.99841569e-01 1.58431343e-04]\n",
      "1pbb\t agent_0\t [9.99959658e-01 4.03421010e-05]\n",
      "1pbp\t agent_0\t [0.98627549 0.01372451]\n",
      "1pp\t agent_2\t [0.55495094 0.44504906]\n",
      "1ppb\t agent_0\t [9.99906576e-01 9.34238129e-05]\n",
      "1ppbb\t agent_1\t [9.99959733e-01 4.02673754e-05]\n",
      "1ppbp\t agent_1\t [9.99734003e-01 2.65996989e-04]\n",
      "2\t agent_0\t [9.99369081e-01 6.30919288e-04]\n",
      "2b\t agent_1\t [0.98515557 0.01484443]\n",
      "2bb\t agent_2\t [9.99960311e-01 3.96888395e-05]\n",
      "2bp\t agent_2\t [0.35359868 0.64640132]\n",
      "2p\t agent_1\t [9.99747110e-01 2.52889675e-04]\n",
      "2pb\t agent_2\t [0.98971753 0.01028247]\n",
      "2pbb\t agent_0\t [9.99960172e-01 3.98279433e-05]\n",
      "2pbp\t agent_0\t [0.4940023 0.5059977]\n",
      "2pp\t agent_2\t [9.99228745e-01 7.71254528e-04]\n",
      "2ppb\t agent_0\t [0.79115931 0.20884069]\n",
      "2ppbb\t agent_1\t [0.99839808 0.00160192]\n",
      "2ppbp\t agent_1\t [0.32770808 0.67229192]\n",
      "3\t agent_0\t [0.97122076 0.02877924]\n",
      "3b\t agent_1\t [4.00224126e-05 9.99959978e-01]\n",
      "3bb\t agent_2\t [4.00930158e-05 9.99959907e-01]\n",
      "3bp\t agent_2\t [2.00465079e-04 9.99799535e-01]\n",
      "3p\t agent_1\t [0.42159579 0.57840421]\n",
      "3pb\t agent_2\t [4.00930158e-05 9.99959907e-01]\n",
      "3pbb\t agent_0\t [4.00320256e-05 9.99959968e-01]\n",
      "3pbp\t agent_0\t [8.00640512e-05 9.99919936e-01]\n",
      "3pp\t agent_2\t [2.80651111e-04 9.99719349e-01]\n",
      "3ppb\t agent_0\t [4.00320256e-05 9.99959968e-01]\n",
      "3ppbb\t agent_1\t [0.00280157 0.99719843]\n",
      "3ppbp\t agent_1\t [1.20067238e-04 9.99879933e-01]\n",
      "\n",
      "Agent 2 strategy:\n",
      "\n",
      "0\t agent_0\t [9.99358988e-01 6.41012415e-04]\n",
      "0b\t agent_1\t [9.99960289e-01 3.97109046e-05]\n",
      "0bb\t agent_2\t [9.99960295e-01 3.97045978e-05]\n",
      "0bp\t agent_2\t [9.99960295e-01 3.97045978e-05]\n",
      "0p\t agent_1\t [0.89646986 0.10353014]\n",
      "0pb\t agent_2\t [9.99960295e-01 3.97045978e-05]\n",
      "0pbb\t agent_0\t [9.99960317e-01 3.96825397e-05]\n",
      "0pbp\t agent_0\t [9.99682540e-01 3.17460317e-04]\n",
      "0pp\t agent_2\t [0.97269119 0.02730881]\n",
      "0ppb\t agent_0\t [9.99841270e-01 1.58730159e-04]\n",
      "0ppbb\t agent_1\t [9.99960289e-01 3.97109046e-05]\n",
      "0ppbp\t agent_1\t [9.99960289e-01 3.97109046e-05]\n",
      "1\t agent_0\t [0.97094531 0.02905469]\n",
      "1b\t agent_1\t [9.99229967e-01 7.70032670e-04]\n",
      "1bb\t agent_2\t [9.99960032e-01 3.99680256e-05]\n",
      "1bp\t agent_2\t [9.99030596e-01 9.69404333e-04]\n",
      "1p\t agent_1\t [0.80037732 0.19962268]\n",
      "1pb\t agent_2\t [9.99760192e-01 2.39808153e-04]\n",
      "1pbb\t agent_0\t [9.99879460e-01 1.20540019e-04]\n",
      "1pbp\t agent_0\t [9.99959820e-01 4.01800064e-05]\n",
      "1pp\t agent_2\t [0.5499563 0.4500437]\n",
      "1ppb\t agent_0\t [9.99839280e-01 1.60720026e-04]\n",
      "1ppbb\t agent_1\t [9.99918646e-01 8.13537260e-05]\n",
      "1ppbp\t agent_1\t [9.99918646e-01 8.13537260e-05]\n",
      "2\t agent_0\t [0.99645488 0.00354512]\n",
      "2b\t agent_1\t [0.72375724 0.27624276]\n",
      "2bb\t agent_2\t [0.97793209 0.02206791]\n",
      "2bp\t agent_2\t [0.72646044 0.27353956]\n",
      "2p\t agent_1\t [9.99174405e-01 8.25594786e-04]\n",
      "2pb\t agent_2\t [0.96949466 0.03050534]\n",
      "2pbb\t agent_0\t [9.99960006e-01 3.99936010e-05]\n",
      "2pbp\t agent_0\t [0.46815429 0.53184571]\n",
      "2pp\t agent_2\t [9.99554150e-01 4.45849546e-04]\n",
      "2ppb\t agent_0\t [0.81244758 0.18755242]\n",
      "2ppbb\t agent_1\t [9.99960159e-01 3.98406375e-05]\n",
      "2ppbp\t agent_1\t [0.43907753 0.56092247]\n",
      "3\t agent_0\t [0.96121849 0.03878151]\n",
      "3b\t agent_1\t [3.97740832e-05 9.99960226e-01]\n",
      "3bb\t agent_2\t [2.38758456e-04 9.99761242e-01]\n",
      "3bp\t agent_2\t [1.19379228e-04 9.99880621e-01]\n",
      "3p\t agent_1\t [0.41751582 0.58248418]\n",
      "3pb\t agent_2\t [3.97930760e-05 9.99960207e-01]\n",
      "3pbb\t agent_0\t [4.01348531e-05 9.99959865e-01]\n",
      "3pbp\t agent_0\t [4.01348531e-05 9.99959865e-01]\n",
      "3pp\t agent_2\t [3.58137684e-04 9.99641862e-01]\n",
      "3ppb\t agent_0\t [8.02697062e-05 9.99919730e-01]\n",
      "3ppbb\t agent_1\t [3.97740832e-05 9.99960226e-01]\n",
      "3ppbp\t agent_1\t [3.97740832e-05 9.99960226e-01]\n",
      "\n",
      "Agent 3 strategy:\n",
      "\n",
      "0\t agent_0\t [0.99222843 0.00777157]\n",
      "0b\t agent_1\t [9.9996e-01 4.0000e-05]\n",
      "0bb\t agent_2\t [9.99960251e-01 3.97487877e-05]\n",
      "0bp\t agent_2\t [9.99960251e-01 3.97487877e-05]\n",
      "0p\t agent_1\t [0.7508005 0.2491995]\n",
      "0pb\t agent_2\t [9.99960251e-01 3.97487877e-05]\n",
      "0pbb\t agent_0\t [9.99960124e-01 3.98755882e-05]\n",
      "0pbp\t agent_0\t [9.99960124e-01 3.98755882e-05]\n",
      "0pp\t agent_2\t [0.54403142 0.45596858]\n",
      "0ppb\t agent_0\t [9.99800622e-01 1.99377941e-04]\n",
      "0ppbb\t agent_1\t [9.9992e-01 8.0000e-05]\n",
      "0ppbp\t agent_1\t [9.9988e-01 1.2000e-04]\n",
      "1\t agent_0\t [0.9925966 0.0074034]\n",
      "1b\t agent_1\t [0.99414529 0.00585471]\n",
      "1bb\t agent_2\t [9.99960368e-01 3.96322131e-05]\n",
      "1bp\t agent_2\t [9.99960368e-01 3.96322131e-05]\n",
      "1p\t agent_1\t [0.99331933 0.00668067]\n",
      "1pb\t agent_2\t [9.99520408e-01 4.79591940e-04]\n",
      "1pbb\t agent_0\t [9.99960042e-01 3.99584432e-05]\n",
      "1pbp\t agent_0\t [0.9683171 0.0316829]\n",
      "1pp\t agent_2\t [0.98085563 0.01914437]\n",
      "1ppb\t agent_0\t [9.99189033e-01 8.10967377e-04]\n",
      "1ppbb\t agent_1\t [9.99960305e-01 3.96951413e-05]\n",
      "1ppbp\t agent_1\t [9.99701878e-01 2.98121650e-04]\n",
      "2\t agent_0\t [9.99748309e-01 2.51691090e-04]\n",
      "2b\t agent_1\t [0.98921233 0.01078767]\n",
      "2bb\t agent_2\t [0.95637282 0.04362718]\n",
      "2bp\t agent_2\t [0.41252416 0.58747584]\n",
      "2p\t agent_1\t [0.99775796 0.00224204]\n",
      "2pb\t agent_2\t [0.96969356 0.03030644]\n",
      "2pbb\t agent_0\t [9.99959707e-01 4.02933355e-05]\n",
      "2pbp\t agent_0\t [0.49903355 0.50096645]\n",
      "2pp\t agent_2\t [9.99542789e-01 4.57210894e-04]\n",
      "2ppb\t agent_0\t [0.75861131 0.24138869]\n",
      "2ppbb\t agent_1\t [0.99467147 0.00532853]\n",
      "2ppbp\t agent_1\t [0.48778621 0.51221379]\n",
      "3\t agent_0\t [0.96780968 0.03219032]\n",
      "3b\t agent_1\t [4.04399871e-05 9.99959560e-01]\n",
      "3bb\t agent_2\t [1.21270919e-04 9.99878729e-01]\n",
      "3bp\t agent_2\t [8.08472795e-05 9.99919153e-01]\n",
      "3p\t agent_1\t [0.46842927 0.53157073]\n",
      "3pb\t agent_2\t [4.04236397e-05 9.99959576e-01]\n",
      "3pbb\t agent_0\t [2.39177230e-04 9.99760823e-01]\n",
      "3pbp\t agent_0\t [3.98628717e-05 9.99960137e-01]\n",
      "3pp\t agent_2\t [2.02118199e-04 9.99797882e-01]\n",
      "3ppb\t agent_0\t [1.99314359e-04 9.99800686e-01]\n",
      "3ppbb\t agent_1\t [8.08799741e-05 9.99919120e-01]\n",
      "3ppbp\t agent_1\t [8.08799741e-05 9.99919120e-01]\n"
     ]
    }
   ],
   "source": [
    "print(\"\\nAgent 1 strategy:\\n\")\n",
    "print_strategy(cfr_agent1)\n",
    "\n",
    "print(\"\\nAgent 2 strategy:\\n\")\n",
    "print_strategy(cfr_agent2)\n",
    "\n",
    "print(\"\\nAgent 3 strategy:\\n\")\n",
    "print_strategy(cfr_agent3)"
   ]
  },
  {
   "cell_type": "code",
   "execution_count": 14,
   "metadata": {},
   "outputs": [
    {
     "name": "stderr",
     "output_type": "stream",
     "text": [
      "100%|██████████| 5000000/5000000 [08:08<00:00, 10226.51it/s]"
     ]
    },
    {
     "name": "stdout",
     "output_type": "stream",
     "text": [
      "Average rewards: {'agent_0': -0.0259104, 'agent_1': -0.0192664, 'agent_2': 0.0451768}\n"
     ]
    },
    {
     "name": "stderr",
     "output_type": "stream",
     "text": [
      "\n"
     ]
    }
   ],
   "source": [
    "KHUN3_GAME_ROUNDS = 5_000_000\n",
    "\n",
    "cum_rewards = dict(map(lambda ag: (ag, 0.), khun3.agents))\n",
    "\n",
    "for _ in tqdm(range(KHUN3_GAME_ROUNDS)):\n",
    "    khun3.reset()\n",
    "    turn = 0\n",
    "    while not khun3.done():\n",
    "        agent = agents[khun3.agent_selection]\n",
    "        a = agent.action()\n",
    "        khun3.step(action=a)\n",
    "        turn += 1\n",
    "    for ag in khun3.agents:\n",
    "        cum_rewards[ag] += khun3.rewards[ag]\n",
    "\n",
    "print('Average rewards:', dict(map(lambda ag: (ag, cum_rewards[ag]/KHUN3_GAME_ROUNDS), khun3.agents)))"
   ]
  },
  {
   "cell_type": "markdown",
   "metadata": {},
   "source": [
    "Como podemos observar, los resultados obtenidos en esta experimentación confirman nuestra hipótesis inicial: el tercer jugador obtiene la mayor utilidad, seguido del segundo jugador y finalmente el primer jugador.\n",
    "\n",
    "> \"A family of Nash equilibria for 3-player Kuhn poker is known analytically, which makes it the largest game with more than two players with analytic solution. The family is parameterized using 4–6 parameters (depending on the chosen equilibrium). In all equilibria, player 1 has a fixed strategy, and he always checks as the first action; player 2's utility is constant, equal to –1/48 per hand. The discovered equilibrium profiles show an interesting feature: by adjusting a strategy parameter $\\beta$ (between 0 and 1), player 2 can freely shift utility between the other two players while still remaining in equilibrium; player 1's utility is equal to $-\\frac{1+2\\beta}{48}$ (which is always worse than player 2's utility), player 3's utility is $\\frac{1+\\beta}{24}$.\" - [Wikipedia](https://en.wikipedia.org/wiki/Kuhn_poker#3-player_Kuhn_Poker)\n",
    "\n",
    "En nuestro caso no tenemos un $\\beta$ para parametrizar la estrategia del jugador 2, pero podemos ver que el jugador 2 tiene una utilidad similar a ~-1/48 por mano, que el jugador 3 tiene un poco mayor a 1/24 por mano, y que el jugador 1 tiene una utilidad un poco menor a -1/48 por mano. Lo cual es consistente con lo que se describe en trabajos previos."
   ]
  },
  {
   "cell_type": "markdown",
   "metadata": {},
   "source": [
    "## Estimación de Valor de Estados\n",
    "\n",
    "En el campo de la inteligencia artificial aplicada a juegos, una consideración fundamental es la gestión de la profundidad en los árboles de juego. Muchos juegos presentan un espacio de estado extenso, lo que hace inviable explorar cada posible futuro del juego hasta su conclusión. Por lo tanto, en ciertos niveles de profundidad, se vuelve esencial estimar el valor de los estados del juego en lugar de realizar una exploración completa.\n",
    "\n",
    "La profundidad del árbol de juego representa el número de movimientos hacia adelante que el algoritmo considera antes de tomar una decisión. En juegos complejos, este número puede crecer exponencialmente, haciendo que la exploración completa sea computacionalmente costosa o incluso imposible. Este fenómeno es conocido como la \"explosión combinatoria\".\n",
    "\n",
    "Para abordar este desafío, se emplean estrategias de estimación de valor para evaluar la calidad de los estados del juego en profundidades específicas:\n",
    "\n",
    "1. **Funciones de Evaluación**: Estas funciones proporcionan una manera de asignar un valor numérico a un estado del juego basándose en sus características. Pueden ser tan simples como heurísticas basadas en reglas o tan complejas como modelos entrenados mediante aprendizaje automático.\n",
    "\n",
    "2. **Monte Carlo Tree Search (MCTS)**: MCTS utiliza simulaciones aleatorias desde el nodo actual para estimar el valor de los estados sin necesidad de explorar todo el árbol de juego. Es particularmente útil en juegos con un gran número de posibles estados futuros.\n"
   ]
  },
  {
   "cell_type": "markdown",
   "metadata": {},
   "source": [
    "### CFR con Estimación de Valor\n",
    "\n",
    "Antes de adentrarnos en las funciones de evaluación específicas, es importante destacar que utilizaremos una versión avanzada del algoritmo Counterfactual Regret Minimization (CFR), denominada `EnhancedCounterFactualRegret`. Esta versión, implementada en `agentes/counterfactualregretv2.py`, hereda de nuestra implementación original de CFR, pero introduce un componente crucial: la estimación de valor en cierta profundidad.\n",
    "\n",
    "El código fuente en `agentes/counterfactualregretv2.py` muestra cómo `EnhancedCounterFactualRegret` se diferencia de la implementación estándar de CFR:\n",
    "\n",
    "1. **Estimación de Valor en Profundidad Limitada**: En lugar de explorar el árbol de juego hasta su totalidad, `EnhancedCounterFactualRegret` utiliza una función de estimación de valor (`value_estimator`) para evaluar los estados del juego una vez alcanzada una profundidad máxima (`max_depth`). Esto permite manejar eficientemente juegos con un espacio de estado extenso.\n",
    "\n",
    "2. **Recursión Modificada**: La función `cfr_rec` se ha modificado para incorporar la lógica de profundidad. Si la profundidad actual (`current_depth`) alcanza `max_depth`, la función `estimate_value` se invoca para obtener una estimación del valor del estado actual del juego.\n",
    "\n",
    "3. **Selección de Acciones**: En el método `action`, si la llamada a la función `action` de la clase base falla, se elige una acción aleatoria de las posibles acciones del juego. Esto proporciona un mecanismo de fallback para casos en los que el algoritmo CFR base no puede determinar una acción."
   ]
  },
  {
   "cell_type": "markdown",
   "metadata": {},
   "source": [
    "### Funciones de Evaluación\n",
    "\n",
    "Al abordar el diseño de agentes inteligentes para juegos, las funciones de evaluación son herramientas útiles para asignar valores numéricos a los estados del juego, facilitando así la toma de decisiones estratégicas. En el caso de Kuhn Poker para dos jugadores (khun2), vamos a utilizar una función de evaluación como un ejemplo ilustrativo y \"dummy\" para demostrar de manera clara y sencilla cómo estas funciones influyen en el comportamiento del agente.\n",
    "\n",
    "#### Elección de Kuhn Poker (khun2) para la Demostración\n",
    "\n",
    "Elegimos Kuhn Poker por su simplicidad estructural y su naturaleza de información imperfecta, lo que lo hace ideal para una demostración visual y comprensible de cómo funcionan las evaluaciones en el juego. A pesar de ser un juego simple, Kuhn Poker encapsula la esencia de la toma de decisiones en entornos de incertidumbre.\n",
    "\n",
    "#### Construcción de una Función de Evaluación \"Dummy\"\n",
    "\n",
    "Para khun2, vamos a diseñar una función de evaluación \"dummy\" o simplificada. Esta función no necesariamente buscará optimizar el juego del agente, sino que estará diseñada para ilustrar cómo diferentes estados del juego son valorados y cómo esto afecta las decisiones del agente. La función considerará elementos como:\n",
    "\n",
    "- La carta en mano del agente.\n",
    "- La ultima acción realizada por el opoente.\n",
    "\n",
    "Este enfoque \"dummy\" nos permite visualizar y entender mejor el impacto directo de la función de evaluación en la estrategia del agente."
   ]
  },
  {
   "cell_type": "code",
   "execution_count": 15,
   "metadata": {},
   "outputs": [],
   "source": [
    "def evaluate_kuhn_state(game: AlternatingGame, agent: AgentID):\n",
    "    its_my_turn = game.agent_selection == agent\n",
    "    if game.done() or game.terminated():\n",
    "        return game.rewards[agent]\n",
    "    \n",
    "    observation = game.observe(agent)\n",
    "    value = 0\n",
    "\n",
    "    hand = observation[0]\n",
    "\n",
    "    if hand == '2':  # tengo K\n",
    "        value = 1\n",
    "    elif hand == '1': # tengo Q\n",
    "        value = 0\n",
    "    else: # tengo J\n",
    "        value -= 1\n",
    "\n",
    "    # veo la ultima accion del oponente\n",
    "    if len(observation) >= 2:\n",
    "        last_oponent_action = observation[-1 if its_my_turn else -2]\n",
    "        if last_oponent_action == 'b':\n",
    "            value-= 0.5 # en caso que haya apostado, le resto 0.5\n",
    "        elif last_oponent_action == 'p':\n",
    "            value+= 0.5 # en caso que haya pasado, le sumo 0.5\n",
    "\n",
    "    return value"
   ]
  },
  {
   "cell_type": "code",
   "execution_count": 16,
   "metadata": {},
   "outputs": [],
   "source": [
    "khun2.reset() # Reseteamos el juego\n",
    "\n",
    "# CFR con evaluación de estados con profundidad 2 y función de evaluación\n",
    "cfr_agent_with_eval = EnhancedCounterFactualRegret(game=khun2, agent=khun2.agents[0], value_estimator=evaluate_kuhn_state, max_depth=2)\n",
    "random_agent = RandomAgent(game=khun2, agent=khun2.agents[1])\n",
    "\n",
    "agents = {\n",
    "    khun2.agents[0]: cfr_agent_with_eval,\n",
    "    khun2.agents[1]: random_agent\n",
    "}"
   ]
  },
  {
   "cell_type": "code",
   "execution_count": 17,
   "metadata": {},
   "outputs": [
    {
     "name": "stderr",
     "output_type": "stream",
     "text": [
      "100%|██████████| 10000/10000 [00:13<00:00, 749.31it/s]\n"
     ]
    }
   ],
   "source": [
    "cfr_agent_with_eval.train(KHUN2_TRAINING_STEPS)"
   ]
  },
  {
   "cell_type": "markdown",
   "metadata": {},
   "source": [
    "Como era de esperar el tiempo de entrenamiento es menor que el de la versión sin estimación de valor, ya que no se necesita explorar todo el árbol de juego."
   ]
  },
  {
   "cell_type": "code",
   "execution_count": 18,
   "metadata": {},
   "outputs": [
    {
     "name": "stdout",
     "output_type": "stream",
     "text": [
      "0\t agent_0\t [0.70632493 0.29367507]\n",
      "0b\t agent_1\t [9.99852246e-01 1.47754137e-04]\n",
      "0p\t agent_1\t [2.95508274e-04 9.99704492e-01]\n",
      "1\t agent_0\t [0.21412786 0.78587214]\n",
      "1b\t agent_1\t [0.50024548 0.49975452]\n",
      "1p\t agent_1\t [9.99850120e-01 1.49880096e-04]\n",
      "2\t agent_0\t [1.51103052e-04 9.99848897e-01]\n",
      "2b\t agent_1\t [1.52299726e-04 9.99847700e-01]\n",
      "2p\t agent_1\t [1.52299726e-04 9.99847700e-01]\n"
     ]
    }
   ],
   "source": [
    "print_strategy(cfr_agent_with_eval)"
   ]
  },
  {
   "cell_type": "markdown",
   "metadata": {},
   "source": [
    "Podemos ver que solo guarda los nodos de information set hasta la profundidad indicada."
   ]
  },
  {
   "cell_type": "code",
   "execution_count": 19,
   "metadata": {},
   "outputs": [
    {
     "name": "stderr",
     "output_type": "stream",
     "text": [
      "  0%|          | 0/1000000 [00:00<?, ?it/s]"
     ]
    },
    {
     "name": "stderr",
     "output_type": "stream",
     "text": [
      "100%|██████████| 1000000/1000000 [01:32<00:00, 10756.44it/s]"
     ]
    },
    {
     "name": "stdout",
     "output_type": "stream",
     "text": [
      "0.269893\n"
     ]
    },
    {
     "name": "stderr",
     "output_type": "stream",
     "text": [
      "\n"
     ]
    }
   ],
   "source": [
    "_, mean_reward = run(khun2, agents, KHUN2_GAME_ROUNDS)\n",
    "\n",
    "print(mean_reward)"
   ]
  },
  {
   "cell_type": "markdown",
   "metadata": {},
   "source": [
    "### Monte Carlo Tree Search\n",
    "\n",
    "#### Importancia de la Estimación en Juegos de Complejos\n",
    "\n",
    "En el contexto de juegos de información imperfecta como Leduc Poker, la estimación de valor se vuelve crucial debido a la complejidad y la variabilidad inherentes en estos juegos. Leduc Poker, un juego más complejo que Kuhn Poker, ofrece un escenario perfecto para aplicar y evaluar la efectividad de Monte Carlo Tree Search (MCTS).\n",
    "\n",
    "#### Desafíos Específicos de Leduc Poker\n",
    "\n",
    "Leduc Poker presenta desafíos únicos, como rondas de apuestas y una fase de revelación que cambia significativamente el estado del juego. Estos elementos añaden una capa de complejidad que hace que la exploración exhaustiva del árbol de juego sea poco práctica. Aquí es donde MCTS, con su enfoque en la exploración equilibrada y la explotación basada en simulaciones aleatorias, muestra su fuerza.\n",
    "\n",
    "#### Monte Carlo Tree Search (MCTS) y su Aplicación en Leduc Poker\n",
    "\n",
    "MCTS es una técnica poderosa para la toma de decisiones en juegos. Se basa en la construcción de un árbol de decisiones a través de simulaciones aleatorias y luego selecciona la mejor acción basándose en los resultados de estas simulaciones.\n",
    "\n",
    "1. **Exploración y Explotación**: MCTS equilibra entre explorar nuevas acciones y explotar las que han demostrado ser efectivas en simulaciones previas. Este equilibrio es crucial en juegos como Leduc Poker, donde el espacio de decisiones es extenso y complejo.\n",
    "\n",
    "2. **Simulaciones Aleatorias**: A través de simulaciones aleatorias, MCTS puede manejar efectivamente la incertidumbre y la variabilidad en Leduc Poker, permitiendo al algoritmo considerar una amplia gama de posibilidades y escenarios potenciales.\n",
    "\n",
    "3. **Selección de Acciones**: Utilizando la estrategia Upper Confidence Bound (UCB) para árboles, MCTS mejora progresivamente su selección de acciones, llevando a una toma de decisiones más informada y estratégica a medida que avanza el juego.\n",
    "\n",
    "> nota: La implementación permite utilizar otro tipo de estrategia de selección de acciones.\n",
    "\n",
    "4. **Retropropagación**: Los resultados de cada simulación se utilizan para actualizar la información en el árbol, asegurando que las decisiones futuras se basen en el aprendizaje acumulado.\n",
    "\n",
    "5. **Implementación en Leduc Poker**: Dada la complejidad de Leduc Poker, MCTS ofrece una manera efectiva de navegar por el espacio de decisiones del juego. La implementación de MCTS en este contexto requiere considerar las peculiaridades del juego, incluyendo las rondas de apuestas y el elemento de información oculta.\n",
    "\n",
    "#### Retos y Consideraciones\n",
    "\n",
    "- **Tiempo de Entrenamiento**: Dado el espacio de estados y la complejidad de Leduc Poker, una cantidad significativa de simulaciones puede ser necesaria para alcanzar un rendimiento óptimo. Esto implica que la ejecución del algoritmo MCTS puede requerir un tiempo de entrenamiento considerable.\n",
    "\n",
    "- **Eficiencia y Optimización**: Ajustar los parámetros de MCTS, como el número de simulaciones y rollouts, es fundamental para equilibrar entre la eficiencia computacional y la efectividad del algoritmo."
   ]
  },
  {
   "cell_type": "code",
   "execution_count": 20,
   "metadata": {},
   "outputs": [],
   "source": [
    "# definimos una función para evaluar el juego con MCTS mientras entrenamos\n",
    "def mcts_evaluate(game: AlternatingGame, agent: AgentID):\n",
    "    if game.done() or game.terminated():\n",
    "        return game.rewards[agent]\n",
    "    else:\n",
    "        mcts = MonteCarloTreeSearch(game=game, agent=agent, simulations=100, rollouts=10)\n",
    "        return mcts.estimate()"
   ]
  },
  {
   "cell_type": "code",
   "execution_count": 21,
   "metadata": {},
   "outputs": [],
   "source": [
    "# En caso de no tener el infoset guardado, se puede usar la función de evaluación de estados\n",
    "def mcts_action(game: AlternatingGame, agent: AgentID):\n",
    "    mcts = MonteCarloTreeSearch(game=game, agent=agent, simulations=3, rollouts=1)\n",
    "    return mcts.action()"
   ]
  },
  {
   "cell_type": "markdown",
   "metadata": {},
   "source": [
    "> Cabe destacar que debido al ambiente PettingZoo, cuando clonamos el entorno, se clona el estado del juego incluyendo las cartas de los jugadores (oponentes), esto hará que el agente si hace suficientes simulaciones, pueda saber las cartas de los oponentes, lo cual no es posible en la realidad. Para evitar esto, se limita el número de simulaciones a solo unas cuantas."
   ]
  },
  {
   "cell_type": "code",
   "execution_count": 22,
   "metadata": {},
   "outputs": [],
   "source": [
    "leduc = Leduc()\n",
    "leduc.reset() # Reseteamos el juego\n",
    "\n",
    "# Creamos los agentes\n",
    "cfr_agent_with_mcts = EnhancedCounterFactualRegret(game=leduc, agent=leduc.agents[0], value_estimator=mcts_evaluate, max_depth=3, action_selection=mcts_action)\n",
    "random_agent = RandomAgent(game=leduc, agent=leduc.agents[1])\n",
    "\n",
    "agents = {\n",
    "    leduc.agents[0]: cfr_agent_with_mcts,\n",
    "    leduc.agents[1]: random_agent\n",
    "}"
   ]
  },
  {
   "cell_type": "code",
   "execution_count": 23,
   "metadata": {},
   "outputs": [
    {
     "name": "stderr",
     "output_type": "stream",
     "text": [
      "100%|██████████| 5000/5000 [00:36<00:00, 136.98it/s]\n",
      "100%|██████████| 5000/5000 [00:33<00:00, 151.44it/s] \n",
      "100%|██████████| 5000/5000 [00:17<00:00, 286.51it/s]]\n",
      "100%|██████████| 5000/5000 [00:16<00:00, 304.81it/s]] \n",
      "100%|██████████| 5000/5000 [00:18<00:00, 265.02it/s]] \n",
      "100%|██████████| 5000/5000 [00:18<00:00, 271.86it/s]] \n",
      "100%|██████████| 5000/5000 [00:09<00:00, 513.45it/s]] \n",
      "100%|██████████| 5000/5000 [00:09<00:00, 520.48it/s]] \n",
      "100%|██████████| 5000/5000 [00:10<00:00, 476.30it/s]] \n",
      "100%|██████████| 5000/5000 [00:10<00:00, 499.20it/s]] \n",
      "100%|██████████| 5000/5000 [00:10<00:00, 496.30it/s]] \n",
      "100%|██████████| 5000/5000 [00:10<00:00, 499.61it/s]] \n",
      "100%|██████████| 5000/5000 [00:09<00:00, 510.18it/s]] \n",
      "100%|██████████| 5000/5000 [00:10<00:00, 497.94it/s]] \n",
      "100%|██████████| 5000/5000 [00:09<00:00, 504.23it/s]] \n",
      "100%|██████████| 5000/5000 [00:09<00:00, 515.42it/s]] \n",
      "100%|██████████| 5000/5000 [00:09<00:00, 540.36it/s]] \n",
      "100%|██████████| 5000/5000 [00:08<00:00, 562.23it/s]] \n",
      "100%|██████████| 5000/5000 [00:08<00:00, 607.47it/s]]\n",
      "100%|██████████| 5000/5000 [00:08<00:00, 576.78it/s]]\n",
      "100%|██████████| 5000/5000 [00:08<00:00, 598.38it/s]t]\n",
      "100%|██████████| 5000/5000 [00:08<00:00, 608.31it/s]t]\n",
      "100%|██████████| 5000/5000 [00:08<00:00, 593.19it/s]t]\n",
      "100%|██████████| 5000/5000 [00:08<00:00, 594.84it/s]t]\n",
      "100%|██████████| 5000/5000 [00:08<00:00, 600.58it/s]t]\n",
      "100%|██████████| 5000/5000 [00:08<00:00, 615.41it/s]t]\n",
      "100%|██████████| 5000/5000 [00:08<00:00, 610.25it/s]t]\n",
      "100%|██████████| 5000/5000 [00:08<00:00, 588.00it/s]t]\n",
      "100%|██████████| 5000/5000 [00:08<00:00, 595.42it/s]t]\n",
      "100%|██████████| 5000/5000 [00:08<00:00, 596.36it/s]t]\n",
      "100%|██████████| 5000/5000 [00:08<00:00, 573.04it/s]t]\n",
      "100%|██████████| 5000/5000 [00:08<00:00, 581.75it/s]t]\n",
      "100%|██████████| 5000/5000 [00:08<00:00, 567.88it/s]t]\n",
      "100%|██████████| 5000/5000 [00:08<00:00, 611.56it/s]t]\n",
      "100%|██████████| 5000/5000 [00:08<00:00, 585.06it/s]t]\n",
      "100%|██████████| 5000/5000 [00:08<00:00, 595.09it/s]t]\n",
      "100%|██████████| 5000/5000 [00:08<00:00, 595.79it/s]t]\n",
      "100%|██████████| 5000/5000 [00:08<00:00, 610.62it/s]t]\n",
      "100%|██████████| 5000/5000 [00:08<00:00, 608.31it/s]t]\n",
      "100%|██████████| 5000/5000 [00:08<00:00, 571.64it/s]t]\n",
      "100%|██████████| 5000/5000 [00:08<00:00, 582.94it/s]t]\n",
      "100%|██████████| 5000/5000 [00:08<00:00, 603.71it/s]t]\n",
      "100%|██████████| 5000/5000 [00:08<00:00, 597.09it/s]t]\n",
      "100%|██████████| 5000/5000 [00:08<00:00, 602.39it/s]t]\n",
      "100%|██████████| 5000/5000 [00:08<00:00, 582.49it/s]t]\n",
      "100%|██████████| 5000/5000 [00:08<00:00, 564.07it/s]t]\n",
      "100%|██████████| 5000/5000 [00:08<00:00, 566.41it/s]t]\n",
      "100%|██████████| 5000/5000 [00:08<00:00, 564.52it/s]t]\n",
      "100%|██████████| 5000/5000 [00:09<00:00, 543.54it/s]/it]\n",
      "100%|██████████| 5000/5000 [00:08<00:00, 567.02it/s]/it]\n",
      "100%|██████████| 5000/5000 [00:08<00:00, 556.53it/s]/it]\n",
      "100%|██████████| 5000/5000 [00:08<00:00, 566.16it/s]/it]\n",
      "100%|██████████| 5000/5000 [00:08<00:00, 582.48it/s]/it]\n",
      "100%|██████████| 5000/5000 [00:08<00:00, 573.79it/s]/it]\n",
      "100%|██████████| 5000/5000 [00:08<00:00, 569.59it/s]/it]\n",
      "100%|██████████| 5000/5000 [00:08<00:00, 593.92it/s]/it]\n",
      "100%|██████████| 5000/5000 [00:09<00:00, 548.87it/s]/it]\n",
      "100%|██████████| 5000/5000 [00:08<00:00, 564.28it/s]/it]\n",
      "100%|██████████| 5000/5000 [00:08<00:00, 556.73it/s]/it]\n",
      "100%|██████████| 5000/5000 [00:08<00:00, 595.53it/s]/it]\n",
      "100%|██████████| 5000/5000 [00:09<00:00, 544.35it/s]/it]\n",
      "100%|██████████| 5000/5000 [00:08<00:00, 568.42it/s]/it]\n",
      "100%|██████████| 5000/5000 [00:08<00:00, 573.52it/s]/it]\n",
      "100%|██████████| 5000/5000 [00:08<00:00, 572.94it/s]/it]\n",
      "100%|██████████| 5000/5000 [00:09<00:00, 546.59it/s]/it]\n",
      "100%|██████████| 5000/5000 [00:08<00:00, 562.21it/s]/it]\n",
      "100%|██████████| 5000/5000 [00:09<00:00, 554.73it/s]/it]\n",
      "100%|██████████| 5000/5000 [00:09<00:00, 533.11it/s]/it]\n",
      "100%|██████████| 5000/5000 [00:09<00:00, 551.43it/s]/it]\n",
      "100%|██████████| 5000/5000 [00:08<00:00, 557.04it/s]/it]\n",
      "100%|██████████| 5000/5000 [00:09<00:00, 546.61it/s]/it]\n",
      "100%|██████████| 5000/5000 [00:08<00:00, 560.24it/s]/it]\n",
      "100%|██████████| 5000/5000 [00:09<00:00, 547.24it/s]/it]\n",
      "100%|██████████| 5000/5000 [00:09<00:00, 519.06it/s]/it]\n",
      "100%|██████████| 5000/5000 [00:09<00:00, 552.24it/s]/it]\n",
      "100%|██████████| 5000/5000 [00:09<00:00, 522.52it/s]/it]\n",
      "100%|██████████| 5000/5000 [00:09<00:00, 534.12it/s]/it]\n",
      "100%|██████████| 5000/5000 [00:09<00:00, 543.92it/s]/it]\n",
      "100%|██████████| 5000/5000 [00:09<00:00, 537.40it/s]/it]\n",
      "100%|██████████| 5000/5000 [00:09<00:00, 544.66it/s]/it]\n",
      "100%|██████████| 5000/5000 [00:09<00:00, 527.44it/s]/it]\n",
      "100%|██████████| 5000/5000 [00:09<00:00, 534.67it/s]/it]\n",
      "100%|██████████| 5000/5000 [00:08<00:00, 556.15it/s]/it]\n",
      "100%|██████████| 5000/5000 [00:09<00:00, 536.65it/s]/it]\n",
      "100%|██████████| 5000/5000 [00:09<00:00, 516.88it/s]/it]\n",
      "100%|██████████| 5000/5000 [00:09<00:00, 518.63it/s]/it]\n",
      "100%|██████████| 5000/5000 [00:09<00:00, 540.70it/s]/it]\n",
      "100%|██████████| 5000/5000 [00:09<00:00, 513.78it/s]/it]\n",
      "100%|██████████| 5000/5000 [00:09<00:00, 520.14it/s]/it]\n",
      "100%|██████████| 5000/5000 [00:09<00:00, 541.67it/s]/it]\n",
      "100%|██████████| 5000/5000 [00:09<00:00, 511.62it/s]/it]\n",
      "100%|██████████| 5000/5000 [00:09<00:00, 526.85it/s]/it]\n",
      "100%|██████████| 5000/5000 [00:10<00:00, 497.49it/s]/it]\n",
      "100%|██████████| 5000/5000 [00:09<00:00, 511.53it/s]/it]\n",
      "100%|██████████| 5000/5000 [00:09<00:00, 503.63it/s]/it]\n",
      "100%|██████████| 5000/5000 [00:09<00:00, 501.29it/s]/it]\n",
      "100%|██████████| 5000/5000 [00:09<00:00, 508.15it/s]/it]\n",
      "100%|██████████| 5000/5000 [00:10<00:00, 499.08it/s]/it]\n",
      "100%|██████████| 5000/5000 [00:09<00:00, 514.40it/s]/it]\n",
      "100%|██████████| 5000/5000 [00:09<00:00, 527.51it/s]/it]\n",
      "100%|██████████| 5000/5000 [00:09<00:00, 504.36it/s]/it]\n",
      "100%|██████████| 5000/5000 [00:09<00:00, 503.37it/s]/it]\n",
      "100%|██████████| 5000/5000 [00:10<00:00, 492.93it/s]/it]\n",
      "100%|██████████| 5000/5000 [00:09<00:00, 518.66it/s]/it]\n",
      "100%|██████████| 5000/5000 [00:09<00:00, 511.83it/s]/it]\n",
      "100%|██████████| 5000/5000 [00:09<00:00, 506.55it/s]/it]\n",
      "100%|██████████| 5000/5000 [00:09<00:00, 513.12it/s]/it]\n",
      "100%|██████████| 5000/5000 [00:09<00:00, 504.31it/s]/it]\n",
      "100%|██████████| 5000/5000 [00:09<00:00, 504.59it/s]/it]\n",
      "100%|██████████| 5000/5000 [00:09<00:00, 530.97it/s]/it]\n",
      "100%|██████████| 5000/5000 [00:09<00:00, 524.73it/s]/it]\n",
      "100%|██████████| 5000/5000 [00:09<00:00, 508.10it/s]/it]\n",
      "100%|██████████| 5000/5000 [00:09<00:00, 500.92it/s]/it]\n",
      "100%|██████████| 5000/5000 [00:10<00:00, 497.85it/s]/it]\n",
      "100%|██████████| 5000/5000 [00:10<00:00, 492.52it/s]/it]\n",
      "100%|██████████| 5000/5000 [00:09<00:00, 515.34it/s]/it]\n",
      "100%|██████████| 5000/5000 [00:09<00:00, 513.70it/s]/it]\n",
      "100%|██████████| 5000/5000 [00:09<00:00, 512.99it/s]/it]\n",
      "100%|██████████| 5000/5000 [00:09<00:00, 539.33it/s]/it]\n",
      "100%|██████████| 5000/5000 [00:09<00:00, 537.35it/s]/it]\n",
      "100%|██████████| 5000/5000 [00:09<00:00, 522.74it/s]/it]\n",
      "100%|██████████| 5000/5000 [00:09<00:00, 538.98it/s]/it]\n",
      "100%|██████████| 5000/5000 [00:09<00:00, 533.49it/s]/it]\n",
      "100%|██████████| 5000/5000 [00:09<00:00, 534.81it/s]/it]\n",
      "100%|██████████| 5000/5000 [00:09<00:00, 537.29it/s]/it]\n",
      "100%|██████████| 5000/5000 [00:09<00:00, 515.17it/s]/it]\n",
      "100%|██████████| 5000/5000 [00:09<00:00, 526.95it/s]/it]\n",
      "100%|██████████| 5000/5000 [00:09<00:00, 525.28it/s]/it]\n",
      "100%|██████████| 5000/5000 [00:08<00:00, 555.94it/s]/it]\n",
      "100%|██████████| 5000/5000 [00:09<00:00, 552.38it/s]/it]\n",
      "100%|██████████| 5000/5000 [00:09<00:00, 551.67it/s]/it]\n",
      "100%|██████████| 5000/5000 [00:09<00:00, 530.13it/s]/it]\n",
      "100%|██████████| 5000/5000 [00:09<00:00, 551.76it/s]/it]\n",
      "100%|██████████| 5000/5000 [00:09<00:00, 519.21it/s]/it]\n",
      "100%|██████████| 5000/5000 [00:09<00:00, 532.44it/s]/it]\n",
      "100%|██████████| 5000/5000 [00:08<00:00, 585.56it/s]/it]\n",
      "100%|██████████| 5000/5000 [00:09<00:00, 540.76it/s]/it]\n",
      "100%|██████████| 5000/5000 [00:09<00:00, 534.32it/s]/it]\n",
      "100%|██████████| 5000/5000 [00:09<00:00, 533.66it/s]/it]\n",
      "100%|██████████| 5000/5000 [00:09<00:00, 522.95it/s]/it]\n",
      "100%|██████████| 5000/5000 [00:09<00:00, 540.33it/s]/it]\n",
      "100%|██████████| 5000/5000 [00:09<00:00, 519.99it/s]/it]\n",
      "100%|██████████| 5000/5000 [00:09<00:00, 547.25it/s]/it]\n",
      "100%|██████████| 5000/5000 [00:09<00:00, 511.68it/s]/it]\n",
      "100%|██████████| 5000/5000 [00:09<00:00, 550.79it/s]/it]\n",
      "100%|██████████| 5000/5000 [00:09<00:00, 519.53it/s]/it]\n",
      "100%|██████████| 5000/5000 [00:09<00:00, 522.77it/s]/it]\n",
      "100%|██████████| 5000/5000 [00:09<00:00, 539.97it/s]t]  \n",
      "100%|██████████| 5000/5000 [00:09<00:00, 511.61it/s]t]  \n",
      "100%|██████████| 5000/5000 [00:09<00:00, 514.42it/s]t]  \n",
      "100%|██████████| 5000/5000 [00:09<00:00, 523.76it/s]t]  \n",
      "100%|██████████| 5000/5000 [00:09<00:00, 552.17it/s]t]  \n",
      "100%|██████████| 5000/5000 [00:09<00:00, 541.11it/s]t]  \n",
      "100%|██████████| 5000/5000 [00:09<00:00, 543.27it/s]t]  \n",
      "100%|██████████| 5000/5000 [00:09<00:00, 546.17it/s]t]  \n",
      "100%|██████████| 5000/5000 [00:09<00:00, 529.25it/s]t]  \n",
      "100%|██████████| 5000/5000 [00:09<00:00, 517.37it/s]t]  \n",
      "100%|██████████| 5000/5000 [00:09<00:00, 544.28it/s]t]  \n",
      "100%|██████████| 5000/5000 [00:09<00:00, 531.95it/s]t]  \n",
      "100%|██████████| 5000/5000 [00:09<00:00, 508.98it/s]t]  \n",
      "100%|██████████| 5000/5000 [00:09<00:00, 549.10it/s]t]  \n",
      "100%|██████████| 5000/5000 [00:09<00:00, 520.56it/s]t]  \n",
      "100%|██████████| 5000/5000 [00:09<00:00, 542.07it/s]t]  \n",
      "100%|██████████| 5000/5000 [00:09<00:00, 537.13it/s]t]  \n",
      "100%|██████████| 5000/5000 [00:09<00:00, 522.70it/s]t]  \n",
      "100%|██████████| 5000/5000 [00:09<00:00, 544.24it/s]t]  \n",
      "100%|██████████| 5000/5000 [00:09<00:00, 554.63it/s]t]  \n",
      "100%|██████████| 5000/5000 [00:09<00:00, 540.58it/s]t]  \n",
      "100%|██████████| 5000/5000 [00:09<00:00, 543.75it/s]t]  \n",
      "100%|██████████| 5000/5000 [00:09<00:00, 529.46it/s]t]  \n",
      "100%|██████████| 5000/5000 [00:09<00:00, 533.94it/s]t]  \n",
      "100%|██████████| 5000/5000 [00:09<00:00, 510.88it/s]t]  \n",
      "100%|██████████| 5000/5000 [00:08<00:00, 566.58it/s]t]  \n",
      "100%|██████████| 5000/5000 [00:09<00:00, 537.57it/s]t]  \n",
      "100%|██████████| 5000/5000 [00:09<00:00, 548.44it/s]t]  \n",
      "100%|██████████| 5000/5000 [00:09<00:00, 549.60it/s]t]  \n",
      "100%|██████████| 5000/5000 [00:09<00:00, 529.64it/s]t]  \n",
      "100%|██████████| 5000/5000 [00:08<00:00, 564.83it/s]t]  \n",
      "100%|██████████| 5000/5000 [00:09<00:00, 529.84it/s]t]  \n",
      "100%|██████████| 5000/5000 [00:08<00:00, 566.25it/s]t]  \n",
      "100%|██████████| 5000/5000 [00:08<00:00, 555.72it/s]t]  \n",
      "100%|██████████| 5000/5000 [00:09<00:00, 508.02it/s]t]  \n",
      "100%|██████████| 5000/5000 [00:09<00:00, 530.97it/s]t]  \n",
      "100%|██████████| 5000/5000 [00:09<00:00, 510.20it/s]t]  \n",
      "100%|██████████| 5000/5000 [00:09<00:00, 521.47it/s]t]  \n",
      "100%|██████████| 5000/5000 [00:09<00:00, 541.82it/s]t]\n",
      "100%|██████████| 5000/5000 [00:08<00:00, 561.88it/s]t]\n",
      "100%|██████████| 5000/5000 [00:08<00:00, 556.45it/s]t]\n",
      "100%|██████████| 5000/5000 [00:09<00:00, 544.89it/s]t]\n",
      "100%|██████████| 5000/5000 [00:09<00:00, 538.44it/s]t]\n",
      "100%|██████████| 5000/5000 [00:08<00:00, 565.14it/s]t]\n",
      "100%|██████████| 5000/5000 [00:08<00:00, 559.59it/s]t]\n",
      "100%|██████████| 5000/5000 [00:08<00:00, 561.37it/s]t]\n",
      "100%|██████████| 5000/5000 [00:08<00:00, 557.85it/s]t]\n",
      "100%|██████████| 5000/5000 [00:09<00:00, 551.33it/s]t]\n",
      "100%|██████████| 5000/5000 [00:09<00:00, 534.31it/s]t]\n",
      "100%|██████████| 5000/5000 [00:09<00:00, 549.95it/s]t]\n",
      "100%|██████████| 5000/5000 [00:09<00:00, 554.57it/s]t]\n",
      "100%|██████████| 5000/5000 [00:09<00:00, 501.13it/s]t]\n",
      "100%|██████████| 5000/5000 [00:09<00:00, 528.69it/s]t]\n",
      "100%|██████████| 10000/10000 [4:12:20<00:00,  1.51s/it]\n"
     ]
    }
   ],
   "source": [
    "iter = []\n",
    "avg_rewards = []\n",
    "\n",
    "# creamos una funcion para loguear el entrenamiento y su evolucion\n",
    "def log_training(agent, iteration):\n",
    "    _, mean_reward = run(leduc, agents, 5000)\n",
    "    avg_rewards.append(mean_reward)\n",
    "    iter.append(iteration)\n",
    "\n",
    "# entrenamos y cada 50 iteraciones evaluamos el agente\n",
    "cfr_agent_with_mcts.train(10_000, log_training, 50)"
   ]
  },
  {
   "cell_type": "code",
   "execution_count": 24,
   "metadata": {},
   "outputs": [
    {
     "name": "stderr",
     "output_type": "stream",
     "text": [
      "No artists with labels found to put in legend.  Note that artists whose label start with an underscore are ignored when legend() is called with no argument.\n"
     ]
    },
    {
     "data": {
      "image/png": "[encoded data removed]",
      "text/plain": [
       "<Figure size 640x480 with 1 Axes>"
      ]
     },
     "metadata": {},
     "output_type": "display_data"
    }
   ],
   "source": [
    "plot_rewards(avg_rewards, iter)"
   ]
  },
  {
   "cell_type": "markdown",
   "metadata": {},
   "source": [
    "Tras implementar y entrenar nuestro agente usando CFR y MCTS en Leduc Poker, hemos realizado varias partidas contra un agente que elige acciones de manera aleatoria. Los resultados de estas partidas han sido prometedores, demostrando que nuestro agente CFR-MCTS, en promedio, mantiene un saldo positivo frente a estrategias no optimizadas. Esta constatación es un indicador inicial de la efectividad de nuestra implementación de MCTS en Leduc Poker.\n",
    "\n",
    "> Sin embargo, es importante para futuros trabajos profundizar en la evaluación y optimización de los parámetros de MCTS, eso implica un análisis más detallado de los resultados obtenidos y la experimentación con diferentes configuraciones de parámetros, asi como la evolución de la estrategia del agente a lo largo de las iteraciones.\n",
    "\n",
    "> Por ultimo, comparar el rendimiento de MCTS con otras técnicas de estimación de valor, como las funciones de evaluación, sería un paso importante para evaluar la efectividad de MCTS en Leduc Poker."
   ]
  },
  {
   "cell_type": "markdown",
   "metadata": {},
   "source": [
    "## Conclusión\n",
    "\n",
    "En este trabajo, hemos explorado y aplicado técnicas avanzadas de aprendizaje por refuerzo en el contexto de juegos alternados de múltiples jugadores, con un enfoque particular en el algoritmo Counterfactual Regret Minimization (CFR) y Monte Carlo Tree Search (MCTS).\n",
    "\n",
    "### Principales Logros\n",
    "\n",
    "1. **Implementación y Experimentación con CFR**: Hemos implementado con éxito el algoritmo CFR y lo hemos aplicado en el juego de Kuhn Poker, tanto para dos como para tres jugadores. A través de nuestra implementación `EnhancedCounterFactualRegret`, hemos demostrado cómo la estimación de valor en ciertas profundidades puede mejorar la eficiencia del algoritmo en juegos de información imperfecta.\n",
    "\n",
    "2. **Monte Carlo Tree Search en Leduc Poker**: La aplicación de MCTS en Leduc Poker ha sido un desafío emocionante. Hemos demostrado que, incluso en un juego con mayor complejidad estratégica que Kuhn Poker, MCTS es una herramienta poderosa para navegar por el espacio de decisiones. Nuestros experimentos han mostrado que el agente MCTS puede superar consistentemente a los agentes que toman decisiones aleatorias.\n",
    "\n",
    "### Observaciones Clave\n",
    "\n",
    "- La eficacia de las funciones de evaluación 'hardcodeadas' y cómo influyen en la estrategia y las decisiones de los agentes.\n",
    "- La importancia de equilibrar la exploración y la explotación en MCTS, especialmente en juegos con un amplio espacio de estados y elementos de información oculta.\n",
    "- Los retos asociados con la implementación de estas técnicas en juegos de información imperfecta y cómo abordarlos.\n",
    "\n",
    "### Futuras Direcciones\n",
    "\n",
    "Mirando hacia el futuro, hay varias áreas emocionantes para continuar este trabajo:\n",
    "\n",
    "1. **Comparación con Agentes Más Avanzados**: Una dirección clave es comparar el rendimiento de nuestros agentes con agentes que utilizan estrategias más sofisticadas, lo que nos permitirá entender mejor el panorama competitivo de juegos como Leduc Poker.\n",
    "\n",
    "2. **Optimización y Ajuste Fino**: Existe el potencial para seguir refinando nuestros algoritmos, explorando diferentes parámetros y técnicas para mejorar aún más el rendimiento.\n",
    "\n",
    "3. **Aplicación en Otros Juegos**: Extender nuestras técnicas a una variedad más amplia de juegos de información imperfecta podría proporcionar insights valiosos sobre su generalización y adaptabilidad.\n",
    "\n",
    "En resumen, este proyecto ha establecido una base sólida para el uso de técnicas avanzadas de aprendizaje por refuerzo en juegos alternados de múltiples jugadores y ha abierto varias vías emocionantes para futuras investigaciones y desarrollos en el campo de la inteligencia artificial aplicada a juegos."
   ]
  },
  {
   "cell_type": "markdown",
   "metadata": {},
   "source": [
    "## Referencias\n",
    "\n",
    "- [PettingZoo: Gym for Multi-Agent Reinforcement Learning](https://arxiv.org/abs/2009.14471)\n",
    "- [Regret Circuits: Composability of Regret Minimizers](https://blog.ml.cmu.edu/2019/08/02/regret-circuits-composability-of-regret-minimizers/)\n",
    "- [Khun Poker](https://en.wikipedia.org/wiki/Kuhn_poker)\n",
    "- [Equilibrio de Nash](https://es.wikipedia.org/wiki/Equilibrio_de_Nash)\n",
    "- [Farol (envite)](https://es.wikipedia.org/wiki/Farol_(envite))"
   ]
  },
  {
   "cell_type": "markdown",
   "metadata": {},
   "source": [
    "## Descargo de Responsabilidad\n",
    "\n",
    "### Participación de la Inteligencia Artificial en la Composición del Texto\n",
    "\n",
    "Este documento incluye secciones cuya composición textual ha sido asistida por una Inteligencia Artificial (IA). Es importante destacar que, aunque la IA ha contribuido en la redacción de ciertas partes del texto para mejorar la claridad y estructura del mismo, los siguientes elementos son enteramente responsabilidad del alumno:\n",
    "\n",
    "- **Desarrollo del Código**: Todo el código presente en este trabajo ha sido desarrollado y escrito por el alumno, reflejando su comprensión y aplicación práctica de los conceptos aprendidos.\n",
    "- **Conclusiones**: Las conclusiones extraídas de la experimentación y análisis son fruto del criterio y razonamiento del alumno, basadas en los resultados obtenidos y las observaciones realizadas durante el desarrollo del proyecto.\n",
    "- **Decisiones Metodológicas y Conceptuales**: Todas las decisiones relacionadas con la metodología, enfoque del proyecto, y la interpretación de los conceptos teóricos son producto del trabajo independiente del alumno.\n",
    "\n",
    "### Propósito de la Asistencia de IA\n",
    "\n",
    "El uso de la IA se ha limitado a proporcionar asistencia en la redacción para facilitar una comunicación clara y efectiva. En ningún momento, la IA ha influido en las decisiones técnicas, analíticas o conceptuales que conforman la esencia y los resultados del proyecto."
   ]
  }
 ],
 "metadata": {
  "kernelspec": {
   "display_name": "Python 3",
   "language": "python",
   "name": "python3"
  },
  "language_info": {
   "codemirror_mode": {
    "name": "ipython",
    "version": 3
   },
   "file_extension": ".py",
   "mimetype": "text/x-python",
   "name": "python",
   "nbconvert_exporter": "python",
   "pygments_lexer": "ipython3",
   "version": "3.11.5"
  }
 },
 "nbformat": 4,
 "nbformat_minor": 2
}
