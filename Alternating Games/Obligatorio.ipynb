{
 "cells": [
  {
   "cell_type": "markdown",
   "metadata": {},
   "source": [
    "# Obligatorio Muliti-agentes: CFR y MCTS\n",
    "\n",
    "---\n",
    "## Índice\n",
    "\n",
    "1. [Introducción](##Introducción)\n",
    "2. [Objetivos del Trabajo](##Objetivos-del-Trabajo)\n",
    "3. [Setup](##Setup)\n",
    "   1. [Entorno de Ejecución](###Entorno-de-Ejecución)\n",
    "   2. [Manejo de Dependencias](###Manejo-de-Dependencias)\n",
    "   2. [Instalación de Dependencias](###Instalación-de-Dependencias)\n",
    "4. [Counterfactual Regret Minimization](##Counterfactual-Regret-Minimization)\n",
    "   1. [Introducción a CFR](###Introducción-a-CFR)\n",
    "   2. [Implementación de CFR](###Implementación-de-CFR)\n",
    "   3. [Experimentación con Kuhn Poker](###Experimentación-con-Kuhn-Poker)\n",
    "5. [Estimación de Valor de Estados](##Estimación-de-Valor-de-Estados)\n",
    "   1. [CFR con Estimación de Valor](###CFR-con-Estimación-de-Valor)\n",
    "   2. [Funciones de Evaluación](###Funciones-de-Evaluación)\n",
    "   3. [Monte Carlo Tree Search](###Monte-Carlo-Tree-Search)\n",
    "6. [Conclusiones](##Conclusiones)\n",
    "7. [Referencias](##Referencias)\n",
    "8. [Descargo de Responsabilidad](##Descargo-de-Responsabilidad)\n",
    "\n",
    "\n",
    "## Introducción\n",
    "\n",
    "En este trabajo, exploramos la implementación y experimentación de algoritmos de aprendizaje avanzados en el contexto de juegos alternados de múltiples jugadores. Nos enfocamos específicamente en dos algoritmos clave: CFR (Counterfactual Regret Minimization) y MCTS (Monte Carlo Tree Search), aplicados a variantes de póker. Nuestro objetivo es no solo implementar estos algoritmos sino también investigar su rendimiento y efectividad en diferentes escenarios de juego.\n",
    "\n",
    "\n",
    "## Objetivos del Trabajo\n",
    "\n",
    "El principal objetivo de este trabajo es profundizar en el entendimiento y aplicación práctica de los algoritmos CFR y MCTS en entornos de juego competitivos, así como explorar posibles extensiones y mejoras a estos métodos."
   ]
  },
  {
   "cell_type": "markdown",
   "metadata": {},
   "source": [
    "## Setup"
   ]
  },
  {
   "cell_type": "markdown",
   "metadata": {},
   "source": [
    "### Entorno de Ejecución\n",
    "\n",
    "[PettingZoo](https://pettingzoo.farama.org/index.html) es una biblioteca de juegos multiagentes que proporciona una amplia variedad de entornos diseñados específicamente para la investigación en aprendizaje por refuerzo. Este entorno será la base de nuestros experimentos, permitiéndonos simular y analizar de manera efectiva las interacciones y estrategias de los agentes en diferentes juegos.\n",
    "\n",
    "#### Características Clave de PettingZoo\n",
    "\n",
    "- **Variedad de Juegos**: Ofrece una extensa colección de juegos, incluyendo clásicos y nuevos desafíos, lo que nos permite explorar una amplia gama de escenarios y dinámicas de juego.\n",
    "- **Compatibilidad con Aprendizaje por Refuerzo**: Diseñado para ser compatible con las técnicas y algoritmos de aprendizaje por refuerzo más comunes, facilitando la integración y experimentación.\n",
    "- **Entorno Multiagente**: Especialmente orientado a entornos multiagentes, lo que lo hace ideal para estudiar juegos alternados de múltiples jugadores como los que abordaremos.\n",
    "\n",
    "#### Implementación de los Juegos\n",
    "\n",
    "En nuestro trabajo, la catedra nos proporcionó una implementación de los juegos Kuhn Poker y Leduc Poker, que utilizaremos para nuestros experimentos. Estas implementaciones se basan en la biblioteca PettingZoo.\n",
    "\n",
    "1. **Kuhn Poker**: Un juego de póker simplificado que servirá como campo de prueba para el algoritmo CFR. Experimentaremos tanto con versiones de 2 como de 3 jugadores.\n",
    "2. **Leduc Poker**: Un juego de póker más complejo que será utilizado para probar y evaluar el algoritmo MCTS, así como las funciones de evaluación integradas.\n",
    "\n",
    "Estos juegos nos proporcionarán una plataforma sólida para implementar, probar y analizar los algoritmos de aprendizaje en un contexto competitivo y controlado.\n"
   ]
  },
  {
   "cell_type": "markdown",
   "metadata": {},
   "source": [
    "\n",
    "### Manejo de Dependencias\n",
    "\n",
    "Para garantizar la consistencia y reproducibilidad de nuestros experimentos, utilizaremos [Conda](https://docs.conda.io/en/latest/), un sistema de gestión de paquetes y entornos, que nos permitirá crear un entorno aislado con todas las dependencias necesarias para nuestro proyecto.\n",
    "\n",
    "> **Nota**: Para instalar Conda, siga las instrucciones en la [documentación oficial](https://docs.conda.io/projects/conda/en/latest/user-guide/install/index.html).\n",
    "\n",
    "\n",
    "#### Ventajas de Usar Conda\n",
    "\n",
    "- **Reproducibilidad**: Conda nos ayuda a garantizar que todos los experimentos se puedan reproducir en diferentes máquinas con las mismas versiones de paquetes y dependencias.\n",
    "- **Gestión de Dependencias**: Maneja fácilmente las dependencias y paquetes necesarios para el proyecto.\n",
    "- **Entornos Aislados**: Permite crear entornos aislados para evitar conflictos entre distintos proyectos.\n",
    "\n",
    "\n",
    "#### Archivo `environment.yml`\n",
    "\n",
    "En la raíz del proyecto, hemos incluido un archivo `environment.yml` que contiene todas las especificaciones necesarias para crear el entorno de Conda adecuado. Este archivo incluye:\n",
    "\n",
    "- Las versiones específicas de Python y las bibliotecas necesarias.\n",
    "- Dependencias adicionales requeridas para ejecutar los algoritmos de aprendizaje por refuerzo y los juegos en PettingZoo.\n",
    "\n",
    "#### Creación del Entorno con `environment.yml`\n",
    "\n",
    "Para crear el entorno utilizando este archivo, ejecute el siguiente comando en su terminal:\n",
    "\n",
    "```bash\n",
    "conda env create -f environment.yml\n",
    "```\n",
    "\n",
    "Una vez creado el entorno, puede activarlo usando:\n",
    "\n",
    "```bash\n",
    "conda activate multi-agentes\n",
    "```\n"
   ]
  },
  {
   "cell_type": "markdown",
   "metadata": {},
   "source": [
    "### Instalación de Dependencias"
   ]
  },
  {
   "cell_type": "code",
   "execution_count": 1,
   "metadata": {},
   "outputs": [],
   "source": [
    "# Entornos\n",
    "import pettingzoo\n",
    "from base.game import AlternatingGame, AgentID\n",
    "\n",
    "# Agentes\n",
    "from agents.counterfactualregret import CounterFactualRegret\n",
    "from agents.counterfactualregretv2 import EnhancedCounterFactualRegret\n",
    "from agents.minimax import MiniMax\n",
    "from agents.mcts_t import MonteCarloTreeSearch\n",
    "from agents.agent_random import RandomAgent\n",
    "\n",
    "# Juegos\n",
    "from games.kuhn import KuhnPoker\n",
    "from games.kuhn3 import KuhnPoker3\n",
    "from games.leduc import Leduc\n",
    "from games.tictactoe import TicTacToe\n",
    "\n",
    "# Herramientas\n",
    "from tqdm import tqdm\n",
    "from base.utils import run, plot_rewards\n",
    "import numpy as np\n",
    "import random\n",
    "import matplotlib.pyplot as plt\n"
   ]
  },
  {
   "cell_type": "markdown",
   "metadata": {},
   "source": [
    "### Semilla para Reproducibilidad"
   ]
  },
  {
   "cell_type": "code",
   "execution_count": 2,
   "metadata": {},
   "outputs": [],
   "source": [
    "SEED = 134\n",
    "np.random.seed(SEED)\n",
    "random.seed(SEED)"
   ]
  },
  {
   "cell_type": "markdown",
   "metadata": {},
   "source": [
    "## Counterfactual Regret Minimization\n",
    "\n",
    "### Introducción a CFR\n",
    "\n",
    "La técnica de Counterfactual Regret Minimization (CFR) representa un hito fundamental en el campo del aprendizaje por refuerzo, particularmente en juegos de información imperfecta como el póker. CFR es un algoritmo que itera sobre posibles estrategias para minimizar el arrepentimiento contrafactual, es decir, la diferencia entre la recompensa obtenida y la que se hubiera obtenido si se hubiera jugado de manera óptima en cada estado del juego.\n",
    "\n",
    "#### Fundamentos\n",
    "\n",
    "El CFR trabaja analizando las decisiones tomadas en cada punto de decisión de un juego y evaluando el \"arrepentimiento\" de no haber tomado otras alternativas. Esta evaluación se basa en la noción de arrepentimiento contrafactual, que es la diferencia entre el beneficio obtenido y el beneficio que se hubiera obtenido si se hubiera jugado la mejor estrategia posible en retrospectiva.\n",
    "\n",
    "#### Aplicaciones\n",
    "\n",
    "Este método ha demostrado ser particularmente poderoso en juegos de póker, donde la información es incompleta y las estrategias óptimas no son siempre claras. La implementación de CFR en juegos como Kuhn Poker y Leduc Poker nos permite explorar cómo este algoritmo puede adaptarse y aprender estrategias efectivas en entornos de decisión complejos y dinámicos.\n",
    "\n",
    "#### Objetivo de la Sección\n",
    "\n",
    "En esta sección, nos enfocaremos en la implementación del algoritmo CFR. Detallaremos su estructura, funcionamiento y aplicaremos el algoritmo a juegos de póker de múltiples jugadores, analizando cómo se adapta y evoluciona la estrategia del juego a lo largo de múltiples iteraciones.\n",
    "\n"
   ]
  },
  {
   "cell_type": "markdown",
   "metadata": {},
   "source": [
    "### Implementación de CFR\n",
    "\n",
    "En este proyecto, hemos implementado el algoritmo Counterfactual Regret Minimization (CFR) para experimentar en juegos de póker (aunque podrian ser usados en otros contextos). Esta implementación se centra en desarrollar y refinar estrategias de juego en entornos de información imperfecta. El código completo para esta implementación se puede encontrar en el archivo `/agents/counterfactualregret.py` del proyecto.\n",
    "\n",
    "#### Descripción de la Implementación\n",
    "\n",
    "La implementación de CFR en nuestro proyecto consta de varias partes clave:\n",
    "\n",
    "1. **Clase `Node`**: Representa un nodo en el árbol de juego. Cada nodo contiene información sobre el estado del juego (information set), el agente actual, la observación recibida y mantiene un registro del arrepentimiento acumulado y la política aprendida.\n",
    "\n",
    "2. **Métodos de Actualización y Estrategia**: Dentro de la clase `Node`, se implementan métodos para actualizar los valores de arrepentimiento contrafactual y para ajustar la estrategia actual basada en estos arrepentimientos.\n",
    "\n",
    "3. **Clase `CounterFactualRegret`**: Extiende la clase `Agent` (basado en `PettingZoo`) y se utiliza para representar un agente que emplea CFR. Contiene métodos para realizar acciones, entrenar utilizando CFR y realizar el algoritmo de CFR de manera recursiva.\n",
    "\n",
    "4. **Función `cfr_rec`**: Implementa la lógica del CFR de manera recursiva, calculando la utilidad de cada nodo y actualizando la estrategia y los arrepentimientos.\n",
    "\n",
    "#### Naturaleza Agnóstica al Juego de las Implementaciones de Agentes\n",
    "\n",
    "Es importante destacar un aspecto fundamental de nuestras implementaciones de agentes, incluido el agente que utiliza el algoritmo Counterfactual Regret Minimization (CFR). Estos agentes son **agnósticos al juego**, lo que significa que su diseño y funcionamiento no están limitados o definidos por las reglas o acciones específicas de un juego en particular, o por la cantidad de jugadores. En cambio, estos agentes se pueden utilizar en cualquier juego que cumpla con los requisitos básicos de la biblioteca PettingZoo, lo que los hace altamente adaptables y reutilizables."
   ]
  },
  {
   "cell_type": "markdown",
   "metadata": {},
   "source": [
    "### Experimentación con Kuhn Poker\n",
    "\n",
    "[Kuhn Poker](https://en.wikipedia.org/wiki/Kuhn_poker) es un juego de póker simplificado que sirve como un modelo excelente para estudiar algoritmos de aprendizaje por refuerzo en juegos de información imperfecta. Este juego representa una versión reducida del póker tradicional, lo que lo convierte en un entorno ideal para experimentos y análisis en el campo de la teoría de juegos y la inteligencia artificial.\n",
    "\n",
    "\n",
    "![CFR](_assets/CFR-poker.png)\n",
    "\n",
    "#### Descripción del Kuhn Poker\n",
    "\n",
    "- **Jugadores**: El juego clásico involucra a 2 jugadores, aunque puede adaptarse para 3 jugadores.\n",
    "- **Baraja**: Se utiliza una baraja reducida, típicamente con tres cartas (por ejemplo, un As, un Rey y una Reina).\n",
    "- **Dinámica del Juego**: Cada jugador recibe una carta y tiene la opción de apostar (bet) o pasar (check). El juego tiene una estructura de apuestas limitada y presenta oportunidades para [farolear](https://es.wikipedia.org/wiki/Farol_(envite)) y realizar estrategias basadas en la información limitada.\n",
    "\n",
    "#### Experimentación Planeada\n",
    "\n",
    "En nuestro proyecto, experimentaremos con Kuhn Poker de la siguiente manera:\n",
    "\n",
    "1. **Con 2 Jugadores**: Inicialmente, nos enfocaremos en la versión clásica de Kuhn Poker con 2 jugadores. Aquí, aplicaremos y evaluaremos el algoritmo de Counterfactual Regret Minimization para desarrollar estrategias efectivas y analizar cómo los agentes aprenden y se adaptan a lo largo de múltiples juegos.\n",
    "\n",
    "2. **Expansión a 3 Jugadores**: Posteriormente, expandiremos nuestra experimentación para incluir una versión de 3 jugadores del juego. Esta variante presenta desafíos adicionales y complejidades, permitiéndonos explorar cómo los algoritmos se adaptan a un entorno de juego más dinámico y a la presencia de un jugador adicional.\n",
    "\n",
    "Estas experimentaciones nos permitirán obtener una comprensión más profunda de la efectividad del algoritmo CFR y cómo se puede adaptar a diferentes configuraciones de juego."
   ]
  },
  {
   "cell_type": "markdown",
   "metadata": {},
   "source": [
    "### Kuhn Poker con 2 Jugadores\n",
    "\n",
    "#### CFR vs Random"
   ]
  },
  {
   "cell_type": "code",
   "execution_count": 3,
   "metadata": {},
   "outputs": [],
   "source": [
    "khun2 = KuhnPoker(render_mode='')\n",
    "khun2.reset() # Reseteamos el juego\n",
    "\n",
    "# Creamos los agentes\n",
    "cfr_agent = CounterFactualRegret(game=khun2, agent=khun2.agents[0])\n",
    "random_agent = RandomAgent(game=khun2, agent=khun2.agents[1])\n",
    "\n",
    "agents = {\n",
    "    khun2.agents[0]: cfr_agent,\n",
    "    khun2.agents[1]: random_agent\n",
    "}"
   ]
  },
  {
   "cell_type": "code",
   "execution_count": 4,
   "metadata": {},
   "outputs": [
    {
     "name": "stderr",
     "output_type": "stream",
     "text": [
      "100%|██████████| 10000/10000 [00:16<00:00, 602.97it/s]\n"
     ]
    }
   ],
   "source": [
    "# entrenamos\n",
    "KHUN2_TRAINING_STEPS = 10_000\n",
    "cfr_agent.train(KHUN2_TRAINING_STEPS)"
   ]
  },
  {
   "cell_type": "code",
   "execution_count": 5,
   "metadata": {},
   "outputs": [
    {
     "name": "stdout",
     "output_type": "stream",
     "text": [
      "0\t agent_0\t [0.88336041 0.11663959]\n",
      "0b\t agent_1\t [9.99849170e-01 1.50829563e-04]\n",
      "0p\t agent_1\t [0.65241769 0.34758231]\n",
      "0pb\t agent_0\t [9.99548601e-01 4.51399338e-04]\n",
      "1\t agent_0\t [0.99674044 0.00325956]\n",
      "1b\t agent_1\t [0.64124162 0.35875838]\n",
      "1p\t agent_1\t [9.99850075e-01 1.49925037e-04]\n",
      "1pb\t agent_0\t [0.55420274 0.44579726]\n",
      "2\t agent_0\t [0.66895365 0.33104635]\n",
      "2b\t agent_1\t [1.49120191e-04 9.99850880e-01]\n",
      "2p\t agent_1\t [1.49120191e-04 9.99850880e-01]\n",
      "2pb\t agent_0\t [1.49970006e-04 9.99850030e-01]\n"
     ]
    }
   ],
   "source": [
    "# Imrimimos la estrategia de nuestro agente CFR\n",
    "def print_strategy(agent):\n",
    "    for n in sorted(agent.node_dict.keys()): \n",
    "        print(n + '\\t', agent.node_dict[n].agent + '\\t', agent.node_dict[n].policy())\n",
    "\n",
    "print_strategy(cfr_agent)"
   ]
  },
  {
   "cell_type": "code",
   "execution_count": 6,
   "metadata": {},
   "outputs": [
    {
     "name": "stderr",
     "output_type": "stream",
     "text": [
      "100%|██████████| 1000000/1000000 [01:34<00:00, 10637.34it/s]"
     ]
    },
    {
     "name": "stdout",
     "output_type": "stream",
     "text": [
      "0.09338\n"
     ]
    },
    {
     "name": "stderr",
     "output_type": "stream",
     "text": [
      "\n"
     ]
    }
   ],
   "source": [
    "KHUN2_GAME_ROUNDS = 1_000_000\n",
    "_, mean_reward = run(khun2, agents, KHUN2_GAME_ROUNDS)\n",
    "\n",
    "print(mean_reward)"
   ]
  },
  {
   "cell_type": "markdown",
   "metadata": {},
   "source": [
    "Podemos observar que la estrategia aprendida por el agente CFR es mucho más efectiva que la estrategia aleatoria ya que en promedio gana más fichas. Esto se debe a que el agente CFR aprende a jugar de manera óptima en cada estado del juego, mientras que el agente aleatorio simplemente toma decisiones aleatorias.\n",
    "\n",
    "> Cabe destacar que en este caso el agente CFR es siempre el primer jugador, por lo que tiene una [desventaja inicial](https://en.wikipedia.org/wiki/Kuhn_poker#Optimal_strategy). "
   ]
  },
  {
   "cell_type": "markdown",
   "metadata": {},
   "source": [
    "#### CFR vs CFR"
   ]
  },
  {
   "cell_type": "code",
   "execution_count": 7,
   "metadata": {},
   "outputs": [],
   "source": [
    "cfr_agent2 = CounterFactualRegret(game=khun2, agent=khun2.agents[1])\n",
    "\n",
    "agents = {\n",
    "    khun2.agents[0]: cfr_agent,\n",
    "    khun2.agents[1]: cfr_agent2\n",
    "}"
   ]
  },
  {
   "cell_type": "code",
   "execution_count": 8,
   "metadata": {},
   "outputs": [
    {
     "name": "stderr",
     "output_type": "stream",
     "text": [
      "100%|██████████| 10000/10000 [00:16<00:00, 598.68it/s]\n"
     ]
    }
   ],
   "source": [
    "cfr_agent2.train(KHUN2_TRAINING_STEPS)"
   ]
  },
  {
   "cell_type": "code",
   "execution_count": 9,
   "metadata": {},
   "outputs": [
    {
     "name": "stdout",
     "output_type": "stream",
     "text": [
      "\n",
      "Agent 1 strategy:\n",
      "\n",
      "0\t agent_0\t [0.88336041 0.11663959]\n",
      "0b\t agent_1\t [9.99849170e-01 1.50829563e-04]\n",
      "0p\t agent_1\t [0.65241769 0.34758231]\n",
      "0pb\t agent_0\t [9.99548601e-01 4.51399338e-04]\n",
      "1\t agent_0\t [0.99674044 0.00325956]\n",
      "1b\t agent_1\t [0.64124162 0.35875838]\n",
      "1p\t agent_1\t [9.99850075e-01 1.49925037e-04]\n",
      "1pb\t agent_0\t [0.55420274 0.44579726]\n",
      "2\t agent_0\t [0.66895365 0.33104635]\n",
      "2b\t agent_1\t [1.49120191e-04 9.99850880e-01]\n",
      "2p\t agent_1\t [1.49120191e-04 9.99850880e-01]\n",
      "2pb\t agent_0\t [1.49970006e-04 9.99850030e-01]\n",
      "\n",
      "Agent 2 strategy:\n",
      "\n",
      "0\t agent_0\t [0.81471434 0.18528566]\n",
      "0b\t agent_1\t [9.99847793e-01 1.52207002e-04]\n",
      "0p\t agent_1\t [0.67421558 0.32578442]\n",
      "0pb\t agent_0\t [9.99849170e-01 1.50829563e-04]\n",
      "1\t agent_0\t [0.99892384 0.00107616]\n",
      "1b\t agent_1\t [0.65773842 0.34226158]\n",
      "1p\t agent_1\t [0.99789663 0.00210337]\n",
      "1pb\t agent_0\t [0.43753681 0.56246319]\n",
      "2\t agent_0\t [0.3878245 0.6121755]\n",
      "2b\t agent_1\t [1.47492625e-04 9.99852507e-01]\n",
      "2p\t agent_1\t [0.00117994 0.99882006]\n",
      "2pb\t agent_0\t [1.48544266e-04 9.99851456e-01]\n"
     ]
    }
   ],
   "source": [
    "print(\"\\nAgent 1 strategy:\\n\")\n",
    "print_strategy(cfr_agent)\n",
    "\n",
    "print(\"\\nAgent 2 strategy:\\n\")\n",
    "print_strategy(cfr_agent2)"
   ]
  },
  {
   "cell_type": "code",
   "execution_count": 10,
   "metadata": {},
   "outputs": [
    {
     "name": "stderr",
     "output_type": "stream",
     "text": [
      "100%|██████████| 1000000/1000000 [01:28<00:00, 11293.04it/s]"
     ]
    },
    {
     "name": "stdout",
     "output_type": "stream",
     "text": [
      "-0.054719\n"
     ]
    },
    {
     "name": "stderr",
     "output_type": "stream",
     "text": [
      "\n"
     ]
    }
   ],
   "source": [
    "_, mean_reward = run(khun2, agents, KHUN2_GAME_ROUNDS)\n",
    "\n",
    "print(mean_reward)"
   ]
  },
  {
   "cell_type": "markdown",
   "metadata": {},
   "source": [
    "Podemos concluir que llegamos a un [Equilibrio de Nash](https://es.wikipedia.org/wiki/Equilibrio_de_Nash), donde el primer jugador 1 tiene una recompensa esperada de ~1/18:\n",
    "\n",
    "> \"The game has a mixed-strategy Nash equilibrium; when both players play equilibrium strategies, the first player should expect to lose at a rate of −1/18 per hand (as the game is zero-sum, the second player should expect to win at a rate of +1/18). There is no pure-strategy equilibrium.\" - [Wikipedia](https://en.wikipedia.org/wiki/Kuhn_poker#Optimal_strategy)"
   ]
  },
  {
   "cell_type": "markdown",
   "metadata": {},
   "source": [
    "### Kuhn Poker con 3 Jugadores\n",
    "\n",
    "En esta sección, extendemos nuestra exploración del Kuhn Poker a un escenario más complejo y desafiante: un juego con tres jugadores. El Kuhn Poker de tres jugadores introduce una dinámica de juego adicional y requiere estrategias más sofisticadas, dada la presencia de un jugador extra. Este entorno nos permite investigar cómo los algoritmos de aprendizaje por refuerzo, específicamente el CFR, se adaptan y se desempeñan en un contexto de juego más complejo.\n",
    "\n",
    "#### CFR vs CFR vs CFR\n",
    "\n",
    "Para evaluar el rendimiento del algoritmo CFR en este contexto, configuramos un experimento donde tres agentes independientes, cada uno utilizando una instancia del algoritmo CFR, compiten entre sí. \n",
    "\n",
    "#### Expectativas de Utilidad: \\( u_1 < u_2 < u_3 \\)\n",
    "\n",
    "En términos de resultados, esperamos observar una relación específica en las utilidades obtenidas por los tres agentes, específicamente \\( u_1 < u_2 < u_3 \\). Esta expectativa se basa en la hipótesis de que el tercer jugador, al ser el último en actuar en cada ronda, tiene una ventaja estratégica al contar con más información que los otros dos jugadores. Del mismo modo, el segundo jugador tendría una ventaja sobre el primero. Esta hipótesis será probada y analizada a través de los resultados obtenidos en nuestras experimentaciones.\n",
    "\n",
    "Esta fase del proyecto no solo nos proporcionará insights sobre el rendimiento del CFR en un escenario de tres jugadores, sino que también ampliará nuestra comprensión sobre la dinámica de los juegos de información imperfecta y las estrategias óptimas en dichos contextos.\n"
   ]
  },
  {
   "cell_type": "code",
   "execution_count": 11,
   "metadata": {},
   "outputs": [],
   "source": [
    "khun3 = KuhnPoker3(render_mode='')\n",
    "khun3.reset() # Reseteamos el juego\n",
    "\n",
    "# Creamos los agentes\n",
    "cfr_agent1 = CounterFactualRegret(game=khun3, agent=khun3.agents[0])\n",
    "cfr_agent2 = CounterFactualRegret(game=khun3, agent=khun3.agents[1])\n",
    "cfr_agent3 = CounterFactualRegret(game=khun3, agent=khun3.agents[2])\n",
    "\n",
    "\n",
    "agents = {\n",
    "    khun3.agents[0]: cfr_agent1,\n",
    "    khun3.agents[1]: cfr_agent2,\n",
    "    khun3.agents[2]: cfr_agent3\n",
    "}"
   ]
  },
  {
   "cell_type": "code",
   "execution_count": 12,
   "metadata": {},
   "outputs": [
    {
     "name": "stderr",
     "output_type": "stream",
     "text": [
      "100%|██████████| 50000/50000 [06:48<00:00, 122.48it/s]\n",
      "100%|██████████| 50000/50000 [06:46<00:00, 122.88it/s]\n",
      "100%|██████████| 50000/50000 [06:51<00:00, 121.42it/s]\n"
     ]
    }
   ],
   "source": [
    "# entrenamos\n",
    "KHUN3_TRAINING_STEPS = 50_000\n",
    "cfr_agent1.train(KHUN3_TRAINING_STEPS)\n",
    "cfr_agent2.train(KHUN3_TRAINING_STEPS)\n",
    "cfr_agent3.train(KHUN3_TRAINING_STEPS)"
   ]
  },
  {
   "cell_type": "code",
   "execution_count": 13,
   "metadata": {},
   "outputs": [
    {
     "name": "stdout",
     "output_type": "stream",
     "text": [
      "\n",
      "Agent 1 strategy:\n",
      "\n",
      "0\t agent_0\t [0.98550885 0.01449115]\n",
      "0b\t agent_1\t [9.99959668e-01 4.03323385e-05]\n",
      "0bb\t agent_2\t [9.99960013e-01 3.99872041e-05]\n",
      "0bp\t agent_2\t [9.99880038e-01 1.19961612e-04]\n",
      "0p\t agent_1\t [0.9595477 0.0404523]\n",
      "0pb\t agent_2\t [9.99640115e-01 3.59884837e-04]\n",
      "0pbb\t agent_0\t [9.99921086e-01 7.89141414e-05]\n",
      "0pbp\t agent_0\t [9.99960543e-01 3.94570707e-05]\n",
      "0pp\t agent_2\t [0.7699141 0.2300859]\n",
      "0ppb\t agent_0\t [9.99960543e-01 3.94570707e-05]\n",
      "0ppbb\t agent_1\t [9.99758006e-01 2.41994031e-04]\n",
      "0ppbp\t agent_1\t [9.99838671e-01 1.61329354e-04]\n",
      "1\t agent_0\t [0.9494597 0.0505403]\n",
      "1b\t agent_1\t [9.99882456e-01 1.17544365e-04]\n",
      "1bb\t agent_2\t [9.99960182e-01 3.98184280e-05]\n",
      "1bp\t agent_2\t [0.992905 0.007095]\n",
      "1p\t agent_1\t [0.87446536 0.12553464]\n",
      "1pb\t agent_2\t [9.99960182e-01 3.98184280e-05]\n",
      "1pbb\t agent_0\t [9.99959965e-01 4.00352310e-05]\n",
      "1pbp\t agent_0\t [0.98530845 0.01469155]\n",
      "1pp\t agent_2\t [0.72335599 0.27664401]\n",
      "1ppb\t agent_0\t [9.99875913e-01 1.24086837e-04]\n",
      "1ppbb\t agent_1\t [9.99960137e-01 3.98628717e-05]\n",
      "1ppbp\t agent_1\t [9.99960137e-01 3.98628717e-05]\n",
      "2\t agent_0\t [9.99141856e-01 8.58143962e-04]\n",
      "2b\t agent_1\t [0.96867698 0.03132302]\n",
      "2bb\t agent_2\t [9.99960058e-01 3.99424828e-05]\n",
      "2bp\t agent_2\t [0.49907882 0.50092118]\n",
      "2p\t agent_1\t [0.99868959 0.00131041]\n",
      "2pb\t agent_2\t [0.9976973 0.0023027]\n",
      "2pbb\t agent_0\t [0.99179004 0.00820996]\n",
      "2pbp\t agent_0\t [0.42767794 0.57232206]\n",
      "2pp\t agent_2\t [9.99840230e-01 1.59769931e-04]\n",
      "2ppb\t agent_0\t [0.627288 0.372712]\n",
      "2ppbb\t agent_1\t [9.99960311e-01 3.96888395e-05]\n",
      "2ppbp\t agent_1\t [0.60708332 0.39291668]\n",
      "3\t agent_0\t [0.87463701 0.12536299]\n",
      "3b\t agent_1\t [4.01090967e-05 9.99959891e-01]\n",
      "3bb\t agent_2\t [0.00193159 0.99806841]\n",
      "3bp\t agent_2\t [4.02414487e-05 9.99959759e-01]\n",
      "3p\t agent_1\t [0.67729526 0.32270474]\n",
      "3pb\t agent_2\t [1.20724346e-04 9.99879276e-01]\n",
      "3pbb\t agent_0\t [4.03323385e-05 9.99959668e-01]\n",
      "3pbp\t agent_0\t [4.03323385e-05 9.99959668e-01]\n",
      "3pp\t agent_2\t [3.21931590e-04 9.99678068e-01]\n",
      "3ppb\t agent_0\t [8.06646769e-05 9.99919335e-01]\n",
      "3ppbb\t agent_1\t [4.41200064e-04 9.99558800e-01]\n",
      "3ppbp\t agent_1\t [2.00545484e-04 9.99799455e-01]\n",
      "\n",
      "Agent 2 strategy:\n",
      "\n",
      "0\t agent_0\t [0.9935165 0.0064835]\n",
      "0b\t agent_1\t [9.99959888e-01 4.01123145e-05]\n",
      "0bb\t agent_2\t [9.99919955e-01 8.00448251e-05]\n",
      "0bp\t agent_2\t [9.99959978e-01 4.00224126e-05]\n",
      "0p\t agent_1\t [0.92829512 0.07170488]\n",
      "0pb\t agent_2\t [9.99879933e-01 1.20067238e-04]\n",
      "0pbb\t agent_0\t [9.99960524e-01 3.94757619e-05]\n",
      "0pbp\t agent_0\t [9.99960524e-01 3.94757619e-05]\n",
      "0pp\t agent_2\t [0.8540629 0.1459371]\n",
      "0ppb\t agent_0\t [9.99960524e-01 3.94757619e-05]\n",
      "0ppbb\t agent_1\t [9.99919775e-01 8.02246290e-05]\n",
      "0ppbp\t agent_1\t [9.99919775e-01 8.02246290e-05]\n",
      "1\t agent_0\t [0.99385189 0.00614811]\n",
      "1b\t agent_1\t [9.99960188e-01 3.98120869e-05]\n",
      "1bb\t agent_2\t [9.99960446e-01 3.95538328e-05]\n",
      "1bp\t agent_2\t [0.99145297 0.00854703]\n",
      "1p\t agent_1\t [0.8151667 0.1848333]\n",
      "1pb\t agent_2\t [9.99683569e-01 3.16430662e-04]\n",
      "1pbb\t agent_0\t [9.99959154e-01 4.08463361e-05]\n",
      "1pbp\t agent_0\t [0.99847738 0.00152262]\n",
      "1pp\t agent_2\t [0.65182086 0.34817914]\n",
      "1ppb\t agent_0\t [9.99667322e-01 3.32678262e-04]\n",
      "1ppbb\t agent_1\t [9.99880564e-01 1.19436261e-04]\n",
      "1ppbp\t agent_1\t [9.99880564e-01 1.19436261e-04]\n",
      "2\t agent_0\t [9.99524860e-01 4.75139791e-04]\n",
      "2b\t agent_1\t [0.9841594 0.0158406]\n",
      "2bb\t agent_2\t [9.9988045e-01 1.1955049e-04]\n",
      "2bp\t agent_2\t [0.33977828 0.66022172]\n",
      "2p\t agent_1\t [9.99151631e-01 8.48369423e-04]\n",
      "2pb\t agent_2\t [0.98730811 0.01269189]\n",
      "2pbb\t agent_0\t [0.99382844 0.00617156]\n",
      "2pbp\t agent_0\t [0.49890297 0.50109703]\n",
      "2pp\t agent_2\t [9.99840599e-01 1.59400654e-04]\n",
      "2ppb\t agent_0\t [0.81245074 0.18754926]\n",
      "2ppbb\t agent_1\t [9.9983991e-01 1.6008965e-04]\n",
      "2ppbp\t agent_1\t [0.45378466 0.54621534]\n",
      "3\t agent_0\t [0.97020994 0.02979006]\n",
      "3b\t agent_1\t [4.00416433e-05 9.99959958e-01]\n",
      "3bb\t agent_2\t [4.05745354e-05 9.99959425e-01]\n",
      "3bp\t agent_2\t [4.05745354e-05 9.99959425e-01]\n",
      "3p\t agent_1\t [0.45440795 0.54559205]\n",
      "3pb\t agent_2\t [4.05745354e-05 9.99959425e-01]\n",
      "3pbb\t agent_0\t [3.97235243e-05 9.99960276e-01]\n",
      "3pbp\t agent_0\t [3.97235243e-05 9.99960276e-01]\n",
      "3pp\t agent_2\t [4.05745354e-05 9.99959425e-01]\n",
      "3ppb\t agent_0\t [3.97235243e-05 9.99960276e-01]\n",
      "3ppbb\t agent_1\t [4.00416433e-05 9.99959958e-01]\n",
      "3ppbp\t agent_1\t [4.00416433e-05 9.99959958e-01]\n",
      "\n",
      "Agent 3 strategy:\n",
      "\n",
      "0\t agent_0\t [0.99865321 0.00134679]\n",
      "0b\t agent_1\t [9.99920363e-01 7.96368559e-05]\n",
      "0bb\t agent_2\t [9.99960283e-01 3.97172134e-05]\n",
      "0bp\t agent_2\t [9.99960283e-01 3.97172134e-05]\n",
      "0p\t agent_1\t [0.95243521 0.04756479]\n",
      "0pb\t agent_2\t [9.99960283e-01 3.97172134e-05]\n",
      "0pbb\t agent_0\t [9.99919290e-01 8.07102502e-05]\n",
      "0pbp\t agent_0\t [9.99959645e-01 4.03551251e-05]\n",
      "0pp\t agent_2\t [0.92207959 0.07792041]\n",
      "0ppb\t agent_0\t [9.99717514e-01 2.82485876e-04]\n",
      "0ppbb\t agent_1\t [9.99960182e-01 3.98184280e-05]\n",
      "0ppbp\t agent_1\t [9.99960182e-01 3.98184280e-05]\n",
      "1\t agent_0\t [0.99191095 0.00808905]\n",
      "1b\t agent_1\t [9.99315787e-01 6.84212688e-04]\n",
      "1bb\t agent_2\t [9.99959801e-01 4.01993890e-05]\n",
      "1bp\t agent_2\t [9.99959801e-01 4.01993890e-05]\n",
      "1p\t agent_1\t [0.79157373 0.20842627]\n",
      "1pb\t agent_2\t [0.99821289 0.00178711]\n",
      "1pbb\t agent_0\t [9.99960333e-01 3.96667989e-05]\n",
      "1pbp\t agent_0\t [9.99960333e-01 3.96667989e-05]\n",
      "1pp\t agent_2\t [0.5826864 0.4173136]\n",
      "1ppb\t agent_0\t [9.99583147e-01 4.16852810e-04]\n",
      "1ppbb\t agent_1\t [9.99920414e-01 7.95861520e-05]\n",
      "1ppbp\t agent_1\t [9.99453837e-01 5.46162598e-04]\n",
      "2\t agent_0\t [0.99876497 0.00123503]\n",
      "2b\t agent_1\t [0.95248002 0.04751998]\n",
      "2bb\t agent_2\t [9.99959810e-01 4.01896954e-05]\n",
      "2bp\t agent_2\t [0.37419904 0.62580096]\n",
      "2p\t agent_1\t [9.99717245e-01 2.82754969e-04]\n",
      "2pb\t agent_2\t [0.9787616 0.0212384]\n",
      "2pbb\t agent_0\t [9.99164326e-01 8.35674096e-04]\n",
      "2pbp\t agent_0\t [0.44358925 0.55641075]\n",
      "2pp\t agent_2\t [9.99919621e-01 8.03793907e-05]\n",
      "2ppb\t agent_0\t [0.71105127 0.28894873]\n",
      "2ppbb\t agent_1\t [0.9969554 0.0030446]\n",
      "2ppbp\t agent_1\t [0.54397275 0.45602725]\n",
      "3\t agent_0\t [0.98613949 0.01386051]\n",
      "3b\t agent_1\t [3.95350676e-05 9.99960465e-01]\n",
      "3bb\t agent_2\t [7.97702616e-05 9.99920230e-01]\n",
      "3bp\t agent_2\t [7.97702616e-05 9.99920230e-01]\n",
      "3p\t agent_1\t [0.51320515 0.48679485]\n",
      "3pb\t agent_2\t [3.98851308e-05 9.99960115e-01]\n",
      "3pbb\t agent_0\t [3.98025792e-05 9.99960197e-01]\n",
      "3pbp\t agent_0\t [3.98025792e-05 9.99960197e-01]\n",
      "3pp\t agent_2\t [3.98851308e-05 9.99960115e-01]\n",
      "3ppb\t agent_0\t [3.98025792e-05 9.99960197e-01]\n",
      "3ppbb\t agent_1\t [3.95350676e-05 9.99960465e-01]\n",
      "3ppbp\t agent_1\t [3.95350676e-05 9.99960465e-01]\n"
     ]
    }
   ],
   "source": [
    "print(\"\\nAgent 1 strategy:\\n\")\n",
    "print_strategy(cfr_agent1)\n",
    "\n",
    "print(\"\\nAgent 2 strategy:\\n\")\n",
    "print_strategy(cfr_agent2)\n",
    "\n",
    "print(\"\\nAgent 3 strategy:\\n\")\n",
    "print_strategy(cfr_agent3)"
   ]
  },
  {
   "cell_type": "code",
   "execution_count": 14,
   "metadata": {},
   "outputs": [
    {
     "name": "stderr",
     "output_type": "stream",
     "text": [
      "100%|██████████| 5000000/5000000 [08:14<00:00, 10102.30it/s]"
     ]
    },
    {
     "name": "stdout",
     "output_type": "stream",
     "text": [
      "Average rewards: {'agent_0': -0.0357928, 'agent_1': -0.0153866, 'agent_2': 0.0511794}\n"
     ]
    },
    {
     "name": "stderr",
     "output_type": "stream",
     "text": [
      "\n"
     ]
    }
   ],
   "source": [
    "KHUN3_GAME_ROUNDS = 5_000_000\n",
    "\n",
    "cum_rewards = dict(map(lambda ag: (ag, 0.), khun3.agents))\n",
    "\n",
    "for _ in tqdm(range(KHUN3_GAME_ROUNDS)):\n",
    "    khun3.reset()\n",
    "    turn = 0\n",
    "    while not khun3.done():\n",
    "        agent = agents[khun3.agent_selection]\n",
    "        a = agent.action()\n",
    "        khun3.step(action=a)\n",
    "        turn += 1\n",
    "    for ag in khun3.agents:\n",
    "        cum_rewards[ag] += khun3.rewards[ag]\n",
    "\n",
    "print('Average rewards:', dict(map(lambda ag: (ag, cum_rewards[ag]/KHUN3_GAME_ROUNDS), khun3.agents)))"
   ]
  },
  {
   "cell_type": "markdown",
   "metadata": {},
   "source": [
    "Como podemos observar, los resultados obtenidos en esta experimentación confirman nuestra hipótesis inicial: el tercer jugador obtiene la mayor utilidad, seguido del segundo jugador y finalmente el primer jugador.\n",
    "\n",
    "> \"A family of Nash equilibria for 3-player Kuhn poker is known analytically, which makes it the largest game with more than two players with analytic solution. The family is parameterized using 4–6 parameters (depending on the chosen equilibrium). In all equilibria, player 1 has a fixed strategy, and he always checks as the first action; player 2's utility is constant, equal to –1/48 per hand. The discovered equilibrium profiles show an interesting feature: by adjusting a strategy parameter $\\beta$ (between 0 and 1), player 2 can freely shift utility between the other two players while still remaining in equilibrium; player 1's utility is equal to $-\\frac{1+2\\beta}{48}$ (which is always worse than player 2's utility), player 3's utility is $\\frac{1+\\beta}{24}$.\" - [Wikipedia](https://en.wikipedia.org/wiki/Kuhn_poker#3-player_Kuhn_Poker)\n",
    "\n",
    "En nuestro caso no tenemos un $\\beta$ para parametrizar la estrategia del jugador 2, pero podemos ver que el jugador 2 tiene una utilidad similar a ~-1/48 por mano, que el jugador 3 tiene un poco mayor a 1/24 por mano, y que el jugador 1 tiene una utilidad un poco menor a -1/48 por mano. Lo cual es consistente con lo que se describe en trabajos previos."
   ]
  },
  {
   "cell_type": "markdown",
   "metadata": {},
   "source": [
    "## Estimación de Valor de Estados\n",
    "\n",
    "En el campo de la inteligencia artificial aplicada a juegos, una consideración fundamental es la gestión de la profundidad en los árboles de juego. Muchos juegos presentan un espacio de estado extenso, lo que hace inviable explorar cada posible futuro del juego hasta su conclusión. Por lo tanto, en ciertos niveles de profundidad, se vuelve esencial estimar el valor de los estados del juego en lugar de realizar una exploración completa.\n",
    "\n",
    "La profundidad del árbol de juego representa el número de movimientos hacia adelante que el algoritmo considera antes de tomar una decisión. En juegos complejos, este número puede crecer exponencialmente, haciendo que la exploración completa sea computacionalmente costosa o incluso imposible. Este fenómeno es conocido como la \"explosión combinatoria\".\n",
    "\n",
    "Para abordar este desafío, se emplean estrategias de estimación de valor para evaluar la calidad de los estados del juego en profundidades específicas:\n",
    "\n",
    "1. **Funciones de Evaluación**: Estas funciones proporcionan una manera de asignar un valor numérico a un estado del juego basándose en sus características. Pueden ser tan simples como heurísticas basadas en reglas o tan complejas como modelos entrenados mediante aprendizaje automático.\n",
    "\n",
    "2. **Monte Carlo Tree Search (MCTS)**: MCTS utiliza simulaciones aleatorias desde el nodo actual para estimar el valor de los estados sin necesidad de explorar todo el árbol de juego. Es particularmente útil en juegos con un gran número de posibles estados futuros.\n"
   ]
  },
  {
   "cell_type": "markdown",
   "metadata": {},
   "source": [
    "### CFR con Estimación de Valor\n",
    "\n",
    "Antes de adentrarnos en las funciones de evaluación específicas, es importante destacar que utilizaremos una versión avanzada del algoritmo Counterfactual Regret Minimization (CFR), denominada `EnhancedCounterFactualRegret`. Esta versión, implementada en `agentes/counterfactualregretv2.py`, hereda de nuestra implementación original de CFR, pero introduce un componente crucial: la estimación de valor en cierta profundidad.\n",
    "\n",
    "El código fuente en `agentes/counterfactualregretv2.py` muestra cómo `EnhancedCounterFactualRegret` se diferencia de la implementación estándar de CFR:\n",
    "\n",
    "1. **Estimación de Valor en Profundidad Limitada**: En lugar de explorar el árbol de juego hasta su totalidad, `EnhancedCounterFactualRegret` utiliza una función de estimación de valor (`value_estimator`) para evaluar los estados del juego una vez alcanzada una profundidad máxima (`max_depth`). Esto permite manejar eficientemente juegos con un espacio de estado extenso.\n",
    "\n",
    "2. **Recursión Modificada**: La función `cfr_rec` se ha modificado para incorporar la lógica de profundidad. Si la profundidad actual (`current_depth`) alcanza `max_depth`, la función `estimate_value` se invoca para obtener una estimación del valor del estado actual del juego.\n",
    "\n",
    "3. **Selección de Acciones**: En el método `action`, si la llamada a la función `action` de la clase base falla, se elige una acción aleatoria de las posibles acciones del juego. Esto proporciona un mecanismo de fallback para casos en los que el algoritmo CFR base no puede determinar una acción."
   ]
  },
  {
   "cell_type": "markdown",
   "metadata": {},
   "source": [
    "### Funciones de Evaluación\n",
    "\n",
    "Al abordar el diseño de agentes inteligentes para juegos, las funciones de evaluación son herramientas útiles para asignar valores numéricos a los estados del juego, facilitando así la toma de decisiones estratégicas. En el caso de Kuhn Poker para dos jugadores (khun2), vamos a utilizar una función de evaluación como un ejemplo ilustrativo y \"dummy\" para demostrar de manera clara y sencilla cómo estas funciones influyen en el comportamiento del agente.\n",
    "\n",
    "#### Elección de Kuhn Poker (khun2) para la Demostración\n",
    "\n",
    "Elegimos Kuhn Poker por su simplicidad estructural y su naturaleza de información imperfecta, lo que lo hace ideal para una demostración visual y comprensible de cómo funcionan las evaluaciones en el juego. A pesar de ser un juego simple, Kuhn Poker encapsula la esencia de la toma de decisiones en entornos de incertidumbre.\n",
    "\n",
    "#### Construcción de una Función de Evaluación \"Dummy\"\n",
    "\n",
    "Para khun2, vamos a diseñar una función de evaluación \"dummy\" o simplificada. Esta función no necesariamente buscará optimizar el juego del agente, sino que estará diseñada para ilustrar cómo diferentes estados del juego son valorados y cómo esto afecta las decisiones del agente. La función considerará elementos como:\n",
    "\n",
    "- La carta en mano del agente.\n",
    "- La ultima acción realizada por el opoente.\n",
    "\n",
    "Este enfoque \"dummy\" nos permite visualizar y entender mejor el impacto directo de la función de evaluación en la estrategia del agente."
   ]
  },
  {
   "cell_type": "code",
   "execution_count": 15,
   "metadata": {},
   "outputs": [],
   "source": [
    "def evaluate_kuhn_state(game: AlternatingGame, agent: AgentID):\n",
    "    its_my_turn = game.agent_selection == agent\n",
    "    if game.done() or game.terminated():\n",
    "        return game.rewards[agent]\n",
    "    \n",
    "    observation = game.observe(agent)\n",
    "    value = 0\n",
    "\n",
    "    hand = observation[0]\n",
    "\n",
    "    if hand == '2':  # tengo K\n",
    "        value = 1\n",
    "    elif hand == '1': # tengo Q\n",
    "        value = 0\n",
    "    else: # tengo J\n",
    "        value -= 1\n",
    "\n",
    "    # veo la ultima accion del oponente\n",
    "    if len(observation) >= 2:\n",
    "        last_oponent_action = observation[-1 if its_my_turn else -2]\n",
    "        if last_oponent_action == 'b':\n",
    "            value-= 0.5 # en caso que haya apostado, le resto 0.5\n",
    "        elif last_oponent_action == 'p':\n",
    "            value+= 0.5 # en caso que haya pasado, le sumo 0.5\n",
    "\n",
    "    return value"
   ]
  },
  {
   "cell_type": "code",
   "execution_count": 16,
   "metadata": {},
   "outputs": [],
   "source": [
    "khun2.reset() # Reseteamos el juego\n",
    "\n",
    "# CFR con evaluación de estados con profundidad 2 y función de evaluación\n",
    "cfr_agent_with_eval = EnhancedCounterFactualRegret(game=khun2, agent=khun2.agents[0], value_estimator=evaluate_kuhn_state, max_depth=2)\n",
    "random_agent = RandomAgent(game=khun2, agent=khun2.agents[1])\n",
    "\n",
    "agents = {\n",
    "    khun2.agents[0]: cfr_agent_with_eval,\n",
    "    khun2.agents[1]: random_agent\n",
    "}"
   ]
  },
  {
   "cell_type": "code",
   "execution_count": 17,
   "metadata": {},
   "outputs": [
    {
     "name": "stderr",
     "output_type": "stream",
     "text": [
      "100%|██████████| 10000/10000 [00:13<00:00, 753.34it/s]\n"
     ]
    }
   ],
   "source": [
    "cfr_agent_with_eval.train(KHUN2_TRAINING_STEPS)"
   ]
  },
  {
   "cell_type": "markdown",
   "metadata": {},
   "source": [
    "Como era de esperar el tiempo de entrenamiento es menor que el de la versión sin estimación de valor, ya que no se necesita explorar todo el árbol de juego."
   ]
  },
  {
   "cell_type": "code",
   "execution_count": 18,
   "metadata": {},
   "outputs": [
    {
     "name": "stdout",
     "output_type": "stream",
     "text": [
      "0\t agent_0\t [0.69008162 0.30991838]\n",
      "0b\t agent_1\t [9.99845440e-01 1.54559505e-04]\n",
      "0p\t agent_1\t [1.54559505e-04 9.99845440e-01]\n",
      "1\t agent_0\t [0.59191693 0.40808307]\n",
      "1b\t agent_1\t [0.50269624 0.49730376]\n",
      "1p\t agent_1\t [0.99702026 0.00297974]\n",
      "2\t agent_0\t [1.49611011e-04 9.99850389e-01]\n",
      "2b\t agent_1\t [1.46541618e-04 9.99853458e-01]\n",
      "2p\t agent_1\t [0.00190504 0.99809496]\n"
     ]
    }
   ],
   "source": [
    "print_strategy(cfr_agent_with_eval)"
   ]
  },
  {
   "cell_type": "markdown",
   "metadata": {},
   "source": [
    "Podemos ver que solo guarda los nodos de information set hasta la profundidad indicada."
   ]
  },
  {
   "cell_type": "code",
   "execution_count": 19,
   "metadata": {},
   "outputs": [
    {
     "name": "stderr",
     "output_type": "stream",
     "text": [
      "100%|██████████| 1000000/1000000 [01:31<00:00, 10987.83it/s]\n"
     ]
    },
    {
     "name": "stdout",
     "output_type": "stream",
     "text": [
      "0.179287\n"
     ]
    }
   ],
   "source": [
    "_, mean_reward = run(khun2, agents, KHUN2_GAME_ROUNDS)\n",
    "\n",
    "print(mean_reward)"
   ]
  },
  {
   "cell_type": "markdown",
   "metadata": {},
   "source": [
    "### Monte Carlo Tree Search\n",
    "\n",
    "#### Importancia de la Estimación en Juegos de Complejos\n",
    "\n",
    "En el contexto de juegos de información imperfecta como Leduc Poker, la estimación de valor se vuelve crucial debido a la complejidad y la variabilidad inherentes en estos juegos. Leduc Poker, un juego más complejo que Kuhn Poker, ofrece un escenario perfecto para aplicar y evaluar la efectividad de Monte Carlo Tree Search (MCTS).\n",
    "\n",
    "#### Desafíos Específicos de Leduc Poker\n",
    "\n",
    "Leduc Poker presenta desafíos únicos, como rondas de apuestas y una fase de revelación que cambia significativamente el estado del juego. Estos elementos añaden una capa de complejidad que hace que la exploración exhaustiva del árbol de juego sea poco práctica. Aquí es donde MCTS, con su enfoque en la exploración equilibrada y la explotación basada en simulaciones aleatorias, muestra su fuerza.\n",
    "\n",
    "#### Monte Carlo Tree Search (MCTS) y su Aplicación en Leduc Poker\n",
    "\n",
    "MCTS es una técnica poderosa para la toma de decisiones en juegos. Se basa en la construcción de un árbol de decisiones a través de simulaciones aleatorias y luego selecciona la mejor acción basándose en los resultados de estas simulaciones.\n",
    "\n",
    "1. **Exploración y Explotación**: MCTS equilibra entre explorar nuevas acciones y explotar las que han demostrado ser efectivas en simulaciones previas. Este equilibrio es crucial en juegos como Leduc Poker, donde el espacio de decisiones es extenso y complejo.\n",
    "\n",
    "2. **Simulaciones Aleatorias**: A través de simulaciones aleatorias, MCTS puede manejar efectivamente la incertidumbre y la variabilidad en Leduc Poker, permitiendo al algoritmo considerar una amplia gama de posibilidades y escenarios potenciales.\n",
    "\n",
    "3. **Selección de Acciones**: Utilizando la estrategia Upper Confidence Bound (UCB) para árboles, MCTS mejora progresivamente su selección de acciones, llevando a una toma de decisiones más informada y estratégica a medida que avanza el juego.\n",
    "\n",
    "> nota: La implementación permite utilizar otro tipo de estrategia de selección de acciones.\n",
    "\n",
    "4. **Retropropagación**: Los resultados de cada simulación se utilizan para actualizar la información en el árbol, asegurando que las decisiones futuras se basen en el aprendizaje acumulado.\n",
    "\n",
    "5. **Implementación en Leduc Poker**: Dada la complejidad de Leduc Poker, MCTS ofrece una manera efectiva de navegar por el espacio de decisiones del juego. La implementación de MCTS en este contexto requiere considerar las peculiaridades del juego, incluyendo las rondas de apuestas y el elemento de información oculta.\n",
    "\n",
    "#### Retos y Consideraciones\n",
    "\n",
    "- **Tiempo de Entrenamiento**: Dado el espacio de estados y la complejidad de Leduc Poker, una cantidad significativa de simulaciones puede ser necesaria para alcanzar un rendimiento óptimo. Esto implica que la ejecución del algoritmo MCTS puede requerir un tiempo de entrenamiento considerable.\n",
    "\n",
    "- **Eficiencia y Optimización**: Ajustar los parámetros de MCTS, como el número de simulaciones y rollouts, es fundamental para equilibrar entre la eficiencia computacional y la efectividad del algoritmo."
   ]
  },
  {
   "cell_type": "code",
   "execution_count": 20,
   "metadata": {},
   "outputs": [],
   "source": [
    "# definimos una función para evaluar el juego con MCTS mientras entrenamos\n",
    "def mcts_evaluate(game: AlternatingGame, agent: AgentID):\n",
    "    if game.done() or game.terminated():\n",
    "        return game.rewards[agent]\n",
    "    else:\n",
    "        mcts = MonteCarloTreeSearch(game=game, agent=agent, simulations=100, rollouts=10)\n",
    "        return mcts.estimate()"
   ]
  },
  {
   "cell_type": "code",
   "execution_count": 21,
   "metadata": {},
   "outputs": [],
   "source": [
    "# En caso de no tener el infoset guardado, se puede usar la función de evaluación de estados\n",
    "def mcts_action(game: AlternatingGame, agent: AgentID):\n",
    "    mcts = MonteCarloTreeSearch(game=game, agent=agent, simulations=3, rollouts=1)\n",
    "    return mcts.action()"
   ]
  },
  {
   "cell_type": "markdown",
   "metadata": {},
   "source": [
    "> Cabe destacar que debido al ambiente PettingZoo, cuando clonamos el entorno, se clona el estado del juego incluyendo las cartas de los jugadores (oponentes), esto hará que el agente si hace suficientes simulaciones, pueda saber las cartas de los oponentes, lo cual no es posible en la realidad. Para evitar esto, se limita el número de simulaciones a solo unas cuantas."
   ]
  },
  {
   "cell_type": "code",
   "execution_count": 22,
   "metadata": {},
   "outputs": [],
   "source": [
    "leduc = Leduc()\n",
    "leduc.reset() # Reseteamos el juego\n",
    "\n",
    "# Creamos los agentes\n",
    "cfr_agent_with_mcts = EnhancedCounterFactualRegret(game=leduc, agent=leduc.agents[0], value_estimator=mcts_evaluate, max_depth=3, action_selection=mcts_action)\n",
    "random_agent = RandomAgent(game=leduc, agent=leduc.agents[1])\n",
    "\n",
    "agents = {\n",
    "    leduc.agents[0]: cfr_agent_with_mcts,\n",
    "    leduc.agents[1]: random_agent\n",
    "}"
   ]
  },
  {
   "cell_type": "code",
   "execution_count": null,
   "metadata": {},
   "outputs": [],
   "source": [
    "iter = []\n",
    "avg_rewards = []\n",
    "\n",
    "# creamos una funcion para loguear el entrenamiento y su evolucion\n",
    "def log_training(agent, iteration):\n",
    "    _, mean_reward = run(leduc, agents, 5000)\n",
    "    avg_rewards.append(mean_reward)\n",
    "    iter.append(iteration)\n",
    "\n",
    "# entrenamos y cada 50 iteraciones evaluamos el agente\n",
    "cfr_agent_with_mcts.train(5_000, log_training, 50)"
   ]
  },
  {
   "cell_type": "code",
   "execution_count": 24,
   "metadata": {},
   "outputs": [
    {
     "name": "stderr",
     "output_type": "stream",
     "text": [
      "No artists with labels found to put in legend.  Note that artists whose label start with an underscore are ignored when legend() is called with no argument.\n"
     ]
    },
    {
     "data": {
      "image/png": "[encoded data removed]",
      "text/plain": [
       "<Figure size 640x480 with 1 Axes>"
      ]
     },
     "metadata": {},
     "output_type": "display_data"
    }
   ],
   "source": [
    "plot_rewards(avg_rewards, iter)"
   ]
  },
  {
   "cell_type": "markdown",
   "metadata": {},
   "source": [
    "Tras implementar y entrenar nuestro agente usando CFR y MCTS en Leduc Poker, hemos realizado varias partidas contra un agente que elige acciones de manera aleatoria. Los resultados de estas partidas han sido prometedores, demostrando que nuestro agente CFR-MCTS, en promedio, mantiene un saldo positivo frente a estrategias no optimizadas. Esta constatación es un indicador inicial de la efectividad de nuestra implementación de MCTS en Leduc Poker.\n",
    "\n",
    "> Sin embargo, es importante para futuros trabajos profundizar en la evaluación y optimización de los parámetros de MCTS, eso implica un análisis más detallado de los resultados obtenidos y la experimentación con diferentes configuraciones de parámetros, asi como la evolución de la estrategia del agente a lo largo de las iteraciones.\n",
    "\n",
    "> Por ultimo, comparar el rendimiento de MCTS con otras técnicas de estimación de valor, como las funciones de evaluación, sería un paso importante para evaluar la efectividad de MCTS en Leduc Poker."
   ]
  },
  {
   "cell_type": "markdown",
   "metadata": {},
   "source": [
    "## Conclusión\n",
    "\n",
    "En este trabajo, hemos explorado y aplicado técnicas avanzadas de aprendizaje por refuerzo en el contexto de juegos alternados de múltiples jugadores, con un enfoque particular en el algoritmo Counterfactual Regret Minimization (CFR) y Monte Carlo Tree Search (MCTS).\n",
    "\n",
    "### Principales Logros\n",
    "\n",
    "1. **Implementación y Experimentación con CFR**: Hemos implementado con éxito el algoritmo CFR y lo hemos aplicado en el juego de Kuhn Poker, tanto para dos como para tres jugadores. A través de nuestra implementación `EnhancedCounterFactualRegret`, hemos demostrado cómo la estimación de valor en ciertas profundidades puede mejorar la eficiencia del algoritmo en juegos de información imperfecta.\n",
    "\n",
    "2. **Monte Carlo Tree Search en Leduc Poker**: La aplicación de MCTS en Leduc Poker ha sido un desafío emocionante. Hemos demostrado que, incluso en un juego con mayor complejidad estratégica que Kuhn Poker, MCTS es una herramienta poderosa para navegar por el espacio de decisiones. Nuestros experimentos han mostrado que el agente MCTS puede superar consistentemente a los agentes que toman decisiones aleatorias.\n",
    "\n",
    "### Observaciones Clave\n",
    "\n",
    "- La eficacia de las funciones de evaluación 'hardcodeadas' y cómo influyen en la estrategia y las decisiones de los agentes.\n",
    "- La importancia de equilibrar la exploración y la explotación en MCTS, especialmente en juegos con un amplio espacio de estados y elementos de información oculta.\n",
    "- Los retos asociados con la implementación de estas técnicas en juegos de información imperfecta y cómo abordarlos.\n",
    "\n",
    "### Futuras Direcciones\n",
    "\n",
    "Mirando hacia el futuro, hay varias áreas emocionantes para continuar este trabajo:\n",
    "\n",
    "1. **Comparación con Agentes Más Avanzados**: Una dirección clave es comparar el rendimiento de nuestros agentes con agentes que utilizan estrategias más sofisticadas, lo que nos permitirá entender mejor el panorama competitivo de juegos como Leduc Poker.\n",
    "\n",
    "2. **Optimización y Ajuste Fino**: Existe el potencial para seguir refinando nuestros algoritmos, explorando diferentes parámetros y técnicas para mejorar aún más el rendimiento.\n",
    "\n",
    "3. **Aplicación en Otros Juegos**: Extender nuestras técnicas a una variedad más amplia de juegos de información imperfecta podría proporcionar insights valiosos sobre su generalización y adaptabilidad.\n",
    "\n",
    "En resumen, este proyecto ha establecido una base sólida para el uso de técnicas avanzadas de aprendizaje por refuerzo en juegos alternados de múltiples jugadores y ha abierto varias vías emocionantes para futuras investigaciones y desarrollos en el campo de la inteligencia artificial aplicada a juegos."
   ]
  },
  {
   "cell_type": "markdown",
   "metadata": {},
   "source": [
    "## Referencias\n",
    "\n",
    "- [PettingZoo: Gym for Multi-Agent Reinforcement Learning](https://arxiv.org/abs/2009.14471)\n",
    "- [Regret Circuits: Composability of Regret Minimizers](https://blog.ml.cmu.edu/2019/08/02/regret-circuits-composability-of-regret-minimizers/)\n",
    "- [Khun Poker](https://en.wikipedia.org/wiki/Kuhn_poker)\n",
    "- [Equilibrio de Nash](https://es.wikipedia.org/wiki/Equilibrio_de_Nash)\n",
    "- [Farol (envite)](https://es.wikipedia.org/wiki/Farol_(envite))"
   ]
  },
  {
   "cell_type": "markdown",
   "metadata": {},
   "source": [
    "## Descargo de Responsabilidad\n",
    "\n",
    "### Participación de la Inteligencia Artificial en la Composición del Texto\n",
    "\n",
    "Este documento incluye secciones cuya composición textual ha sido asistida por una Inteligencia Artificial (IA). Es importante destacar que, aunque la IA ha contribuido en la redacción de ciertas partes del texto para mejorar la claridad y estructura del mismo, los siguientes elementos son enteramente responsabilidad del alumno:\n",
    "\n",
    "- **Desarrollo del Código**: Todo el código presente en este trabajo ha sido desarrollado y escrito por el alumno, reflejando su comprensión y aplicación práctica de los conceptos aprendidos.\n",
    "- **Conclusiones**: Las conclusiones extraídas de la experimentación y análisis son fruto del criterio y razonamiento del alumno, basadas en los resultados obtenidos y las observaciones realizadas durante el desarrollo del proyecto.\n",
    "- **Decisiones Metodológicas y Conceptuales**: Todas las decisiones relacionadas con la metodología, enfoque del proyecto, y la interpretación de los conceptos teóricos son producto del trabajo independiente del alumno.\n",
    "\n",
    "### Propósito de la Asistencia de IA\n",
    "\n",
    "El uso de la IA se ha limitado a proporcionar asistencia en la redacción para facilitar una comunicación clara y efectiva. En ningún momento, la IA ha influido en las decisiones técnicas, analíticas o conceptuales que conforman la esencia y los resultados del proyecto."
   ]
  }
 ],
 "metadata": {
  "kernelspec": {
   "display_name": "Python 3",
   "language": "python",
   "name": "python3"
  },
  "language_info": {
   "codemirror_mode": {
    "name": "ipython",
    "version": 3
   },
   "file_extension": ".py",
   "mimetype": "text/x-python",
   "name": "python",
   "nbconvert_exporter": "python",
   "pygments_lexer": "ipython3",
   "version": "3.11.5"
  }
 },
 "nbformat": 4,
 "nbformat_minor": 2
}
