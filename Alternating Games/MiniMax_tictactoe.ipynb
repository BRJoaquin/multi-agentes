{
 "cells": [
  {
   "cell_type": "code",
   "execution_count": 1,
   "metadata": {},
   "outputs": [],
   "source": [
    "from games.tictactoe import TicTacToe\n",
    "from agents.agent_random import RandomAgent\n",
    "from agents.counterfactualregret import CounterFactualRegret\n",
    "from agents.minimax import MiniMax\n",
    "from base.utils import play, run\n",
    "import numpy as np"
   ]
  },
  {
   "cell_type": "code",
   "execution_count": 2,
   "metadata": {},
   "outputs": [],
   "source": [
    "game = TicTacToe(render_mode='')"
   ]
  },
  {
   "cell_type": "code",
   "execution_count": 3,
   "metadata": {},
   "outputs": [
    {
     "data": {
      "text/plain": [
       "({-1: 25, 0: 18, 1: 57}, 0.32)"
      ]
     },
     "execution_count": 3,
     "metadata": {},
     "output_type": "execute_result"
    }
   ],
   "source": [
    "agents = dict(map(lambda agent: (agent, RandomAgent(game=game, agent=agent)), game.agents))\n",
    "run(game=game, agents=agents)"
   ]
  },
  {
   "cell_type": "code",
   "execution_count": 5,
   "metadata": {},
   "outputs": [
    {
     "name": "stderr",
     "output_type": "stream",
     "text": [
      "  0%|          | 0/1 [00:00<?, ?it/s]\n"
     ]
    },
    {
     "ename": "AttributeError",
     "evalue": "'NoneType' object has no attribute 'get_average_strategy'",
     "output_type": "error",
     "traceback": [
      "\u001b[0;31m---------------------------------------------------------------------------\u001b[0m",
      "\u001b[0;31mAttributeError\u001b[0m                            Traceback (most recent call last)",
      "\u001b[1;32m/Users/joaquinvigna/Documents/multi-agentes/Alternating Games/MiniMax_tictactoe.ipynb Cell 4\u001b[0m line \u001b[0;36m2\n\u001b[1;32m      <a href='vscode-notebook-cell:/Users/joaquinvigna/Documents/multi-agentes/Alternating%20Games/MiniMax_tictactoe.ipynb#X12sZmlsZQ%3D%3D?line=0'>1</a>\u001b[0m cfr \u001b[39m=\u001b[39m CounterFactualRegret(game\u001b[39m=\u001b[39mgame, agent\u001b[39m=\u001b[39mgame\u001b[39m.\u001b[39magents[\u001b[39m0\u001b[39m])\n\u001b[0;32m----> <a href='vscode-notebook-cell:/Users/joaquinvigna/Documents/multi-agentes/Alternating%20Games/MiniMax_tictactoe.ipynb#X12sZmlsZQ%3D%3D?line=1'>2</a>\u001b[0m cfr\u001b[39m.\u001b[39mtrain(niter\u001b[39m=\u001b[39m\u001b[39m1\u001b[39m)\n\u001b[1;32m      <a href='vscode-notebook-cell:/Users/joaquinvigna/Documents/multi-agentes/Alternating%20Games/MiniMax_tictactoe.ipynb#X12sZmlsZQ%3D%3D?line=3'>4</a>\u001b[0m agents[game\u001b[39m.\u001b[39magents[\u001b[39m0\u001b[39m]] \u001b[39m=\u001b[39m cfr\n\u001b[1;32m      <a href='vscode-notebook-cell:/Users/joaquinvigna/Documents/multi-agentes/Alternating%20Games/MiniMax_tictactoe.ipynb#X12sZmlsZQ%3D%3D?line=4'>5</a>\u001b[0m run(game\u001b[39m=\u001b[39mgame, agents\u001b[39m=\u001b[39magents, N\u001b[39m=\u001b[39m\u001b[39m1000\u001b[39m)\n",
      "File \u001b[0;32m~/Documents/multi-agentes/Alternating Games/agents/counterfactualregret.py:63\u001b[0m, in \u001b[0;36mCounterFactualRegret.train\u001b[0;34m(self, niter)\u001b[0m\n\u001b[1;32m     61\u001b[0m \u001b[39mdef\u001b[39;00m \u001b[39mtrain\u001b[39m(\u001b[39mself\u001b[39m, niter\u001b[39m=\u001b[39m\u001b[39m1000\u001b[39m):\n\u001b[1;32m     62\u001b[0m     \u001b[39mfor\u001b[39;00m _ \u001b[39min\u001b[39;00m tqdm(\u001b[39mrange\u001b[39m(niter)):\n\u001b[0;32m---> 63\u001b[0m         \u001b[39mself\u001b[39m\u001b[39m.\u001b[39mcfr()\n",
      "File \u001b[0;32m~/Documents/multi-agentes/Alternating Games/agents/counterfactualregret.py:69\u001b[0m, in \u001b[0;36mCounterFactualRegret.cfr\u001b[0;34m(self)\u001b[0m\n\u001b[1;32m     67\u001b[0m \u001b[39mself\u001b[39m\u001b[39m.\u001b[39mgame\u001b[39m.\u001b[39mreset()\n\u001b[1;32m     68\u001b[0m probability \u001b[39m=\u001b[39m np\u001b[39m.\u001b[39mones(\u001b[39mlen\u001b[39m(\u001b[39mself\u001b[39m\u001b[39m.\u001b[39mgame\u001b[39m.\u001b[39magents))\n\u001b[0;32m---> 69\u001b[0m \u001b[39mself\u001b[39m\u001b[39m.\u001b[39mcfr_rec(game\u001b[39m=\u001b[39m\u001b[39mself\u001b[39m\u001b[39m.\u001b[39mgame\u001b[39m.\u001b[39mclone(), agent\u001b[39m=\u001b[39magent, probability\u001b[39m=\u001b[39mprobability)\n",
      "File \u001b[0;32m~/Documents/multi-agentes/Alternating Games/agents/counterfactualregret.py:82\u001b[0m, in \u001b[0;36mCounterFactualRegret.cfr_rec\u001b[0;34m(self, game, agent, probability)\u001b[0m\n\u001b[1;32m     79\u001b[0m node \u001b[39m=\u001b[39m \u001b[39mself\u001b[39m\u001b[39m.\u001b[39mnode_dict\u001b[39m.\u001b[39mget(obs)\n\u001b[1;32m     80\u001b[0m \u001b[39mself\u001b[39m\u001b[39m.\u001b[39mnode_dict[obs] \u001b[39m=\u001b[39m node\n\u001b[0;32m---> 82\u001b[0m strategy \u001b[39m=\u001b[39m node\u001b[39m.\u001b[39mget_average_strategy()\n\u001b[1;32m     83\u001b[0m utility \u001b[39m=\u001b[39m np\u001b[39m.\u001b[39mzeros(game\u001b[39m.\u001b[39mnum_actions(current_agent))\n\u001b[1;32m     84\u001b[0m node_utility \u001b[39m=\u001b[39m \u001b[39m0.0\u001b[39m\n",
      "\u001b[0;31mAttributeError\u001b[0m: 'NoneType' object has no attribute 'get_average_strategy'"
     ]
    }
   ],
   "source": [
    "cfr = CounterFactualRegret(game=game, agent=game.agents[0])\n",
    "cfr.train(niter=1)\n",
    "\n",
    "agents[game.agents[0]] = cfr\n",
    "run(game=game, agents=agents, N=1000)"
   ]
  },
  {
   "cell_type": "code",
   "execution_count": null,
   "metadata": {},
   "outputs": [],
   "source": [
    "agents[game.agents[0]] = MiniMax(game=game, agent=game.agents[0], depth=2)\n",
    "run(game=game, agents=agents, N=1000)"
   ]
  },
  {
   "cell_type": "code",
   "execution_count": null,
   "metadata": {},
   "outputs": [],
   "source": []
  },
  {
   "cell_type": "code",
   "execution_count": null,
   "metadata": {},
   "outputs": [],
   "source": [
    "agents[game.agents[1]] = MiniMax(game=game, agent=game.agents[1], depth=2)\n",
    "run(game=game, agents=agents, N=1000)"
   ]
  },
  {
   "cell_type": "code",
   "execution_count": null,
   "metadata": {},
   "outputs": [],
   "source": []
  }
 ],
 "metadata": {
  "kernelspec": {
   "display_name": "Python 3",
   "language": "python",
   "name": "python3"
  },
  "language_info": {
   "codemirror_mode": {
    "name": "ipython",
    "version": 3
   },
   "file_extension": ".py",
   "mimetype": "text/x-python",
   "name": "python",
   "nbconvert_exporter": "python",
   "pygments_lexer": "ipython3",
   "version": "3.11.4"
  },
  "orig_nbformat": 4
 },
 "nbformat": 4,
 "nbformat_minor": 2
}
